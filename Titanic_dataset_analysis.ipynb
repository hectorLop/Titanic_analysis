{
 "cells": [
  {
   "cell_type": "code",
   "execution_count": 90,
   "metadata": {
    "id": "pPPhpyV06fmX"
   },
   "outputs": [],
   "source": [
    "import pandas as pd\n",
    "import numpy as np\n",
    "\n",
    "from typing import List\n",
    "from sklearn.impute import SimpleImputer\n",
    "from sklearn.preprocessing import OrdinalEncoder\n",
    "from sklearn.base import BaseEstimator, TransformerMixin\n",
    "from sklearn.dummy import DummyClassifier\n",
    "from sklearn.metrics import accuracy_score, recall_score, precision_score\n",
    "from sklearn.pipeline import Pipeline\n",
    "from sklearn.compose import ColumnTransformer\n",
    "from sklearn.model_selection import cross_val_score, GridSearchCV\n",
    "from sklearn.preprocessing import StandardScaler\n",
    "\n",
    "from sklearn.ensemble import RandomForestClassifier\n",
    "from sklearn.linear_model import SGDClassifier\n",
    "from sklearn.neighbors import KNeighborsClassifier\n",
    "from sklearn.tree import DecisionTreeClassifier\n",
    "from sklearn.naive_bayes import GaussianNB"
   ]
  },
  {
   "cell_type": "markdown",
   "metadata": {
    "id": "r39SpI5i9U0Z"
   },
   "source": [
    "# Download data and create sets"
   ]
  },
  {
   "cell_type": "code",
   "execution_count": 26,
   "metadata": {
    "id": "XpmdqNoT6r7q"
   },
   "outputs": [],
   "source": [
    "training_data = pd.read_csv('train.csv')\n",
    "test_data = pd.read_csv('test.csv')"
   ]
  },
  {
   "cell_type": "code",
   "execution_count": 27,
   "metadata": {
    "id": "PnmQWEXm7zmI"
   },
   "outputs": [],
   "source": [
    "X_test = test_data.copy()"
   ]
  },
  {
   "cell_type": "markdown",
   "metadata": {
    "id": "0mEC3qrI9gho"
   },
   "source": [
    "# Exploratory Data Analysis\n",
    "We are going to check:\n",
    "- Type of data (categorical, int/float, bounded/unbounded, text, structured, ...)\n",
    "- Missing values\n",
    "- Noisiness (outliers, ...)\n",
    "- Usefulness\n",
    "- Type of distributions\n",
    "- Correlations between attributes\n",
    "- Identify promising transformations"
   ]
  },
  {
   "cell_type": "markdown",
   "metadata": {
    "id": "uHK_0_Yc-_c3"
   },
   "source": [
    "## Type of data"
   ]
  },
  {
   "cell_type": "code",
   "execution_count": null,
   "metadata": {
    "colab": {
     "base_uri": "https://localhost:8080/"
    },
    "id": "hc-4mhdN8aG2",
    "outputId": "a9988101-c37c-4f98-875c-7021329e27f6"
   },
   "outputs": [
    {
     "name": "stdout",
     "output_type": "stream",
     "text": [
      "<class 'pandas.core.frame.DataFrame'>\n",
      "RangeIndex: 891 entries, 0 to 890\n",
      "Data columns (total 12 columns):\n",
      " #   Column       Non-Null Count  Dtype  \n",
      "---  ------       --------------  -----  \n",
      " 0   PassengerId  891 non-null    int64  \n",
      " 1   Survived     891 non-null    int64  \n",
      " 2   Pclass       891 non-null    int64  \n",
      " 3   Name         891 non-null    object \n",
      " 4   Sex          891 non-null    object \n",
      " 5   Age          714 non-null    float64\n",
      " 6   SibSp        891 non-null    int64  \n",
      " 7   Parch        891 non-null    int64  \n",
      " 8   Ticket       891 non-null    object \n",
      " 9   Fare         891 non-null    float64\n",
      " 10  Cabin        204 non-null    object \n",
      " 11  Embarked     889 non-null    object \n",
      "dtypes: float64(2), int64(5), object(5)\n",
      "memory usage: 83.7+ KB\n"
     ]
    }
   ],
   "source": [
    "training_data.info()"
   ]
  },
  {
   "cell_type": "markdown",
   "metadata": {
    "id": "hafhm7OZ--mB"
   },
   "source": [
    "Initially we can see the following data types per attribute:\n",
    "- Integer (PassengerId, Survived, Pclass, SibSp, Parch)\n",
    "- Float (Age, Fare)\n",
    "- String (Name, Sex, Ticket, Cabin, Embarked)"
   ]
  },
  {
   "cell_type": "code",
   "execution_count": null,
   "metadata": {
    "colab": {
     "base_uri": "https://localhost:8080/",
     "height": 204
    },
    "id": "Mxh7b-Ip_14l",
    "outputId": "05914294-1375-4075-9b57-5c50e0381f86"
   },
   "outputs": [
    {
     "data": {
      "text/html": [
       "<div>\n",
       "<style scoped>\n",
       "    .dataframe tbody tr th:only-of-type {\n",
       "        vertical-align: middle;\n",
       "    }\n",
       "\n",
       "    .dataframe tbody tr th {\n",
       "        vertical-align: top;\n",
       "    }\n",
       "\n",
       "    .dataframe thead th {\n",
       "        text-align: right;\n",
       "    }\n",
       "</style>\n",
       "<table border=\"1\" class=\"dataframe\">\n",
       "  <thead>\n",
       "    <tr style=\"text-align: right;\">\n",
       "      <th></th>\n",
       "      <th>PassengerId</th>\n",
       "      <th>Survived</th>\n",
       "      <th>Pclass</th>\n",
       "      <th>Name</th>\n",
       "      <th>Sex</th>\n",
       "      <th>Age</th>\n",
       "      <th>SibSp</th>\n",
       "      <th>Parch</th>\n",
       "      <th>Ticket</th>\n",
       "      <th>Fare</th>\n",
       "      <th>Cabin</th>\n",
       "      <th>Embarked</th>\n",
       "    </tr>\n",
       "  </thead>\n",
       "  <tbody>\n",
       "    <tr>\n",
       "      <th>0</th>\n",
       "      <td>1</td>\n",
       "      <td>0</td>\n",
       "      <td>3</td>\n",
       "      <td>Braund, Mr. Owen Harris</td>\n",
       "      <td>male</td>\n",
       "      <td>22.0</td>\n",
       "      <td>1</td>\n",
       "      <td>0</td>\n",
       "      <td>A/5 21171</td>\n",
       "      <td>7.2500</td>\n",
       "      <td>NaN</td>\n",
       "      <td>S</td>\n",
       "    </tr>\n",
       "    <tr>\n",
       "      <th>1</th>\n",
       "      <td>2</td>\n",
       "      <td>1</td>\n",
       "      <td>1</td>\n",
       "      <td>Cumings, Mrs. John Bradley (Florence Briggs Th...</td>\n",
       "      <td>female</td>\n",
       "      <td>38.0</td>\n",
       "      <td>1</td>\n",
       "      <td>0</td>\n",
       "      <td>PC 17599</td>\n",
       "      <td>71.2833</td>\n",
       "      <td>C85</td>\n",
       "      <td>C</td>\n",
       "    </tr>\n",
       "    <tr>\n",
       "      <th>2</th>\n",
       "      <td>3</td>\n",
       "      <td>1</td>\n",
       "      <td>3</td>\n",
       "      <td>Heikkinen, Miss. Laina</td>\n",
       "      <td>female</td>\n",
       "      <td>26.0</td>\n",
       "      <td>0</td>\n",
       "      <td>0</td>\n",
       "      <td>STON/O2. 3101282</td>\n",
       "      <td>7.9250</td>\n",
       "      <td>NaN</td>\n",
       "      <td>S</td>\n",
       "    </tr>\n",
       "    <tr>\n",
       "      <th>3</th>\n",
       "      <td>4</td>\n",
       "      <td>1</td>\n",
       "      <td>1</td>\n",
       "      <td>Futrelle, Mrs. Jacques Heath (Lily May Peel)</td>\n",
       "      <td>female</td>\n",
       "      <td>35.0</td>\n",
       "      <td>1</td>\n",
       "      <td>0</td>\n",
       "      <td>113803</td>\n",
       "      <td>53.1000</td>\n",
       "      <td>C123</td>\n",
       "      <td>S</td>\n",
       "    </tr>\n",
       "    <tr>\n",
       "      <th>4</th>\n",
       "      <td>5</td>\n",
       "      <td>0</td>\n",
       "      <td>3</td>\n",
       "      <td>Allen, Mr. William Henry</td>\n",
       "      <td>male</td>\n",
       "      <td>35.0</td>\n",
       "      <td>0</td>\n",
       "      <td>0</td>\n",
       "      <td>373450</td>\n",
       "      <td>8.0500</td>\n",
       "      <td>NaN</td>\n",
       "      <td>S</td>\n",
       "    </tr>\n",
       "  </tbody>\n",
       "</table>\n",
       "</div>"
      ],
      "text/plain": [
       "   PassengerId  Survived  Pclass  ...     Fare Cabin  Embarked\n",
       "0            1         0       3  ...   7.2500   NaN         S\n",
       "1            2         1       1  ...  71.2833   C85         C\n",
       "2            3         1       3  ...   7.9250   NaN         S\n",
       "3            4         1       1  ...  53.1000  C123         S\n",
       "4            5         0       3  ...   8.0500   NaN         S\n",
       "\n",
       "[5 rows x 12 columns]"
      ]
     },
     "execution_count": 7,
     "metadata": {
      "tags": []
     },
     "output_type": "execute_result"
    }
   ],
   "source": [
    "training_data.head()"
   ]
  },
  {
   "cell_type": "markdown",
   "metadata": {
    "id": "VI-gunKcABBO"
   },
   "source": [
    "**Survived** is the target value. Also, the **_Age_** attribute is continuous because either when it is less than 1 or it is estimated, it is fractional.  \n",
    "Some attribute related explanation:\n",
    "- Survival: Survival (0 = No, 1 = Yes)\n",
    "- Pclass: Ticket class (1 = 1st, 2 = 2nd, 3 = 3rd)\n",
    "- SibSP: Number of siblings or spouses aboard\n",
    "- Parch: Number of parents or children aboard\n",
    "- Ticket: Ticket number\n",
    "- Fare: Passenger fare \n",
    "- Cabin: Cabin number\n",
    "- Embarked: Port of embarkation (C = Cherbourg, Q = Queenstown, S = Southampton)\n",
    "\n",
    "Also, let's check each attribute statistics independently"
   ]
  },
  {
   "cell_type": "markdown",
   "metadata": {
    "id": "c7ORMo4UEb9C"
   },
   "source": [
    "### Age"
   ]
  },
  {
   "cell_type": "code",
   "execution_count": null,
   "metadata": {
    "colab": {
     "base_uri": "https://localhost:8080/",
     "height": 793
    },
    "id": "hepuG3Z53Qgx",
    "outputId": "1a31ada2-487a-4e73-d8a1-c9be56ad68ca"
   },
   "outputs": [
    {
     "data": {
      "text/html": [
       "<div>\n",
       "<style scoped>\n",
       "    .dataframe tbody tr th:only-of-type {\n",
       "        vertical-align: middle;\n",
       "    }\n",
       "\n",
       "    .dataframe tbody tr th {\n",
       "        vertical-align: top;\n",
       "    }\n",
       "\n",
       "    .dataframe thead th {\n",
       "        text-align: right;\n",
       "    }\n",
       "</style>\n",
       "<table border=\"1\" class=\"dataframe\">\n",
       "  <thead>\n",
       "    <tr style=\"text-align: right;\">\n",
       "      <th></th>\n",
       "      <th>Age</th>\n",
       "      <th>Age</th>\n",
       "    </tr>\n",
       "  </thead>\n",
       "  <tbody>\n",
       "    <tr>\n",
       "      <th>count</th>\n",
       "      <td>424.000000</td>\n",
       "      <td>290.000000</td>\n",
       "    </tr>\n",
       "    <tr>\n",
       "      <th>mean</th>\n",
       "      <td>30.626179</td>\n",
       "      <td>28.343690</td>\n",
       "    </tr>\n",
       "    <tr>\n",
       "      <th>std</th>\n",
       "      <td>14.172110</td>\n",
       "      <td>14.950952</td>\n",
       "    </tr>\n",
       "    <tr>\n",
       "      <th>min</th>\n",
       "      <td>1.000000</td>\n",
       "      <td>0.420000</td>\n",
       "    </tr>\n",
       "    <tr>\n",
       "      <th>5%</th>\n",
       "      <td>9.000000</td>\n",
       "      <td>2.450000</td>\n",
       "    </tr>\n",
       "    <tr>\n",
       "      <th>10%</th>\n",
       "      <td>16.000000</td>\n",
       "      <td>5.000000</td>\n",
       "    </tr>\n",
       "    <tr>\n",
       "      <th>15%</th>\n",
       "      <td>18.000000</td>\n",
       "      <td>14.000000</td>\n",
       "    </tr>\n",
       "    <tr>\n",
       "      <th>20%</th>\n",
       "      <td>19.600000</td>\n",
       "      <td>17.000000</td>\n",
       "    </tr>\n",
       "    <tr>\n",
       "      <th>25%</th>\n",
       "      <td>21.000000</td>\n",
       "      <td>19.000000</td>\n",
       "    </tr>\n",
       "    <tr>\n",
       "      <th>30%</th>\n",
       "      <td>22.000000</td>\n",
       "      <td>21.700000</td>\n",
       "    </tr>\n",
       "    <tr>\n",
       "      <th>35%</th>\n",
       "      <td>24.000000</td>\n",
       "      <td>23.000000</td>\n",
       "    </tr>\n",
       "    <tr>\n",
       "      <th>40%</th>\n",
       "      <td>25.000000</td>\n",
       "      <td>24.000000</td>\n",
       "    </tr>\n",
       "    <tr>\n",
       "      <th>45%</th>\n",
       "      <td>27.000000</td>\n",
       "      <td>27.000000</td>\n",
       "    </tr>\n",
       "    <tr>\n",
       "      <th>50%</th>\n",
       "      <td>28.000000</td>\n",
       "      <td>28.000000</td>\n",
       "    </tr>\n",
       "    <tr>\n",
       "      <th>55%</th>\n",
       "      <td>30.000000</td>\n",
       "      <td>30.000000</td>\n",
       "    </tr>\n",
       "    <tr>\n",
       "      <th>60%</th>\n",
       "      <td>31.800000</td>\n",
       "      <td>31.400000</td>\n",
       "    </tr>\n",
       "    <tr>\n",
       "      <th>65%</th>\n",
       "      <td>34.000000</td>\n",
       "      <td>33.000000</td>\n",
       "    </tr>\n",
       "    <tr>\n",
       "      <th>70%</th>\n",
       "      <td>36.000000</td>\n",
       "      <td>35.000000</td>\n",
       "    </tr>\n",
       "    <tr>\n",
       "      <th>75%</th>\n",
       "      <td>39.000000</td>\n",
       "      <td>36.000000</td>\n",
       "    </tr>\n",
       "    <tr>\n",
       "      <th>80%</th>\n",
       "      <td>42.000000</td>\n",
       "      <td>40.000000</td>\n",
       "    </tr>\n",
       "    <tr>\n",
       "      <th>85%</th>\n",
       "      <td>45.500000</td>\n",
       "      <td>44.000000</td>\n",
       "    </tr>\n",
       "    <tr>\n",
       "      <th>90%</th>\n",
       "      <td>50.000000</td>\n",
       "      <td>49.000000</td>\n",
       "    </tr>\n",
       "    <tr>\n",
       "      <th>95%</th>\n",
       "      <td>58.000000</td>\n",
       "      <td>54.000000</td>\n",
       "    </tr>\n",
       "    <tr>\n",
       "      <th>max</th>\n",
       "      <td>74.000000</td>\n",
       "      <td>80.000000</td>\n",
       "    </tr>\n",
       "  </tbody>\n",
       "</table>\n",
       "</div>"
      ],
      "text/plain": [
       "              Age         Age\n",
       "count  424.000000  290.000000\n",
       "mean    30.626179   28.343690\n",
       "std     14.172110   14.950952\n",
       "min      1.000000    0.420000\n",
       "5%       9.000000    2.450000\n",
       "10%     16.000000    5.000000\n",
       "15%     18.000000   14.000000\n",
       "20%     19.600000   17.000000\n",
       "25%     21.000000   19.000000\n",
       "30%     22.000000   21.700000\n",
       "35%     24.000000   23.000000\n",
       "40%     25.000000   24.000000\n",
       "45%     27.000000   27.000000\n",
       "50%     28.000000   28.000000\n",
       "55%     30.000000   30.000000\n",
       "60%     31.800000   31.400000\n",
       "65%     34.000000   33.000000\n",
       "70%     36.000000   35.000000\n",
       "75%     39.000000   36.000000\n",
       "80%     42.000000   40.000000\n",
       "85%     45.500000   44.000000\n",
       "90%     50.000000   49.000000\n",
       "95%     58.000000   54.000000\n",
       "max     74.000000   80.000000"
      ]
     },
     "execution_count": 8,
     "metadata": {
      "tags": []
     },
     "output_type": "execute_result"
    }
   ],
   "source": [
    "pd.concat([training_data[training_data['Survived'] == 0]['Age'].describe(percentiles=np.arange(0.05, 1, 0.05)),\n",
    "           training_data[training_data['Survived'] == 1]['Age'].describe(percentiles=np.arange(0.05, 1, 0.05))], axis=1)"
   ]
  },
  {
   "cell_type": "markdown",
   "metadata": {
    "id": "VigE8YX34Ydy"
   },
   "source": [
    "Let's going to check the _Age_ statistics among survivors and no survivors.  \n",
    "**No Survivors**:\n",
    "- The mean age was 30 years old\n",
    "- The youngest passenger was 1 year old and over 5% of passengers were childs under 9 years.\n",
    "- 20% of the passengers were teenagers (from 9 to under 21 years)\n",
    "- 20% were young adults (from 21 to under 27)\n",
    "- 45% were adults (from 27 to under 50 years)\n",
    "- 15% were old people (from 50 to 74 years old, which is the maximum)\n",
    "\n",
    "**Survivors**:\n",
    "- The mean age was 28 years and the youngest passenger was 0.42 years.\n",
    "- 15% were under 14 years, being a 5% under 2.45 years\n",
    "- 15% were from 14 to under 21 years.\n",
    "- 15% were young adults (from 21 to under 27)\n",
    "- 40% were adults (from 27 to under 49)\n",
    "- 15% were old people (from 49 to 80 years, which is the maximum)\n",
    "\n",
    "So among the survivors there are more number of childs and babies, which makes sense. **We could check if they were from rich families**."
   ]
  },
  {
   "cell_type": "code",
   "execution_count": null,
   "metadata": {
    "colab": {
     "base_uri": "https://localhost:8080/",
     "height": 793
    },
    "id": "uxQe6jkM85_Z",
    "outputId": "c8f645c4-df15-44b4-f772-1bc64e449f6d"
   },
   "outputs": [
    {
     "data": {
      "text/html": [
       "<div>\n",
       "<style scoped>\n",
       "    .dataframe tbody tr th:only-of-type {\n",
       "        vertical-align: middle;\n",
       "    }\n",
       "\n",
       "    .dataframe tbody tr th {\n",
       "        vertical-align: top;\n",
       "    }\n",
       "\n",
       "    .dataframe thead th {\n",
       "        text-align: right;\n",
       "    }\n",
       "</style>\n",
       "<table border=\"1\" class=\"dataframe\">\n",
       "  <thead>\n",
       "    <tr style=\"text-align: right;\">\n",
       "      <th></th>\n",
       "      <th>Pclass</th>\n",
       "      <th>Pclass</th>\n",
       "    </tr>\n",
       "  </thead>\n",
       "  <tbody>\n",
       "    <tr>\n",
       "      <th>count</th>\n",
       "      <td>29.000000</td>\n",
       "      <td>42.000000</td>\n",
       "    </tr>\n",
       "    <tr>\n",
       "      <th>mean</th>\n",
       "      <td>2.931034</td>\n",
       "      <td>2.428571</td>\n",
       "    </tr>\n",
       "    <tr>\n",
       "      <th>std</th>\n",
       "      <td>0.371391</td>\n",
       "      <td>0.630248</td>\n",
       "    </tr>\n",
       "    <tr>\n",
       "      <th>min</th>\n",
       "      <td>1.000000</td>\n",
       "      <td>1.000000</td>\n",
       "    </tr>\n",
       "    <tr>\n",
       "      <th>5%</th>\n",
       "      <td>3.000000</td>\n",
       "      <td>1.050000</td>\n",
       "    </tr>\n",
       "    <tr>\n",
       "      <th>10%</th>\n",
       "      <td>3.000000</td>\n",
       "      <td>2.000000</td>\n",
       "    </tr>\n",
       "    <tr>\n",
       "      <th>15%</th>\n",
       "      <td>3.000000</td>\n",
       "      <td>2.000000</td>\n",
       "    </tr>\n",
       "    <tr>\n",
       "      <th>20%</th>\n",
       "      <td>3.000000</td>\n",
       "      <td>2.000000</td>\n",
       "    </tr>\n",
       "    <tr>\n",
       "      <th>25%</th>\n",
       "      <td>3.000000</td>\n",
       "      <td>2.000000</td>\n",
       "    </tr>\n",
       "    <tr>\n",
       "      <th>30%</th>\n",
       "      <td>3.000000</td>\n",
       "      <td>2.000000</td>\n",
       "    </tr>\n",
       "    <tr>\n",
       "      <th>35%</th>\n",
       "      <td>3.000000</td>\n",
       "      <td>2.000000</td>\n",
       "    </tr>\n",
       "    <tr>\n",
       "      <th>40%</th>\n",
       "      <td>3.000000</td>\n",
       "      <td>2.000000</td>\n",
       "    </tr>\n",
       "    <tr>\n",
       "      <th>45%</th>\n",
       "      <td>3.000000</td>\n",
       "      <td>2.000000</td>\n",
       "    </tr>\n",
       "    <tr>\n",
       "      <th>50%</th>\n",
       "      <td>3.000000</td>\n",
       "      <td>2.500000</td>\n",
       "    </tr>\n",
       "    <tr>\n",
       "      <th>55%</th>\n",
       "      <td>3.000000</td>\n",
       "      <td>3.000000</td>\n",
       "    </tr>\n",
       "    <tr>\n",
       "      <th>60%</th>\n",
       "      <td>3.000000</td>\n",
       "      <td>3.000000</td>\n",
       "    </tr>\n",
       "    <tr>\n",
       "      <th>65%</th>\n",
       "      <td>3.000000</td>\n",
       "      <td>3.000000</td>\n",
       "    </tr>\n",
       "    <tr>\n",
       "      <th>70%</th>\n",
       "      <td>3.000000</td>\n",
       "      <td>3.000000</td>\n",
       "    </tr>\n",
       "    <tr>\n",
       "      <th>75%</th>\n",
       "      <td>3.000000</td>\n",
       "      <td>3.000000</td>\n",
       "    </tr>\n",
       "    <tr>\n",
       "      <th>80%</th>\n",
       "      <td>3.000000</td>\n",
       "      <td>3.000000</td>\n",
       "    </tr>\n",
       "    <tr>\n",
       "      <th>85%</th>\n",
       "      <td>3.000000</td>\n",
       "      <td>3.000000</td>\n",
       "    </tr>\n",
       "    <tr>\n",
       "      <th>90%</th>\n",
       "      <td>3.000000</td>\n",
       "      <td>3.000000</td>\n",
       "    </tr>\n",
       "    <tr>\n",
       "      <th>95%</th>\n",
       "      <td>3.000000</td>\n",
       "      <td>3.000000</td>\n",
       "    </tr>\n",
       "    <tr>\n",
       "      <th>max</th>\n",
       "      <td>3.000000</td>\n",
       "      <td>3.000000</td>\n",
       "    </tr>\n",
       "  </tbody>\n",
       "</table>\n",
       "</div>"
      ],
      "text/plain": [
       "          Pclass     Pclass\n",
       "count  29.000000  42.000000\n",
       "mean    2.931034   2.428571\n",
       "std     0.371391   0.630248\n",
       "min     1.000000   1.000000\n",
       "5%      3.000000   1.050000\n",
       "10%     3.000000   2.000000\n",
       "15%     3.000000   2.000000\n",
       "20%     3.000000   2.000000\n",
       "25%     3.000000   2.000000\n",
       "30%     3.000000   2.000000\n",
       "35%     3.000000   2.000000\n",
       "40%     3.000000   2.000000\n",
       "45%     3.000000   2.000000\n",
       "50%     3.000000   2.500000\n",
       "55%     3.000000   3.000000\n",
       "60%     3.000000   3.000000\n",
       "65%     3.000000   3.000000\n",
       "70%     3.000000   3.000000\n",
       "75%     3.000000   3.000000\n",
       "80%     3.000000   3.000000\n",
       "85%     3.000000   3.000000\n",
       "90%     3.000000   3.000000\n",
       "95%     3.000000   3.000000\n",
       "max     3.000000   3.000000"
      ]
     },
     "execution_count": 9,
     "metadata": {
      "tags": []
     },
     "output_type": "execute_result"
    }
   ],
   "source": [
    "pd.concat([training_data[(training_data['Survived'] == 0) & (training_data['Age'] < 14)]['Pclass'].describe(percentiles=np.arange(0.05, 1, 0.05)),\n",
    "          training_data[(training_data['Survived'] == 1) & (training_data['Age'] < 14)]['Pclass'].describe(percentiles=np.arange(0.05, 1, 0.05))], axis=1)\n",
    "          "
   ]
  },
  {
   "cell_type": "markdown",
   "metadata": {
    "id": "6mHoQdi89HVX"
   },
   "source": [
    "Among no survivors, almost all the childs were from poor families, so **they did save first the childs from rich families**."
   ]
  },
  {
   "cell_type": "markdown",
   "metadata": {
    "id": "i8T7tQrIIrjD"
   },
   "source": [
    "### SibSp\n"
   ]
  },
  {
   "cell_type": "code",
   "execution_count": null,
   "metadata": {
    "colab": {
     "base_uri": "https://localhost:8080/",
     "height": 793
    },
    "id": "y48u6cnX_FgN",
    "outputId": "1668d21c-b168-47b4-f537-3e48a4ca0ae0"
   },
   "outputs": [
    {
     "data": {
      "text/html": [
       "<div>\n",
       "<style scoped>\n",
       "    .dataframe tbody tr th:only-of-type {\n",
       "        vertical-align: middle;\n",
       "    }\n",
       "\n",
       "    .dataframe tbody tr th {\n",
       "        vertical-align: top;\n",
       "    }\n",
       "\n",
       "    .dataframe thead th {\n",
       "        text-align: right;\n",
       "    }\n",
       "</style>\n",
       "<table border=\"1\" class=\"dataframe\">\n",
       "  <thead>\n",
       "    <tr style=\"text-align: right;\">\n",
       "      <th></th>\n",
       "      <th>SibSp</th>\n",
       "      <th>SibSp</th>\n",
       "    </tr>\n",
       "  </thead>\n",
       "  <tbody>\n",
       "    <tr>\n",
       "      <th>count</th>\n",
       "      <td>549.000000</td>\n",
       "      <td>342.000000</td>\n",
       "    </tr>\n",
       "    <tr>\n",
       "      <th>mean</th>\n",
       "      <td>0.553734</td>\n",
       "      <td>0.473684</td>\n",
       "    </tr>\n",
       "    <tr>\n",
       "      <th>std</th>\n",
       "      <td>1.288399</td>\n",
       "      <td>0.708688</td>\n",
       "    </tr>\n",
       "    <tr>\n",
       "      <th>min</th>\n",
       "      <td>0.000000</td>\n",
       "      <td>0.000000</td>\n",
       "    </tr>\n",
       "    <tr>\n",
       "      <th>5%</th>\n",
       "      <td>0.000000</td>\n",
       "      <td>0.000000</td>\n",
       "    </tr>\n",
       "    <tr>\n",
       "      <th>10%</th>\n",
       "      <td>0.000000</td>\n",
       "      <td>0.000000</td>\n",
       "    </tr>\n",
       "    <tr>\n",
       "      <th>15%</th>\n",
       "      <td>0.000000</td>\n",
       "      <td>0.000000</td>\n",
       "    </tr>\n",
       "    <tr>\n",
       "      <th>20%</th>\n",
       "      <td>0.000000</td>\n",
       "      <td>0.000000</td>\n",
       "    </tr>\n",
       "    <tr>\n",
       "      <th>25%</th>\n",
       "      <td>0.000000</td>\n",
       "      <td>0.000000</td>\n",
       "    </tr>\n",
       "    <tr>\n",
       "      <th>30%</th>\n",
       "      <td>0.000000</td>\n",
       "      <td>0.000000</td>\n",
       "    </tr>\n",
       "    <tr>\n",
       "      <th>35%</th>\n",
       "      <td>0.000000</td>\n",
       "      <td>0.000000</td>\n",
       "    </tr>\n",
       "    <tr>\n",
       "      <th>40%</th>\n",
       "      <td>0.000000</td>\n",
       "      <td>0.000000</td>\n",
       "    </tr>\n",
       "    <tr>\n",
       "      <th>45%</th>\n",
       "      <td>0.000000</td>\n",
       "      <td>0.000000</td>\n",
       "    </tr>\n",
       "    <tr>\n",
       "      <th>50%</th>\n",
       "      <td>0.000000</td>\n",
       "      <td>0.000000</td>\n",
       "    </tr>\n",
       "    <tr>\n",
       "      <th>55%</th>\n",
       "      <td>0.000000</td>\n",
       "      <td>0.000000</td>\n",
       "    </tr>\n",
       "    <tr>\n",
       "      <th>60%</th>\n",
       "      <td>0.000000</td>\n",
       "      <td>0.000000</td>\n",
       "    </tr>\n",
       "    <tr>\n",
       "      <th>65%</th>\n",
       "      <td>0.000000</td>\n",
       "      <td>1.000000</td>\n",
       "    </tr>\n",
       "    <tr>\n",
       "      <th>70%</th>\n",
       "      <td>0.000000</td>\n",
       "      <td>1.000000</td>\n",
       "    </tr>\n",
       "    <tr>\n",
       "      <th>75%</th>\n",
       "      <td>1.000000</td>\n",
       "      <td>1.000000</td>\n",
       "    </tr>\n",
       "    <tr>\n",
       "      <th>80%</th>\n",
       "      <td>1.000000</td>\n",
       "      <td>1.000000</td>\n",
       "    </tr>\n",
       "    <tr>\n",
       "      <th>85%</th>\n",
       "      <td>1.000000</td>\n",
       "      <td>1.000000</td>\n",
       "    </tr>\n",
       "    <tr>\n",
       "      <th>90%</th>\n",
       "      <td>1.000000</td>\n",
       "      <td>1.000000</td>\n",
       "    </tr>\n",
       "    <tr>\n",
       "      <th>95%</th>\n",
       "      <td>3.000000</td>\n",
       "      <td>2.000000</td>\n",
       "    </tr>\n",
       "    <tr>\n",
       "      <th>max</th>\n",
       "      <td>8.000000</td>\n",
       "      <td>4.000000</td>\n",
       "    </tr>\n",
       "  </tbody>\n",
       "</table>\n",
       "</div>"
      ],
      "text/plain": [
       "            SibSp       SibSp\n",
       "count  549.000000  342.000000\n",
       "mean     0.553734    0.473684\n",
       "std      1.288399    0.708688\n",
       "min      0.000000    0.000000\n",
       "5%       0.000000    0.000000\n",
       "10%      0.000000    0.000000\n",
       "15%      0.000000    0.000000\n",
       "20%      0.000000    0.000000\n",
       "25%      0.000000    0.000000\n",
       "30%      0.000000    0.000000\n",
       "35%      0.000000    0.000000\n",
       "40%      0.000000    0.000000\n",
       "45%      0.000000    0.000000\n",
       "50%      0.000000    0.000000\n",
       "55%      0.000000    0.000000\n",
       "60%      0.000000    0.000000\n",
       "65%      0.000000    1.000000\n",
       "70%      0.000000    1.000000\n",
       "75%      1.000000    1.000000\n",
       "80%      1.000000    1.000000\n",
       "85%      1.000000    1.000000\n",
       "90%      1.000000    1.000000\n",
       "95%      3.000000    2.000000\n",
       "max      8.000000    4.000000"
      ]
     },
     "execution_count": 10,
     "metadata": {
      "tags": []
     },
     "output_type": "execute_result"
    }
   ],
   "source": [
    "pd.concat([training_data[training_data['Survived'] == 0]['SibSp'].describe(percentiles=np.arange(0.05, 1, 0.05)),\n",
    "           training_data[training_data['Survived'] == 1]['SibSp'].describe(percentiles=np.arange(0.05, 1, 0.05))], axis=1)"
   ]
  },
  {
   "cell_type": "markdown",
   "metadata": {
    "id": "GWlgthaA_egN"
   },
   "source": [
    "Both statistics makes almost no difference, only remark that the passengers with a great family (value of 8) did not survive, let's check from which class were they."
   ]
  },
  {
   "cell_type": "code",
   "execution_count": null,
   "metadata": {
    "colab": {
     "base_uri": "https://localhost:8080/"
    },
    "id": "yfPy3yZX_RD7",
    "outputId": "24856913-3dd2-4f47-8695-6779ca34f572"
   },
   "outputs": [
    {
     "data": {
      "text/plain": [
       "count    30.0\n",
       "mean      3.0\n",
       "std       0.0\n",
       "min       3.0\n",
       "5%        3.0\n",
       "10%       3.0\n",
       "15%       3.0\n",
       "20%       3.0\n",
       "25%       3.0\n",
       "30%       3.0\n",
       "35%       3.0\n",
       "40%       3.0\n",
       "45%       3.0\n",
       "50%       3.0\n",
       "55%       3.0\n",
       "60%       3.0\n",
       "65%       3.0\n",
       "70%       3.0\n",
       "75%       3.0\n",
       "80%       3.0\n",
       "85%       3.0\n",
       "90%       3.0\n",
       "95%       3.0\n",
       "max       3.0\n",
       "Name: Pclass, dtype: float64"
      ]
     },
     "execution_count": 11,
     "metadata": {
      "tags": []
     },
     "output_type": "execute_result"
    }
   ],
   "source": [
    "training_data[training_data['SibSp'] >= 4]['Pclass'].describe(percentiles=np.arange(0.05, 1, 0.05))"
   ]
  },
  {
   "cell_type": "markdown",
   "metadata": {
    "id": "-A73sDrnA2yp"
   },
   "source": [
    "Passengers with a value of **SibSp greater than or equal to 4 were from poor families.**"
   ]
  },
  {
   "cell_type": "code",
   "execution_count": null,
   "metadata": {
    "colab": {
     "base_uri": "https://localhost:8080/"
    },
    "id": "nanwR6gyJ8ps",
    "outputId": "ac687cda-b4e4-4b28-ac10-74a15afbe41a"
   },
   "outputs": [
    {
     "data": {
      "text/plain": [
       "0    0.682379\n",
       "1    0.234568\n",
       "2    0.031425\n",
       "4    0.020202\n",
       "3    0.017957\n",
       "8    0.007856\n",
       "5    0.005612\n",
       "Name: SibSp, dtype: float64"
      ]
     },
     "execution_count": 12,
     "metadata": {
      "tags": []
     },
     "output_type": "execute_result"
    }
   ],
   "source": [
    "training_data['SibSp'].value_counts() / len(training_data)"
   ]
  },
  {
   "cell_type": "markdown",
   "metadata": {
    "id": "ap9u0zqdng66"
   },
   "source": [
    "Looking the number of examples for each _SibSp_ value, we can see that there are 7 passengers with a value of 8 (Great family), the other values are quite normal."
   ]
  },
  {
   "cell_type": "markdown",
   "metadata": {
    "id": "-hfPv0LKo6Ck"
   },
   "source": [
    "### Parch\n",
    "- 80% of passengers have a value of 0, so they do not have neither parents or childrens\n",
    "- 10% have a value of 1, so they have either a childern or one of their parents.\n",
    "- 10% have a value of"
   ]
  },
  {
   "cell_type": "code",
   "execution_count": null,
   "metadata": {
    "colab": {
     "base_uri": "https://localhost:8080/",
     "height": 793
    },
    "id": "QkBKL7kPGeGd",
    "outputId": "dcb6f659-bb1f-4e35-d7b2-486690bbde89"
   },
   "outputs": [
    {
     "data": {
      "text/html": [
       "<div>\n",
       "<style scoped>\n",
       "    .dataframe tbody tr th:only-of-type {\n",
       "        vertical-align: middle;\n",
       "    }\n",
       "\n",
       "    .dataframe tbody tr th {\n",
       "        vertical-align: top;\n",
       "    }\n",
       "\n",
       "    .dataframe thead th {\n",
       "        text-align: right;\n",
       "    }\n",
       "</style>\n",
       "<table border=\"1\" class=\"dataframe\">\n",
       "  <thead>\n",
       "    <tr style=\"text-align: right;\">\n",
       "      <th></th>\n",
       "      <th>Parch</th>\n",
       "      <th>Parch</th>\n",
       "    </tr>\n",
       "  </thead>\n",
       "  <tbody>\n",
       "    <tr>\n",
       "      <th>count</th>\n",
       "      <td>549.000000</td>\n",
       "      <td>342.000000</td>\n",
       "    </tr>\n",
       "    <tr>\n",
       "      <th>mean</th>\n",
       "      <td>0.329690</td>\n",
       "      <td>0.464912</td>\n",
       "    </tr>\n",
       "    <tr>\n",
       "      <th>std</th>\n",
       "      <td>0.823166</td>\n",
       "      <td>0.771712</td>\n",
       "    </tr>\n",
       "    <tr>\n",
       "      <th>min</th>\n",
       "      <td>0.000000</td>\n",
       "      <td>0.000000</td>\n",
       "    </tr>\n",
       "    <tr>\n",
       "      <th>5%</th>\n",
       "      <td>0.000000</td>\n",
       "      <td>0.000000</td>\n",
       "    </tr>\n",
       "    <tr>\n",
       "      <th>10%</th>\n",
       "      <td>0.000000</td>\n",
       "      <td>0.000000</td>\n",
       "    </tr>\n",
       "    <tr>\n",
       "      <th>15%</th>\n",
       "      <td>0.000000</td>\n",
       "      <td>0.000000</td>\n",
       "    </tr>\n",
       "    <tr>\n",
       "      <th>20%</th>\n",
       "      <td>0.000000</td>\n",
       "      <td>0.000000</td>\n",
       "    </tr>\n",
       "    <tr>\n",
       "      <th>25%</th>\n",
       "      <td>0.000000</td>\n",
       "      <td>0.000000</td>\n",
       "    </tr>\n",
       "    <tr>\n",
       "      <th>30%</th>\n",
       "      <td>0.000000</td>\n",
       "      <td>0.000000</td>\n",
       "    </tr>\n",
       "    <tr>\n",
       "      <th>35%</th>\n",
       "      <td>0.000000</td>\n",
       "      <td>0.000000</td>\n",
       "    </tr>\n",
       "    <tr>\n",
       "      <th>40%</th>\n",
       "      <td>0.000000</td>\n",
       "      <td>0.000000</td>\n",
       "    </tr>\n",
       "    <tr>\n",
       "      <th>45%</th>\n",
       "      <td>0.000000</td>\n",
       "      <td>0.000000</td>\n",
       "    </tr>\n",
       "    <tr>\n",
       "      <th>50%</th>\n",
       "      <td>0.000000</td>\n",
       "      <td>0.000000</td>\n",
       "    </tr>\n",
       "    <tr>\n",
       "      <th>55%</th>\n",
       "      <td>0.000000</td>\n",
       "      <td>0.000000</td>\n",
       "    </tr>\n",
       "    <tr>\n",
       "      <th>60%</th>\n",
       "      <td>0.000000</td>\n",
       "      <td>0.000000</td>\n",
       "    </tr>\n",
       "    <tr>\n",
       "      <th>65%</th>\n",
       "      <td>0.000000</td>\n",
       "      <td>0.000000</td>\n",
       "    </tr>\n",
       "    <tr>\n",
       "      <th>70%</th>\n",
       "      <td>0.000000</td>\n",
       "      <td>1.000000</td>\n",
       "    </tr>\n",
       "    <tr>\n",
       "      <th>75%</th>\n",
       "      <td>0.000000</td>\n",
       "      <td>1.000000</td>\n",
       "    </tr>\n",
       "    <tr>\n",
       "      <th>80%</th>\n",
       "      <td>0.000000</td>\n",
       "      <td>1.000000</td>\n",
       "    </tr>\n",
       "    <tr>\n",
       "      <th>85%</th>\n",
       "      <td>1.000000</td>\n",
       "      <td>1.000000</td>\n",
       "    </tr>\n",
       "    <tr>\n",
       "      <th>90%</th>\n",
       "      <td>1.000000</td>\n",
       "      <td>2.000000</td>\n",
       "    </tr>\n",
       "    <tr>\n",
       "      <th>95%</th>\n",
       "      <td>2.000000</td>\n",
       "      <td>2.000000</td>\n",
       "    </tr>\n",
       "    <tr>\n",
       "      <th>max</th>\n",
       "      <td>6.000000</td>\n",
       "      <td>5.000000</td>\n",
       "    </tr>\n",
       "  </tbody>\n",
       "</table>\n",
       "</div>"
      ],
      "text/plain": [
       "            Parch       Parch\n",
       "count  549.000000  342.000000\n",
       "mean     0.329690    0.464912\n",
       "std      0.823166    0.771712\n",
       "min      0.000000    0.000000\n",
       "5%       0.000000    0.000000\n",
       "10%      0.000000    0.000000\n",
       "15%      0.000000    0.000000\n",
       "20%      0.000000    0.000000\n",
       "25%      0.000000    0.000000\n",
       "30%      0.000000    0.000000\n",
       "35%      0.000000    0.000000\n",
       "40%      0.000000    0.000000\n",
       "45%      0.000000    0.000000\n",
       "50%      0.000000    0.000000\n",
       "55%      0.000000    0.000000\n",
       "60%      0.000000    0.000000\n",
       "65%      0.000000    0.000000\n",
       "70%      0.000000    1.000000\n",
       "75%      0.000000    1.000000\n",
       "80%      0.000000    1.000000\n",
       "85%      1.000000    1.000000\n",
       "90%      1.000000    2.000000\n",
       "95%      2.000000    2.000000\n",
       "max      6.000000    5.000000"
      ]
     },
     "execution_count": 13,
     "metadata": {
      "tags": []
     },
     "output_type": "execute_result"
    }
   ],
   "source": [
    "pd.concat([training_data[training_data['Survived'] == 0]['Parch'].describe(percentiles=np.arange(0.05, 1, 0.05)),\n",
    "           training_data[training_data['Survived'] == 1]['Parch'].describe(percentiles=np.arange(0.05, 1, 0.05))], axis=1)"
   ]
  },
  {
   "cell_type": "markdown",
   "metadata": {
    "id": "YSbFMB9jGk91"
   },
   "source": [
    "There is no difference between survivors and no survivors."
   ]
  },
  {
   "cell_type": "code",
   "execution_count": null,
   "metadata": {
    "colab": {
     "base_uri": "https://localhost:8080/"
    },
    "id": "73zuo9zrpvTK",
    "outputId": "7c76cad5-5c54-4f6f-e5f8-1682db6cc289"
   },
   "outputs": [
    {
     "data": {
      "text/plain": [
       "0    0.760943\n",
       "1    0.132435\n",
       "2    0.089787\n",
       "5    0.005612\n",
       "3    0.005612\n",
       "4    0.004489\n",
       "6    0.001122\n",
       "Name: Parch, dtype: float64"
      ]
     },
     "execution_count": 14,
     "metadata": {
      "tags": []
     },
     "output_type": "execute_result"
    }
   ],
   "source": [
    "training_data['Parch'].value_counts() / len(training_data)"
   ]
  },
  {
   "cell_type": "markdown",
   "metadata": {
    "id": "yTSCXeXFneHQ"
   },
   "source": [
    "### PClass"
   ]
  },
  {
   "cell_type": "code",
   "execution_count": null,
   "metadata": {
    "colab": {
     "base_uri": "https://localhost:8080/",
     "height": 793
    },
    "id": "EOmR6qwXGxkk",
    "outputId": "e8a10a7b-d3f7-4d6c-c0fa-e830909e6dda"
   },
   "outputs": [
    {
     "data": {
      "text/html": [
       "<div>\n",
       "<style scoped>\n",
       "    .dataframe tbody tr th:only-of-type {\n",
       "        vertical-align: middle;\n",
       "    }\n",
       "\n",
       "    .dataframe tbody tr th {\n",
       "        vertical-align: top;\n",
       "    }\n",
       "\n",
       "    .dataframe thead th {\n",
       "        text-align: right;\n",
       "    }\n",
       "</style>\n",
       "<table border=\"1\" class=\"dataframe\">\n",
       "  <thead>\n",
       "    <tr style=\"text-align: right;\">\n",
       "      <th></th>\n",
       "      <th>Pclass</th>\n",
       "      <th>Pclass</th>\n",
       "    </tr>\n",
       "  </thead>\n",
       "  <tbody>\n",
       "    <tr>\n",
       "      <th>count</th>\n",
       "      <td>549.000000</td>\n",
       "      <td>342.000000</td>\n",
       "    </tr>\n",
       "    <tr>\n",
       "      <th>mean</th>\n",
       "      <td>2.531876</td>\n",
       "      <td>1.950292</td>\n",
       "    </tr>\n",
       "    <tr>\n",
       "      <th>std</th>\n",
       "      <td>0.735805</td>\n",
       "      <td>0.863321</td>\n",
       "    </tr>\n",
       "    <tr>\n",
       "      <th>min</th>\n",
       "      <td>1.000000</td>\n",
       "      <td>1.000000</td>\n",
       "    </tr>\n",
       "    <tr>\n",
       "      <th>5%</th>\n",
       "      <td>1.000000</td>\n",
       "      <td>1.000000</td>\n",
       "    </tr>\n",
       "    <tr>\n",
       "      <th>10%</th>\n",
       "      <td>1.000000</td>\n",
       "      <td>1.000000</td>\n",
       "    </tr>\n",
       "    <tr>\n",
       "      <th>15%</th>\n",
       "      <td>2.000000</td>\n",
       "      <td>1.000000</td>\n",
       "    </tr>\n",
       "    <tr>\n",
       "      <th>20%</th>\n",
       "      <td>2.000000</td>\n",
       "      <td>1.000000</td>\n",
       "    </tr>\n",
       "    <tr>\n",
       "      <th>25%</th>\n",
       "      <td>2.000000</td>\n",
       "      <td>1.000000</td>\n",
       "    </tr>\n",
       "    <tr>\n",
       "      <th>30%</th>\n",
       "      <td>2.000000</td>\n",
       "      <td>1.000000</td>\n",
       "    </tr>\n",
       "    <tr>\n",
       "      <th>35%</th>\n",
       "      <td>3.000000</td>\n",
       "      <td>1.000000</td>\n",
       "    </tr>\n",
       "    <tr>\n",
       "      <th>40%</th>\n",
       "      <td>3.000000</td>\n",
       "      <td>2.000000</td>\n",
       "    </tr>\n",
       "    <tr>\n",
       "      <th>45%</th>\n",
       "      <td>3.000000</td>\n",
       "      <td>2.000000</td>\n",
       "    </tr>\n",
       "    <tr>\n",
       "      <th>50%</th>\n",
       "      <td>3.000000</td>\n",
       "      <td>2.000000</td>\n",
       "    </tr>\n",
       "    <tr>\n",
       "      <th>55%</th>\n",
       "      <td>3.000000</td>\n",
       "      <td>2.000000</td>\n",
       "    </tr>\n",
       "    <tr>\n",
       "      <th>60%</th>\n",
       "      <td>3.000000</td>\n",
       "      <td>2.000000</td>\n",
       "    </tr>\n",
       "    <tr>\n",
       "      <th>65%</th>\n",
       "      <td>3.000000</td>\n",
       "      <td>2.000000</td>\n",
       "    </tr>\n",
       "    <tr>\n",
       "      <th>70%</th>\n",
       "      <td>3.000000</td>\n",
       "      <td>3.000000</td>\n",
       "    </tr>\n",
       "    <tr>\n",
       "      <th>75%</th>\n",
       "      <td>3.000000</td>\n",
       "      <td>3.000000</td>\n",
       "    </tr>\n",
       "    <tr>\n",
       "      <th>80%</th>\n",
       "      <td>3.000000</td>\n",
       "      <td>3.000000</td>\n",
       "    </tr>\n",
       "    <tr>\n",
       "      <th>85%</th>\n",
       "      <td>3.000000</td>\n",
       "      <td>3.000000</td>\n",
       "    </tr>\n",
       "    <tr>\n",
       "      <th>90%</th>\n",
       "      <td>3.000000</td>\n",
       "      <td>3.000000</td>\n",
       "    </tr>\n",
       "    <tr>\n",
       "      <th>95%</th>\n",
       "      <td>3.000000</td>\n",
       "      <td>3.000000</td>\n",
       "    </tr>\n",
       "    <tr>\n",
       "      <th>max</th>\n",
       "      <td>3.000000</td>\n",
       "      <td>3.000000</td>\n",
       "    </tr>\n",
       "  </tbody>\n",
       "</table>\n",
       "</div>"
      ],
      "text/plain": [
       "           Pclass      Pclass\n",
       "count  549.000000  342.000000\n",
       "mean     2.531876    1.950292\n",
       "std      0.735805    0.863321\n",
       "min      1.000000    1.000000\n",
       "5%       1.000000    1.000000\n",
       "10%      1.000000    1.000000\n",
       "15%      2.000000    1.000000\n",
       "20%      2.000000    1.000000\n",
       "25%      2.000000    1.000000\n",
       "30%      2.000000    1.000000\n",
       "35%      3.000000    1.000000\n",
       "40%      3.000000    2.000000\n",
       "45%      3.000000    2.000000\n",
       "50%      3.000000    2.000000\n",
       "55%      3.000000    2.000000\n",
       "60%      3.000000    2.000000\n",
       "65%      3.000000    2.000000\n",
       "70%      3.000000    3.000000\n",
       "75%      3.000000    3.000000\n",
       "80%      3.000000    3.000000\n",
       "85%      3.000000    3.000000\n",
       "90%      3.000000    3.000000\n",
       "95%      3.000000    3.000000\n",
       "max      3.000000    3.000000"
      ]
     },
     "execution_count": 15,
     "metadata": {
      "tags": []
     },
     "output_type": "execute_result"
    }
   ],
   "source": [
    "pd.concat([training_data[training_data['Survived'] == 0]['Pclass'].describe(percentiles=np.arange(0.05, 1, 0.05)),\n",
    "           training_data[training_data['Survived'] == 1]['Pclass'].describe(percentiles=np.arange(0.05, 1, 0.05))], axis=1)"
   ]
  },
  {
   "cell_type": "markdown",
   "metadata": {
    "id": "ewp9lFdQG4n_"
   },
   "source": [
    "Only a 10% of no survivors were from 1st class, whereas among survivors a 35% were from 1st class."
   ]
  },
  {
   "cell_type": "code",
   "execution_count": null,
   "metadata": {
    "colab": {
     "base_uri": "https://localhost:8080/"
    },
    "id": "Q_O5ahL9HMH0",
    "outputId": "f6e22519-b85a-45aa-da5b-d2baf12ce8d3"
   },
   "outputs": [
    {
     "data": {
      "text/plain": [
       "3    0.417508\n",
       "2    0.108866\n",
       "1    0.089787\n",
       "Name: Pclass, dtype: float64"
      ]
     },
     "execution_count": 16,
     "metadata": {
      "tags": []
     },
     "output_type": "execute_result"
    }
   ],
   "source": [
    "training_data[training_data['Survived'] == 0]['Pclass'].value_counts() / len(training_data)"
   ]
  },
  {
   "cell_type": "code",
   "execution_count": null,
   "metadata": {
    "colab": {
     "base_uri": "https://localhost:8080/"
    },
    "id": "8wIS0G4wHYui",
    "outputId": "f2d48c56-6a92-49af-eb66-beb46e79e8ab"
   },
   "outputs": [
    {
     "data": {
      "text/plain": [
       "1    0.152637\n",
       "3    0.133558\n",
       "2    0.097643\n",
       "Name: Pclass, dtype: float64"
      ]
     },
     "execution_count": 17,
     "metadata": {
      "tags": []
     },
     "output_type": "execute_result"
    }
   ],
   "source": [
    "training_data[training_data['Survived'] == 1]['Pclass'].value_counts() / len(training_data)"
   ]
  },
  {
   "cell_type": "markdown",
   "metadata": {
    "id": "NIdgOqoAHehY"
   },
   "source": [
    "**Is clear that most of survivors were from 1st class, whereas most of no survivors were from 3rd class**"
   ]
  },
  {
   "cell_type": "code",
   "execution_count": null,
   "metadata": {
    "colab": {
     "base_uri": "https://localhost:8080/"
    },
    "id": "Ajb9rwbjDyNT",
    "outputId": "ff321009-f1c8-4207-9209-9be861975d33"
   },
   "outputs": [
    {
     "data": {
      "text/plain": [
       "3    0.551066\n",
       "1    0.242424\n",
       "2    0.206510\n",
       "Name: Pclass, dtype: float64"
      ]
     },
     "execution_count": 18,
     "metadata": {
      "tags": []
     },
     "output_type": "execute_result"
    }
   ],
   "source": [
    "training_data['Pclass'].value_counts() / len(training_data)"
   ]
  },
  {
   "cell_type": "markdown",
   "metadata": {
    "id": "32AKuYZBD4Pm"
   },
   "source": [
    "The distribution of ticket class is the following:\n",
    "- 55% of the passengers belong to the 1st class, 24.24% to the 2nd and 20.65% to the 3rd\n",
    "- It means that most of passengers were not rich people, only 20% were rich"
   ]
  },
  {
   "cell_type": "markdown",
   "metadata": {
    "id": "Xfa1xUThII6J"
   },
   "source": [
    "### Fare"
   ]
  },
  {
   "cell_type": "code",
   "execution_count": null,
   "metadata": {
    "colab": {
     "base_uri": "https://localhost:8080/",
     "height": 793
    },
    "id": "7fEhk1OH8dw7",
    "outputId": "839ef283-d233-4688-ee12-b6d4a4dafe83"
   },
   "outputs": [
    {
     "data": {
      "text/html": [
       "<div>\n",
       "<style scoped>\n",
       "    .dataframe tbody tr th:only-of-type {\n",
       "        vertical-align: middle;\n",
       "    }\n",
       "\n",
       "    .dataframe tbody tr th {\n",
       "        vertical-align: top;\n",
       "    }\n",
       "\n",
       "    .dataframe thead th {\n",
       "        text-align: right;\n",
       "    }\n",
       "</style>\n",
       "<table border=\"1\" class=\"dataframe\">\n",
       "  <thead>\n",
       "    <tr style=\"text-align: right;\">\n",
       "      <th></th>\n",
       "      <th>Fare</th>\n",
       "      <th>Fare</th>\n",
       "    </tr>\n",
       "  </thead>\n",
       "  <tbody>\n",
       "    <tr>\n",
       "      <th>count</th>\n",
       "      <td>549.000000</td>\n",
       "      <td>342.000000</td>\n",
       "    </tr>\n",
       "    <tr>\n",
       "      <th>mean</th>\n",
       "      <td>22.117887</td>\n",
       "      <td>48.395408</td>\n",
       "    </tr>\n",
       "    <tr>\n",
       "      <th>std</th>\n",
       "      <td>31.388207</td>\n",
       "      <td>66.596998</td>\n",
       "    </tr>\n",
       "    <tr>\n",
       "      <th>min</th>\n",
       "      <td>0.000000</td>\n",
       "      <td>0.000000</td>\n",
       "    </tr>\n",
       "    <tr>\n",
       "      <th>5%</th>\n",
       "      <td>7.050000</td>\n",
       "      <td>7.750000</td>\n",
       "    </tr>\n",
       "    <tr>\n",
       "      <th>10%</th>\n",
       "      <td>7.229200</td>\n",
       "      <td>7.799140</td>\n",
       "    </tr>\n",
       "    <tr>\n",
       "      <th>15%</th>\n",
       "      <td>7.665000</td>\n",
       "      <td>7.940630</td>\n",
       "    </tr>\n",
       "    <tr>\n",
       "      <th>20%</th>\n",
       "      <td>7.750000</td>\n",
       "      <td>10.500000</td>\n",
       "    </tr>\n",
       "    <tr>\n",
       "      <th>25%</th>\n",
       "      <td>7.854200</td>\n",
       "      <td>12.475000</td>\n",
       "    </tr>\n",
       "    <tr>\n",
       "      <th>30%</th>\n",
       "      <td>7.895800</td>\n",
       "      <td>13.000000</td>\n",
       "    </tr>\n",
       "    <tr>\n",
       "      <th>35%</th>\n",
       "      <td>8.050000</td>\n",
       "      <td>15.584595</td>\n",
       "    </tr>\n",
       "    <tr>\n",
       "      <th>40%</th>\n",
       "      <td>8.050000</td>\n",
       "      <td>18.975820</td>\n",
       "    </tr>\n",
       "    <tr>\n",
       "      <th>45%</th>\n",
       "      <td>8.692500</td>\n",
       "      <td>23.000000</td>\n",
       "    </tr>\n",
       "    <tr>\n",
       "      <th>50%</th>\n",
       "      <td>10.500000</td>\n",
       "      <td>26.000000</td>\n",
       "    </tr>\n",
       "    <tr>\n",
       "      <th>55%</th>\n",
       "      <td>13.000000</td>\n",
       "      <td>26.550000</td>\n",
       "    </tr>\n",
       "    <tr>\n",
       "      <th>60%</th>\n",
       "      <td>14.443360</td>\n",
       "      <td>30.000000</td>\n",
       "    </tr>\n",
       "    <tr>\n",
       "      <th>65%</th>\n",
       "      <td>15.900000</td>\n",
       "      <td>36.312500</td>\n",
       "    </tr>\n",
       "    <tr>\n",
       "      <th>70%</th>\n",
       "      <td>21.075000</td>\n",
       "      <td>52.554200</td>\n",
       "    </tr>\n",
       "    <tr>\n",
       "      <th>75%</th>\n",
       "      <td>26.000000</td>\n",
       "      <td>57.000000</td>\n",
       "    </tr>\n",
       "    <tr>\n",
       "      <th>80%</th>\n",
       "      <td>27.900000</td>\n",
       "      <td>77.712480</td>\n",
       "    </tr>\n",
       "    <tr>\n",
       "      <th>85%</th>\n",
       "      <td>33.400000</td>\n",
       "      <td>83.427495</td>\n",
       "    </tr>\n",
       "    <tr>\n",
       "      <th>90%</th>\n",
       "      <td>46.900000</td>\n",
       "      <td>110.883300</td>\n",
       "    </tr>\n",
       "    <tr>\n",
       "      <th>95%</th>\n",
       "      <td>72.500000</td>\n",
       "      <td>153.366875</td>\n",
       "    </tr>\n",
       "    <tr>\n",
       "      <th>max</th>\n",
       "      <td>263.000000</td>\n",
       "      <td>512.329200</td>\n",
       "    </tr>\n",
       "  </tbody>\n",
       "</table>\n",
       "</div>"
      ],
      "text/plain": [
       "             Fare        Fare\n",
       "count  549.000000  342.000000\n",
       "mean    22.117887   48.395408\n",
       "std     31.388207   66.596998\n",
       "min      0.000000    0.000000\n",
       "5%       7.050000    7.750000\n",
       "10%      7.229200    7.799140\n",
       "15%      7.665000    7.940630\n",
       "20%      7.750000   10.500000\n",
       "25%      7.854200   12.475000\n",
       "30%      7.895800   13.000000\n",
       "35%      8.050000   15.584595\n",
       "40%      8.050000   18.975820\n",
       "45%      8.692500   23.000000\n",
       "50%     10.500000   26.000000\n",
       "55%     13.000000   26.550000\n",
       "60%     14.443360   30.000000\n",
       "65%     15.900000   36.312500\n",
       "70%     21.075000   52.554200\n",
       "75%     26.000000   57.000000\n",
       "80%     27.900000   77.712480\n",
       "85%     33.400000   83.427495\n",
       "90%     46.900000  110.883300\n",
       "95%     72.500000  153.366875\n",
       "max    263.000000  512.329200"
      ]
     },
     "execution_count": 19,
     "metadata": {
      "tags": []
     },
     "output_type": "execute_result"
    }
   ],
   "source": [
    "pd.concat([training_data[training_data['Survived'] == 0]['Fare'].describe(percentiles=np.arange(0.05, 1, 0.05)),\n",
    "           training_data[training_data['Survived'] == 1]['Fare'].describe(percentiles=np.arange(0.05, 1, 0.05))], axis=1)"
   ]
  },
  {
   "cell_type": "markdown",
   "metadata": {
    "id": "h3RhCAd_IXlS"
   },
   "source": [
    "Among no survivors, the 85% of passengers had tickets with _Fare_ lower than 33, whereas amon survivors the 65% had tickets with _Fare_ lower than 36"
   ]
  },
  {
   "cell_type": "code",
   "execution_count": null,
   "metadata": {
    "colab": {
     "base_uri": "https://localhost:8080/",
     "height": 793
    },
    "id": "oVg5u1QCI0OX",
    "outputId": "02645aa9-6c9c-4e4e-e02c-d8ae761e1acc"
   },
   "outputs": [
    {
     "data": {
      "text/html": [
       "<div>\n",
       "<style scoped>\n",
       "    .dataframe tbody tr th:only-of-type {\n",
       "        vertical-align: middle;\n",
       "    }\n",
       "\n",
       "    .dataframe tbody tr th {\n",
       "        vertical-align: top;\n",
       "    }\n",
       "\n",
       "    .dataframe thead th {\n",
       "        text-align: right;\n",
       "    }\n",
       "</style>\n",
       "<table border=\"1\" class=\"dataframe\">\n",
       "  <thead>\n",
       "    <tr style=\"text-align: right;\">\n",
       "      <th></th>\n",
       "      <th>Fare</th>\n",
       "      <th>Fare</th>\n",
       "      <th>Fare</th>\n",
       "      <th>Fare</th>\n",
       "      <th>Fare</th>\n",
       "      <th>Fare</th>\n",
       "    </tr>\n",
       "  </thead>\n",
       "  <tbody>\n",
       "    <tr>\n",
       "      <th>count</th>\n",
       "      <td>372.000000</td>\n",
       "      <td>97.000000</td>\n",
       "      <td>80.000000</td>\n",
       "      <td>119.000000</td>\n",
       "      <td>87.000000</td>\n",
       "      <td>136.000000</td>\n",
       "    </tr>\n",
       "    <tr>\n",
       "      <th>mean</th>\n",
       "      <td>13.669364</td>\n",
       "      <td>19.412328</td>\n",
       "      <td>64.684008</td>\n",
       "      <td>13.694887</td>\n",
       "      <td>22.055700</td>\n",
       "      <td>95.608029</td>\n",
       "    </tr>\n",
       "    <tr>\n",
       "      <th>std</th>\n",
       "      <td>12.118338</td>\n",
       "      <td>15.307175</td>\n",
       "      <td>60.662089</td>\n",
       "      <td>10.692993</td>\n",
       "      <td>10.853502</td>\n",
       "      <td>85.286820</td>\n",
       "    </tr>\n",
       "    <tr>\n",
       "      <th>min</th>\n",
       "      <td>0.000000</td>\n",
       "      <td>0.000000</td>\n",
       "      <td>0.000000</td>\n",
       "      <td>0.000000</td>\n",
       "      <td>10.500000</td>\n",
       "      <td>25.929200</td>\n",
       "    </tr>\n",
       "    <tr>\n",
       "      <th>5%</th>\n",
       "      <td>7.050000</td>\n",
       "      <td>0.000000</td>\n",
       "      <td>0.000000</td>\n",
       "      <td>7.228780</td>\n",
       "      <td>10.500000</td>\n",
       "      <td>26.509375</td>\n",
       "    </tr>\n",
       "    <tr>\n",
       "      <th>10%</th>\n",
       "      <td>7.229200</td>\n",
       "      <td>10.500000</td>\n",
       "      <td>25.992500</td>\n",
       "      <td>7.539160</td>\n",
       "      <td>11.400000</td>\n",
       "      <td>26.550000</td>\n",
       "    </tr>\n",
       "    <tr>\n",
       "      <th>15%</th>\n",
       "      <td>7.250000</td>\n",
       "      <td>10.500000</td>\n",
       "      <td>26.550000</td>\n",
       "      <td>7.750000</td>\n",
       "      <td>12.965000</td>\n",
       "      <td>30.125000</td>\n",
       "    </tr>\n",
       "    <tr>\n",
       "      <th>20%</th>\n",
       "      <td>7.734140</td>\n",
       "      <td>10.500000</td>\n",
       "      <td>26.550000</td>\n",
       "      <td>7.750000</td>\n",
       "      <td>13.000000</td>\n",
       "      <td>35.500000</td>\n",
       "    </tr>\n",
       "    <tr>\n",
       "      <th>25%</th>\n",
       "      <td>7.750000</td>\n",
       "      <td>11.500000</td>\n",
       "      <td>27.742700</td>\n",
       "      <td>7.775000</td>\n",
       "      <td>13.000000</td>\n",
       "      <td>50.985450</td>\n",
       "    </tr>\n",
       "    <tr>\n",
       "      <th>30%</th>\n",
       "      <td>7.781240</td>\n",
       "      <td>12.975000</td>\n",
       "      <td>29.700000</td>\n",
       "      <td>7.839200</td>\n",
       "      <td>13.000000</td>\n",
       "      <td>52.554200</td>\n",
       "    </tr>\n",
       "    <tr>\n",
       "      <th>35%</th>\n",
       "      <td>7.894555</td>\n",
       "      <td>13.000000</td>\n",
       "      <td>30.695800</td>\n",
       "      <td>7.879200</td>\n",
       "      <td>13.798360</td>\n",
       "      <td>55.556275</td>\n",
       "    </tr>\n",
       "    <tr>\n",
       "      <th>40%</th>\n",
       "      <td>7.895800</td>\n",
       "      <td>13.000000</td>\n",
       "      <td>33.812480</td>\n",
       "      <td>7.925000</td>\n",
       "      <td>15.000000</td>\n",
       "      <td>57.979200</td>\n",
       "    </tr>\n",
       "    <tr>\n",
       "      <th>45%</th>\n",
       "      <td>7.923540</td>\n",
       "      <td>13.000000</td>\n",
       "      <td>37.150000</td>\n",
       "      <td>8.050000</td>\n",
       "      <td>18.750000</td>\n",
       "      <td>71.212475</td>\n",
       "    </tr>\n",
       "    <tr>\n",
       "      <th>50%</th>\n",
       "      <td>8.050000</td>\n",
       "      <td>13.000000</td>\n",
       "      <td>44.750000</td>\n",
       "      <td>8.516700</td>\n",
       "      <td>21.000000</td>\n",
       "      <td>77.958300</td>\n",
       "    </tr>\n",
       "    <tr>\n",
       "      <th>55%</th>\n",
       "      <td>8.050000</td>\n",
       "      <td>13.000000</td>\n",
       "      <td>51.110815</td>\n",
       "      <td>9.578750</td>\n",
       "      <td>23.300000</td>\n",
       "      <td>79.312500</td>\n",
       "    </tr>\n",
       "    <tr>\n",
       "      <th>60%</th>\n",
       "      <td>8.659180</td>\n",
       "      <td>13.800000</td>\n",
       "      <td>52.000000</td>\n",
       "      <td>11.241700</td>\n",
       "      <td>26.000000</td>\n",
       "      <td>83.158300</td>\n",
       "    </tr>\n",
       "    <tr>\n",
       "      <th>65%</th>\n",
       "      <td>9.243750</td>\n",
       "      <td>21.000000</td>\n",
       "      <td>57.746250</td>\n",
       "      <td>13.134190</td>\n",
       "      <td>26.000000</td>\n",
       "      <td>88.453150</td>\n",
       "    </tr>\n",
       "    <tr>\n",
       "      <th>70%</th>\n",
       "      <td>10.500440</td>\n",
       "      <td>26.000000</td>\n",
       "      <td>67.920000</td>\n",
       "      <td>15.500000</td>\n",
       "      <td>26.000000</td>\n",
       "      <td>92.289600</td>\n",
       "    </tr>\n",
       "    <tr>\n",
       "      <th>75%</th>\n",
       "      <td>15.136450</td>\n",
       "      <td>26.000000</td>\n",
       "      <td>78.937500</td>\n",
       "      <td>15.875000</td>\n",
       "      <td>26.250000</td>\n",
       "      <td>111.481225</td>\n",
       "    </tr>\n",
       "    <tr>\n",
       "      <th>80%</th>\n",
       "      <td>17.800000</td>\n",
       "      <td>26.000000</td>\n",
       "      <td>82.431640</td>\n",
       "      <td>16.980000</td>\n",
       "      <td>27.600000</td>\n",
       "      <td>133.650000</td>\n",
       "    </tr>\n",
       "    <tr>\n",
       "      <th>85%</th>\n",
       "      <td>23.450000</td>\n",
       "      <td>26.250000</td>\n",
       "      <td>109.197495</td>\n",
       "      <td>19.555810</td>\n",
       "      <td>30.007080</td>\n",
       "      <td>146.520800</td>\n",
       "    </tr>\n",
       "    <tr>\n",
       "      <th>90%</th>\n",
       "      <td>29.002500</td>\n",
       "      <td>31.242480</td>\n",
       "      <td>151.550000</td>\n",
       "      <td>22.358300</td>\n",
       "      <td>34.500000</td>\n",
       "      <td>188.102100</td>\n",
       "    </tr>\n",
       "    <tr>\n",
       "      <th>95%</th>\n",
       "      <td>39.687500</td>\n",
       "      <td>47.963360</td>\n",
       "      <td>222.066490</td>\n",
       "      <td>31.387500</td>\n",
       "      <td>39.000000</td>\n",
       "      <td>251.234350</td>\n",
       "    </tr>\n",
       "    <tr>\n",
       "      <th>max</th>\n",
       "      <td>69.550000</td>\n",
       "      <td>73.500000</td>\n",
       "      <td>263.000000</td>\n",
       "      <td>56.495800</td>\n",
       "      <td>65.000000</td>\n",
       "      <td>512.329200</td>\n",
       "    </tr>\n",
       "  </tbody>\n",
       "</table>\n",
       "</div>"
      ],
      "text/plain": [
       "             Fare       Fare        Fare        Fare       Fare        Fare\n",
       "count  372.000000  97.000000   80.000000  119.000000  87.000000  136.000000\n",
       "mean    13.669364  19.412328   64.684008   13.694887  22.055700   95.608029\n",
       "std     12.118338  15.307175   60.662089   10.692993  10.853502   85.286820\n",
       "min      0.000000   0.000000    0.000000    0.000000  10.500000   25.929200\n",
       "5%       7.050000   0.000000    0.000000    7.228780  10.500000   26.509375\n",
       "10%      7.229200  10.500000   25.992500    7.539160  11.400000   26.550000\n",
       "15%      7.250000  10.500000   26.550000    7.750000  12.965000   30.125000\n",
       "20%      7.734140  10.500000   26.550000    7.750000  13.000000   35.500000\n",
       "25%      7.750000  11.500000   27.742700    7.775000  13.000000   50.985450\n",
       "30%      7.781240  12.975000   29.700000    7.839200  13.000000   52.554200\n",
       "35%      7.894555  13.000000   30.695800    7.879200  13.798360   55.556275\n",
       "40%      7.895800  13.000000   33.812480    7.925000  15.000000   57.979200\n",
       "45%      7.923540  13.000000   37.150000    8.050000  18.750000   71.212475\n",
       "50%      8.050000  13.000000   44.750000    8.516700  21.000000   77.958300\n",
       "55%      8.050000  13.000000   51.110815    9.578750  23.300000   79.312500\n",
       "60%      8.659180  13.800000   52.000000   11.241700  26.000000   83.158300\n",
       "65%      9.243750  21.000000   57.746250   13.134190  26.000000   88.453150\n",
       "70%     10.500440  26.000000   67.920000   15.500000  26.000000   92.289600\n",
       "75%     15.136450  26.000000   78.937500   15.875000  26.250000  111.481225\n",
       "80%     17.800000  26.000000   82.431640   16.980000  27.600000  133.650000\n",
       "85%     23.450000  26.250000  109.197495   19.555810  30.007080  146.520800\n",
       "90%     29.002500  31.242480  151.550000   22.358300  34.500000  188.102100\n",
       "95%     39.687500  47.963360  222.066490   31.387500  39.000000  251.234350\n",
       "max     69.550000  73.500000  263.000000   56.495800  65.000000  512.329200"
      ]
     },
     "execution_count": 20,
     "metadata": {
      "tags": []
     },
     "output_type": "execute_result"
    }
   ],
   "source": [
    "pd.concat([training_data[(training_data['Pclass'] == 3) & (training_data['Survived'] == 0)]['Fare'].describe(np.arange(0.05, 1, 0.05)),\n",
    "          training_data[(training_data['Pclass'] == 2) & (training_data['Survived'] == 0)]['Fare'].describe(np.arange(0.05, 1, 0.05)),\n",
    "          training_data[(training_data['Pclass'] == 1) & (training_data['Survived'] == 0)]['Fare'].describe(np.arange(0.05, 1, 0.05)),\n",
    "          training_data[(training_data['Pclass'] == 3) & (training_data['Survived'] == 1)]['Fare'].describe(np.arange(0.05, 1, 0.05)),\n",
    "          training_data[(training_data['Pclass'] == 2) & (training_data['Survived'] == 1)]['Fare'].describe(np.arange(0.05, 1, 0.05)),\n",
    "          training_data[(training_data['Pclass'] == 1) & (training_data['Survived'] == 1)]['Fare'].describe(np.arange(0.05, 1, 0.05))], axis=1)"
   ]
  },
  {
   "cell_type": "markdown",
   "metadata": {
    "id": "m0BLqD9_KXMK"
   },
   "source": [
    "The first three columns are the statistics of _Fare_ among passengers of each class that did not survive. The three last are the _Fare_ among passengers of each class that survived.\n",
    "\n",
    "The _Fare_ of 1st class passengers that survived is higher (mean of 95) than 1st class passengers that did not survive (mean of 65). The rest of classes have similar _Fare_ among survivors and no survivors"
   ]
  },
  {
   "cell_type": "code",
   "execution_count": null,
   "metadata": {
    "colab": {
     "base_uri": "https://localhost:8080/",
     "height": 318
    },
    "id": "ogjOX23XWj4r",
    "outputId": "7625e633-2525-47ce-d232-0ef726e0d424"
   },
   "outputs": [
    {
     "data": {
      "text/plain": [
       "<matplotlib.axes._subplots.AxesSubplot at 0x7f51575cb710>"
      ]
     },
     "execution_count": 21,
     "metadata": {
      "tags": []
     },
     "output_type": "execute_result"
    },
    {
     "data": {
      "image/png": "[encoded data removed]",
      "text/plain": [
       "<Figure size 432x288 with 1 Axes>"
      ]
     },
     "metadata": {
      "needs_background": "light",
      "tags": []
     },
     "output_type": "display_data"
    }
   ],
   "source": [
    "training_data.boxplot('Fare', 'Survived')"
   ]
  },
  {
   "cell_type": "markdown",
   "metadata": {
    "id": "IlaJaAEZJgTb"
   },
   "source": [
    "### Survived"
   ]
  },
  {
   "cell_type": "code",
   "execution_count": null,
   "metadata": {
    "colab": {
     "base_uri": "https://localhost:8080/"
    },
    "id": "OdLkUXmBDNky",
    "outputId": "e8b451af-b3cb-4489-c84e-a1913b23555c"
   },
   "outputs": [
    {
     "data": {
      "text/plain": [
       "0    0.616162\n",
       "1    0.383838\n",
       "Name: Survived, dtype: float64"
      ]
     },
     "execution_count": 22,
     "metadata": {
      "tags": []
     },
     "output_type": "execute_result"
    }
   ],
   "source": [
    "training_data['Survived'].value_counts() / len(training_data)"
   ]
  },
  {
   "cell_type": "code",
   "execution_count": null,
   "metadata": {
    "colab": {
     "base_uri": "https://localhost:8080/",
     "height": 282
    },
    "id": "IHP6NJNaC1AP",
    "outputId": "b61f4c43-630f-409f-9ae4-638305cca73e"
   },
   "outputs": [
    {
     "data": {
      "text/plain": [
       "<matplotlib.axes._subplots.AxesSubplot at 0x7f515752e208>"
      ]
     },
     "execution_count": 23,
     "metadata": {
      "tags": []
     },
     "output_type": "execute_result"
    },
    {
     "data": {
      "image/png": "[encoded data removed]",
      "text/plain": [
       "<Figure size 432x288 with 1 Axes>"
      ]
     },
     "metadata": {
      "needs_background": "light",
      "tags": []
     },
     "output_type": "display_data"
    }
   ],
   "source": [
    "training_data['Survived'].hist()"
   ]
  },
  {
   "cell_type": "markdown",
   "metadata": {
    "id": "2XxiW0s0DT0n"
   },
   "source": [
    "The distribution of the _Survived_ attribute tells us that 61.6% of passengers died, so only the 38.38% survived"
   ]
  },
  {
   "cell_type": "markdown",
   "metadata": {
    "id": "bDHEIvesPeGv"
   },
   "source": [
    "### Sex"
   ]
  },
  {
   "cell_type": "code",
   "execution_count": null,
   "metadata": {
    "colab": {
     "base_uri": "https://localhost:8080/"
    },
    "id": "d39O-rveD3-o",
    "outputId": "9646dc72-4968-400e-ed68-49fa8ee3c097"
   },
   "outputs": [
    {
     "data": {
      "text/plain": [
       "male      0.647587\n",
       "female    0.352413\n",
       "Name: Sex, dtype: float64"
      ]
     },
     "execution_count": 24,
     "metadata": {
      "tags": []
     },
     "output_type": "execute_result"
    }
   ],
   "source": [
    "training_data['Sex'].value_counts() / len(training_data)"
   ]
  },
  {
   "cell_type": "markdown",
   "metadata": {
    "id": "-Efr7jbMD57z"
   },
   "source": [
    "The 64% of passengers were males, whereas the 35% were females, let's review these statistics among survivors and non-survivors"
   ]
  },
  {
   "cell_type": "code",
   "execution_count": null,
   "metadata": {
    "colab": {
     "base_uri": "https://localhost:8080/"
    },
    "id": "mt7g1JYzDZlD",
    "outputId": "6ecbd18c-b7f5-44e8-f90f-b52d99503b5b"
   },
   "outputs": [
    {
     "data": {
      "text/plain": [
       "male      0.852459\n",
       "female    0.147541\n",
       "Name: Sex, dtype: float64"
      ]
     },
     "execution_count": 25,
     "metadata": {
      "tags": []
     },
     "output_type": "execute_result"
    }
   ],
   "source": [
    "training_data[training_data['Survived'] == 0]['Sex'].value_counts() / len(training_data[training_data['Survived'] == 0])"
   ]
  },
  {
   "cell_type": "markdown",
   "metadata": {
    "id": "TqnyYiJWELVB"
   },
   "source": [
    "Among the non-survivors, 85.24% were men, while 14% were women, so they prioritized saving women over men."
   ]
  },
  {
   "cell_type": "code",
   "execution_count": null,
   "metadata": {
    "colab": {
     "base_uri": "https://localhost:8080/"
    },
    "id": "x5EflyD3Dn54",
    "outputId": "938d7283-9561-4d11-991c-edd6d4fe5453"
   },
   "outputs": [
    {
     "data": {
      "text/plain": [
       "female    0.681287\n",
       "male      0.318713\n",
       "Name: Sex, dtype: float64"
      ]
     },
     "execution_count": 26,
     "metadata": {
      "tags": []
     },
     "output_type": "execute_result"
    }
   ],
   "source": [
    "training_data[training_data['Survived'] == 1]['Sex'].value_counts() / len(training_data[training_data['Survived'] == 1])"
   ]
  },
  {
   "cell_type": "markdown",
   "metadata": {
    "id": "q04i34TZEs_U"
   },
   "source": [
    "The females still are the majority among the survivors, being a 68% of survivors women. The 31% were men.\n",
    "\n",
    "Also we could check if the class of the women that did not survive, to see if they were rich or poor.\n",
    "\n"
   ]
  },
  {
   "cell_type": "markdown",
   "metadata": {
    "id": "5uPThmGUPgG7"
   },
   "source": [
    "### Ticket"
   ]
  },
  {
   "cell_type": "code",
   "execution_count": null,
   "metadata": {
    "colab": {
     "base_uri": "https://localhost:8080/"
    },
    "id": "I8Qq-NjbFQ_H",
    "outputId": "37feded3-d227-46ab-a556-4f89dc3d0f2d"
   },
   "outputs": [
    {
     "data": {
      "text/plain": [
       "count          891\n",
       "unique         681\n",
       "top       CA. 2343\n",
       "freq             7\n",
       "Name: Ticket, dtype: object"
      ]
     },
     "execution_count": 27,
     "metadata": {
      "tags": []
     },
     "output_type": "execute_result"
    }
   ],
   "source": [
    "training_data['Ticket'].describe()"
   ]
  },
  {
   "cell_type": "markdown",
   "metadata": {
    "id": "bkBlW4FgGKkQ"
   },
   "source": [
    "This attribute does not seem to be of much use, it has 681 unique values so it has a large variance. The only way it could be helpful would be if we would know some way to identify expensive tickets from the inexpensive ones."
   ]
  },
  {
   "cell_type": "code",
   "execution_count": null,
   "metadata": {
    "colab": {
     "base_uri": "https://localhost:8080/"
    },
    "id": "vLlN6IEfG5oM",
    "outputId": "94e8b036-cee1-4ce0-b5b8-188e7afd4b11"
   },
   "outputs": [
    {
     "data": {
      "text/plain": [
       "1        PC 17599\n",
       "3          113803\n",
       "6           17463\n",
       "11         113783\n",
       "23         113788\n",
       "27          19950\n",
       "30       PC 17601\n",
       "31       PC 17569\n",
       "34       PC 17604\n",
       "35         113789\n",
       "52       PC 17572\n",
       "54         113509\n",
       "55          19947\n",
       "61         113572\n",
       "62          36973\n",
       "64       PC 17605\n",
       "83         113059\n",
       "88          19950\n",
       "92    W.E.P. 5734\n",
       "96       PC 17754\n",
       "Name: Ticket, dtype: object"
      ]
     },
     "execution_count": 28,
     "metadata": {
      "tags": []
     },
     "output_type": "execute_result"
    }
   ],
   "source": [
    "training_data[training_data['Pclass'] == 1]['Ticket'].head(20)"
   ]
  },
  {
   "cell_type": "markdown",
   "metadata": {
    "id": "geGJ-oxcHSlC"
   },
   "source": [
    "We could review that 1st class tickets starts with a 1, 2nd class with a 2 and 3rd class with a 3."
   ]
  },
  {
   "cell_type": "markdown",
   "metadata": {
    "id": "SXFbzqVnPkXv"
   },
   "source": [
    "### Cabin"
   ]
  },
  {
   "cell_type": "code",
   "execution_count": null,
   "metadata": {
    "colab": {
     "base_uri": "https://localhost:8080/"
    },
    "id": "LQkOrEC_HZJJ",
    "outputId": "6eac42a1-52ce-46f6-9c58-942e2eadc7ee"
   },
   "outputs": [
    {
     "data": {
      "text/plain": [
       "count             204\n",
       "unique            147\n",
       "top       C23 C25 C27\n",
       "freq                4\n",
       "Name: Cabin, dtype: object"
      ]
     },
     "execution_count": 29,
     "metadata": {
      "tags": []
     },
     "output_type": "execute_result"
    }
   ],
   "source": [
    "training_data['Cabin'].describe()"
   ]
  },
  {
   "cell_type": "markdown",
   "metadata": {
    "id": "51W01wDxPi7p"
   },
   "source": [
    "### Embarked"
   ]
  },
  {
   "cell_type": "code",
   "execution_count": null,
   "metadata": {
    "colab": {
     "base_uri": "https://localhost:8080/"
    },
    "id": "DOpjuyUyHyuA",
    "outputId": "40b35185-b2a8-46a0-f2f1-698b60e6923a"
   },
   "outputs": [
    {
     "data": {
      "text/plain": [
       "count     889\n",
       "unique      3\n",
       "top         S\n",
       "freq      644\n",
       "Name: Embarked, dtype: object"
      ]
     },
     "execution_count": 30,
     "metadata": {
      "tags": []
     },
     "output_type": "execute_result"
    }
   ],
   "source": [
    "training_data['Embarked'].describe()"
   ]
  },
  {
   "cell_type": "markdown",
   "metadata": {
    "id": "xRbPyVWBH-P6"
   },
   "source": [
    "It has 3 unique values so let's check it distributions"
   ]
  },
  {
   "cell_type": "code",
   "execution_count": null,
   "metadata": {
    "colab": {
     "base_uri": "https://localhost:8080/"
    },
    "id": "9UbAaIS0H13U",
    "outputId": "57ce7b86-43e8-4674-824e-d762bd84a3e5"
   },
   "outputs": [
    {
     "data": {
      "text/plain": [
       "S    0.722783\n",
       "C    0.188552\n",
       "Q    0.086420\n",
       "Name: Embarked, dtype: float64"
      ]
     },
     "execution_count": 31,
     "metadata": {
      "tags": []
     },
     "output_type": "execute_result"
    }
   ],
   "source": [
    "training_data['Embarked'].value_counts() / len(training_data)"
   ]
  },
  {
   "cell_type": "code",
   "execution_count": null,
   "metadata": {
    "colab": {
     "base_uri": "https://localhost:8080/"
    },
    "id": "oBfa1z66ICCd",
    "outputId": "d6969f7d-19a1-4f87-c6c4-716556b741a3"
   },
   "outputs": [
    {
     "data": {
      "text/plain": [
       "S    0.777778\n",
       "C    0.136612\n",
       "Q    0.085610\n",
       "Name: Embarked, dtype: float64"
      ]
     },
     "execution_count": 32,
     "metadata": {
      "tags": []
     },
     "output_type": "execute_result"
    }
   ],
   "source": [
    "training_data[training_data['Survived'] == 0]['Embarked'].value_counts() / len(training_data[training_data['Survived'] == 0])"
   ]
  },
  {
   "cell_type": "code",
   "execution_count": null,
   "metadata": {
    "colab": {
     "base_uri": "https://localhost:8080/"
    },
    "id": "o1kMWfRyIIZV",
    "outputId": "5a86c6bc-6850-471f-a09e-e5b267561fc2"
   },
   "outputs": [
    {
     "data": {
      "text/plain": [
       "S    0.634503\n",
       "C    0.271930\n",
       "Q    0.087719\n",
       "Name: Embarked, dtype: float64"
      ]
     },
     "execution_count": 33,
     "metadata": {
      "tags": []
     },
     "output_type": "execute_result"
    }
   ],
   "source": [
    "training_data[training_data['Survived'] == 1]['Embarked'].value_counts() / len(training_data[training_data['Survived'] == 1])"
   ]
  },
  {
   "cell_type": "markdown",
   "metadata": {
    "id": "7Kn3YCyKKDjk"
   },
   "source": [
    "There is not clear evidence that passengers that embarked for a certaing city are more likly to die. It maintains the same distribution of ports among survivors and non-survivors."
   ]
  },
  {
   "cell_type": "markdown",
   "metadata": {
    "id": "QN5sZd-xrBm9"
   },
   "source": [
    "## Missing Values and Outliers"
   ]
  },
  {
   "cell_type": "code",
   "execution_count": null,
   "metadata": {
    "colab": {
     "base_uri": "https://localhost:8080/"
    },
    "id": "j4apJb55t5OU",
    "outputId": "d7af4890-1a69-4174-fdf7-d3d52b05ba86"
   },
   "outputs": [
    {
     "name": "stdout",
     "output_type": "stream",
     "text": [
      "<class 'pandas.core.frame.DataFrame'>\n",
      "RangeIndex: 891 entries, 0 to 890\n",
      "Data columns (total 12 columns):\n",
      " #   Column       Non-Null Count  Dtype  \n",
      "---  ------       --------------  -----  \n",
      " 0   PassengerId  891 non-null    int64  \n",
      " 1   Survived     891 non-null    int64  \n",
      " 2   Pclass       891 non-null    int64  \n",
      " 3   Name         891 non-null    object \n",
      " 4   Sex          891 non-null    object \n",
      " 5   Age          714 non-null    float64\n",
      " 6   SibSp        891 non-null    int64  \n",
      " 7   Parch        891 non-null    int64  \n",
      " 8   Ticket       891 non-null    object \n",
      " 9   Fare         891 non-null    float64\n",
      " 10  Cabin        204 non-null    object \n",
      " 11  Embarked     889 non-null    object \n",
      "dtypes: float64(2), int64(5), object(5)\n",
      "memory usage: 83.7+ KB\n"
     ]
    }
   ],
   "source": [
    "training_data.info()"
   ]
  },
  {
   "cell_type": "markdown",
   "metadata": {
    "id": "cBqvM7vit-Wq"
   },
   "source": [
    "There are three attibutes containing missing values:\n",
    "- _Age_ has a 19.86% of missing values\n",
    "- _Cabin_ has a 77.1% of missing values\n",
    "- _Embarked_ has a 0.2% of missing values\n",
    "\n",
    "So we are going to **impute the values on _Age_ and _Embarked_** and also we are going to **remove the _Cabin_ attribute** due to the high percentage of missing values."
   ]
  },
  {
   "cell_type": "markdown",
   "metadata": {
    "id": "bsh_8_VyrHx7"
   },
   "source": [
    "## Visualization"
   ]
  },
  {
   "cell_type": "code",
   "execution_count": 31,
   "metadata": {
    "colab": {
     "base_uri": "https://localhost:8080/",
     "height": 1000
    },
    "id": "4PrI-ZXoLUoB",
    "outputId": "58615609-ee22-4609-9282-1d4b0f1b7524"
   },
   "outputs": [
    {
     "data": {
      "text/plain": [
       "array([[<matplotlib.axes._subplots.AxesSubplot object at 0x7f2f3b79f438>,\n",
       "        <matplotlib.axes._subplots.AxesSubplot object at 0x7f2f3b7020b8>,\n",
       "        <matplotlib.axes._subplots.AxesSubplot object at 0x7f2f3b72f358>],\n",
       "       [<matplotlib.axes._subplots.AxesSubplot object at 0x7f2f3b6e26d8>,\n",
       "        <matplotlib.axes._subplots.AxesSubplot object at 0x7f2f3b692a58>,\n",
       "        <matplotlib.axes._subplots.AxesSubplot object at 0x7f2f3b645dd8>],\n",
       "       [<matplotlib.axes._subplots.AxesSubplot object at 0x7f2f3b604198>,\n",
       "        <matplotlib.axes._subplots.AxesSubplot object at 0x7f2f3b6344e0>,\n",
       "        <matplotlib.axes._subplots.AxesSubplot object at 0x7f2f3b634550>]],\n",
       "      dtype=object)"
      ]
     },
     "execution_count": 31,
     "metadata": {
      "tags": []
     },
     "output_type": "execute_result"
    },
    {
     "data": {
      "image/png": "[encoded data removed]",
      "text/plain": [
       "<Figure size 1440x1080 with 9 Axes>"
      ]
     },
     "metadata": {
      "needs_background": "light",
      "tags": []
     },
     "output_type": "display_data"
    }
   ],
   "source": [
    "training_data.hist(figsize=(20,15))"
   ]
  },
  {
   "cell_type": "markdown",
   "metadata": {
    "id": "mxSLUntfrQQd"
   },
   "source": [
    "## Correlations"
   ]
  },
  {
   "cell_type": "code",
   "execution_count": null,
   "metadata": {
    "id": "oKzArOJiwo8G"
   },
   "outputs": [],
   "source": [
    "corr_matrix = training_data.corr()"
   ]
  },
  {
   "cell_type": "code",
   "execution_count": null,
   "metadata": {
    "colab": {
     "base_uri": "https://localhost:8080/"
    },
    "id": "s0w_bvtYwsc9",
    "outputId": "4871e200-9e1b-40dc-c467-bcfd7f1e582f"
   },
   "outputs": [
    {
     "data": {
      "text/plain": [
       "PassengerId   -0.005007\n",
       "Survived       1.000000\n",
       "Pclass        -0.338481\n",
       "Age           -0.077221\n",
       "SibSp         -0.035322\n",
       "Parch          0.081629\n",
       "Fare           0.257307\n",
       "Name: Survived, dtype: float64"
      ]
     },
     "execution_count": 36,
     "metadata": {
      "tags": []
     },
     "output_type": "execute_result"
    }
   ],
   "source": [
    "corr_matrix['Survived']"
   ]
  },
  {
   "cell_type": "markdown",
   "metadata": {
    "id": "S4ACEcH9w6Ke"
   },
   "source": [
    "Most significative correlations:\n",
    "- As the _Pclass_ goes down, the _Survived_ goes up. That makes sense with the previous assumptions in which the passengers from 1st class were more likely to survive.\n",
    "- As the _Fare_ goes up, the Survived goes up too. So the higher the fare the more likely to survive."
   ]
  },
  {
   "cell_type": "markdown",
   "metadata": {
    "id": "RO4zWvDtxj6Q"
   },
   "source": [
    "Later we will convert the categorical variables _Sex_ and _Embarked_ into numeric ones and then we will check the correlation again."
   ]
  },
  {
   "cell_type": "markdown",
   "metadata": {
    "id": "y09WTmJnrSbP"
   },
   "source": [
    "## Possible feature transformations\n",
    "With the previous assumptions these are a few ideas to make in future steps:\n",
    "- Remove the _Cabin_ column because it has a high percentage of missing values and it does not provide useful information\n",
    "- Create age categories (childs, teenagers, young adults, adults, old people)\n",
    "- Remove the _Ticket_ attribute because is a categorical variable with great variance.\n",
    "- Create an attribute that relates _Fare_ and _PClass_\n",
    "- Create an attribute that contains all the family relations\n",
    "- Create an attribute that relates the family relations and the _PClass_\n",
    "- Maybe detect some titles in the passenger's names (like Sir, Mr, etc...)"
   ]
  },
  {
   "cell_type": "markdown",
   "metadata": {
    "id": "yelcL4MjztS1"
   },
   "source": [
    "# Data Preparation"
   ]
  },
  {
   "cell_type": "markdown",
   "metadata": {
    "id": "qpVTiBGbzwYd"
   },
   "source": [
    "## Handling missing values"
   ]
  },
  {
   "cell_type": "code",
   "execution_count": 12,
   "metadata": {
    "id": "tp__cCFg2IVZ"
   },
   "outputs": [],
   "source": [
    "class RemoveAttributes(BaseEstimator, TransformerMixin):\n",
    "\n",
    "    def __init__(self, attributes: List[str]) -> None:\n",
    "        self.attributes = attributes\n",
    "\n",
    "    def fit(self, X: pd.DataFrame, y: pd.DataFrame=None) -> object:\n",
    "        return self\n",
    "\n",
    "    def transform(self, X: pd.DataFrame) -> pd.DataFrame:\n",
    "        transformed_df = X.drop(self.attributes, axis=1)\n",
    "\n",
    "        return transformed_df"
   ]
  },
  {
   "cell_type": "markdown",
   "metadata": {
    "id": "zzbfQybgxakQ"
   },
   "source": [
    "**WARNING**: Transformer attributes cannot start with an undersocre '_' if we want to use the transformer in a Pipeline"
   ]
  },
  {
   "cell_type": "code",
   "execution_count": null,
   "metadata": {
    "id": "wJpNJ9ay2BTJ"
   },
   "outputs": [],
   "source": [
    "remove_attributes = RemoveAttributes(['Cabin', 'Ticket'])\n",
    "training_data = remove_attributes.fit_transform(training_data)"
   ]
  },
  {
   "cell_type": "code",
   "execution_count": null,
   "metadata": {
    "colab": {
     "base_uri": "https://localhost:8080/",
     "height": 221
    },
    "id": "5nr9ZRbi36dR",
    "outputId": "84cee669-01a8-46dd-b77a-0456be1fae62"
   },
   "outputs": [
    {
     "data": {
      "text/html": [
       "<div>\n",
       "<style scoped>\n",
       "    .dataframe tbody tr th:only-of-type {\n",
       "        vertical-align: middle;\n",
       "    }\n",
       "\n",
       "    .dataframe tbody tr th {\n",
       "        vertical-align: top;\n",
       "    }\n",
       "\n",
       "    .dataframe thead th {\n",
       "        text-align: right;\n",
       "    }\n",
       "</style>\n",
       "<table border=\"1\" class=\"dataframe\">\n",
       "  <thead>\n",
       "    <tr style=\"text-align: right;\">\n",
       "      <th></th>\n",
       "      <th>PassengerId</th>\n",
       "      <th>Survived</th>\n",
       "      <th>Pclass</th>\n",
       "      <th>Name</th>\n",
       "      <th>Sex</th>\n",
       "      <th>Age</th>\n",
       "      <th>SibSp</th>\n",
       "      <th>Parch</th>\n",
       "      <th>Fare</th>\n",
       "      <th>Embarked</th>\n",
       "    </tr>\n",
       "  </thead>\n",
       "  <tbody>\n",
       "    <tr>\n",
       "      <th>0</th>\n",
       "      <td>1</td>\n",
       "      <td>0</td>\n",
       "      <td>3</td>\n",
       "      <td>Braund, Mr. Owen Harris</td>\n",
       "      <td>male</td>\n",
       "      <td>22.0</td>\n",
       "      <td>1</td>\n",
       "      <td>0</td>\n",
       "      <td>7.2500</td>\n",
       "      <td>S</td>\n",
       "    </tr>\n",
       "    <tr>\n",
       "      <th>1</th>\n",
       "      <td>2</td>\n",
       "      <td>1</td>\n",
       "      <td>1</td>\n",
       "      <td>Cumings, Mrs. John Bradley (Florence Briggs Th...</td>\n",
       "      <td>female</td>\n",
       "      <td>38.0</td>\n",
       "      <td>1</td>\n",
       "      <td>0</td>\n",
       "      <td>71.2833</td>\n",
       "      <td>C</td>\n",
       "    </tr>\n",
       "    <tr>\n",
       "      <th>2</th>\n",
       "      <td>3</td>\n",
       "      <td>1</td>\n",
       "      <td>3</td>\n",
       "      <td>Heikkinen, Miss. Laina</td>\n",
       "      <td>female</td>\n",
       "      <td>26.0</td>\n",
       "      <td>0</td>\n",
       "      <td>0</td>\n",
       "      <td>7.9250</td>\n",
       "      <td>S</td>\n",
       "    </tr>\n",
       "    <tr>\n",
       "      <th>3</th>\n",
       "      <td>4</td>\n",
       "      <td>1</td>\n",
       "      <td>1</td>\n",
       "      <td>Futrelle, Mrs. Jacques Heath (Lily May Peel)</td>\n",
       "      <td>female</td>\n",
       "      <td>35.0</td>\n",
       "      <td>1</td>\n",
       "      <td>0</td>\n",
       "      <td>53.1000</td>\n",
       "      <td>S</td>\n",
       "    </tr>\n",
       "    <tr>\n",
       "      <th>4</th>\n",
       "      <td>5</td>\n",
       "      <td>0</td>\n",
       "      <td>3</td>\n",
       "      <td>Allen, Mr. William Henry</td>\n",
       "      <td>male</td>\n",
       "      <td>35.0</td>\n",
       "      <td>0</td>\n",
       "      <td>0</td>\n",
       "      <td>8.0500</td>\n",
       "      <td>S</td>\n",
       "    </tr>\n",
       "  </tbody>\n",
       "</table>\n",
       "</div>"
      ],
      "text/plain": [
       "   PassengerId  Survived  Pclass  ... Parch     Fare  Embarked\n",
       "0            1         0       3  ...     0   7.2500         S\n",
       "1            2         1       1  ...     0  71.2833         C\n",
       "2            3         1       3  ...     0   7.9250         S\n",
       "3            4         1       1  ...     0  53.1000         S\n",
       "4            5         0       3  ...     0   8.0500         S\n",
       "\n",
       "[5 rows x 10 columns]"
      ]
     },
     "execution_count": 39,
     "metadata": {
      "tags": []
     },
     "output_type": "execute_result"
    }
   ],
   "source": [
    "training_data.head()"
   ]
  },
  {
   "cell_type": "code",
   "execution_count": null,
   "metadata": {
    "id": "sbPZSKF04cyl"
   },
   "outputs": [],
   "source": [
    "imputer_num = SimpleImputer(strategy='median')\n",
    "imputer_cat = SimpleImputer(strategy='most_frequent')"
   ]
  },
  {
   "cell_type": "code",
   "execution_count": null,
   "metadata": {
    "id": "VtjLmv8M5CX2"
   },
   "outputs": [],
   "source": [
    "training_data_num = training_data[['Age']]\n",
    "training_data_cat = training_data[['Embarked']]"
   ]
  },
  {
   "cell_type": "code",
   "execution_count": null,
   "metadata": {
    "id": "rtnHhS_y5NyU"
   },
   "outputs": [],
   "source": [
    "training_data_num_fixed = imputer_num.fit_transform(training_data_num)"
   ]
  },
  {
   "cell_type": "code",
   "execution_count": null,
   "metadata": {
    "id": "LhZbLLjB5fGK"
   },
   "outputs": [],
   "source": [
    "training_data_cat_fixed = imputer_cat.fit_transform(training_data_cat)"
   ]
  },
  {
   "cell_type": "code",
   "execution_count": null,
   "metadata": {
    "id": "cVtpILuY5q2N"
   },
   "outputs": [],
   "source": [
    "training_data = training_data.drop(['Age', 'Embarked'], axis=1)"
   ]
  },
  {
   "cell_type": "code",
   "execution_count": null,
   "metadata": {
    "id": "VKX6GCX96FHM"
   },
   "outputs": [],
   "source": [
    "training_data['Age'] = training_data_num_fixed\n",
    "training_data['Embarked'] = training_data_cat_fixed"
   ]
  },
  {
   "cell_type": "markdown",
   "metadata": {
    "id": "X9JrBfOyz3SS"
   },
   "source": [
    "## Convert categoric attributes to ordinal"
   ]
  },
  {
   "cell_type": "code",
   "execution_count": null,
   "metadata": {
    "id": "1A8vvsZ04BD6"
   },
   "outputs": [],
   "source": [
    "ordinal_encoder = OrdinalEncoder()\n",
    "training_data_cat = training_data[['Sex', 'Embarked']]"
   ]
  },
  {
   "cell_type": "code",
   "execution_count": null,
   "metadata": {
    "id": "aAYhdTjr6jgp"
   },
   "outputs": [],
   "source": [
    "training_data_cat_encoded = ordinal_encoder.fit_transform(training_data_cat)"
   ]
  },
  {
   "cell_type": "code",
   "execution_count": null,
   "metadata": {
    "id": "cHP5TtCC6zCX"
   },
   "outputs": [],
   "source": [
    "training_data['Sex'] = training_data_cat_encoded[:, 0]"
   ]
  },
  {
   "cell_type": "code",
   "execution_count": null,
   "metadata": {
    "id": "AQ3wc05a7y4l"
   },
   "outputs": [],
   "source": [
    "training_data['Embarked'] = training_data_cat_encoded[:, 1]"
   ]
  },
  {
   "cell_type": "code",
   "execution_count": null,
   "metadata": {
    "colab": {
     "base_uri": "https://localhost:8080/",
     "height": 221
    },
    "id": "5CIVY8BZ73cM",
    "outputId": "6926c516-8920-43e4-d6fe-135fb8b1c34f"
   },
   "outputs": [
    {
     "data": {
      "text/html": [
       "<div>\n",
       "<style scoped>\n",
       "    .dataframe tbody tr th:only-of-type {\n",
       "        vertical-align: middle;\n",
       "    }\n",
       "\n",
       "    .dataframe tbody tr th {\n",
       "        vertical-align: top;\n",
       "    }\n",
       "\n",
       "    .dataframe thead th {\n",
       "        text-align: right;\n",
       "    }\n",
       "</style>\n",
       "<table border=\"1\" class=\"dataframe\">\n",
       "  <thead>\n",
       "    <tr style=\"text-align: right;\">\n",
       "      <th></th>\n",
       "      <th>PassengerId</th>\n",
       "      <th>Survived</th>\n",
       "      <th>Pclass</th>\n",
       "      <th>Name</th>\n",
       "      <th>Sex</th>\n",
       "      <th>SibSp</th>\n",
       "      <th>Parch</th>\n",
       "      <th>Fare</th>\n",
       "      <th>Age</th>\n",
       "      <th>Embarked</th>\n",
       "    </tr>\n",
       "  </thead>\n",
       "  <tbody>\n",
       "    <tr>\n",
       "      <th>0</th>\n",
       "      <td>1</td>\n",
       "      <td>0</td>\n",
       "      <td>3</td>\n",
       "      <td>Braund, Mr. Owen Harris</td>\n",
       "      <td>1.0</td>\n",
       "      <td>1</td>\n",
       "      <td>0</td>\n",
       "      <td>7.2500</td>\n",
       "      <td>22.0</td>\n",
       "      <td>2.0</td>\n",
       "    </tr>\n",
       "    <tr>\n",
       "      <th>1</th>\n",
       "      <td>2</td>\n",
       "      <td>1</td>\n",
       "      <td>1</td>\n",
       "      <td>Cumings, Mrs. John Bradley (Florence Briggs Th...</td>\n",
       "      <td>0.0</td>\n",
       "      <td>1</td>\n",
       "      <td>0</td>\n",
       "      <td>71.2833</td>\n",
       "      <td>38.0</td>\n",
       "      <td>0.0</td>\n",
       "    </tr>\n",
       "    <tr>\n",
       "      <th>2</th>\n",
       "      <td>3</td>\n",
       "      <td>1</td>\n",
       "      <td>3</td>\n",
       "      <td>Heikkinen, Miss. Laina</td>\n",
       "      <td>0.0</td>\n",
       "      <td>0</td>\n",
       "      <td>0</td>\n",
       "      <td>7.9250</td>\n",
       "      <td>26.0</td>\n",
       "      <td>2.0</td>\n",
       "    </tr>\n",
       "    <tr>\n",
       "      <th>3</th>\n",
       "      <td>4</td>\n",
       "      <td>1</td>\n",
       "      <td>1</td>\n",
       "      <td>Futrelle, Mrs. Jacques Heath (Lily May Peel)</td>\n",
       "      <td>0.0</td>\n",
       "      <td>1</td>\n",
       "      <td>0</td>\n",
       "      <td>53.1000</td>\n",
       "      <td>35.0</td>\n",
       "      <td>2.0</td>\n",
       "    </tr>\n",
       "    <tr>\n",
       "      <th>4</th>\n",
       "      <td>5</td>\n",
       "      <td>0</td>\n",
       "      <td>3</td>\n",
       "      <td>Allen, Mr. William Henry</td>\n",
       "      <td>1.0</td>\n",
       "      <td>0</td>\n",
       "      <td>0</td>\n",
       "      <td>8.0500</td>\n",
       "      <td>35.0</td>\n",
       "      <td>2.0</td>\n",
       "    </tr>\n",
       "  </tbody>\n",
       "</table>\n",
       "</div>"
      ],
      "text/plain": [
       "   PassengerId  Survived  Pclass  ...     Fare   Age  Embarked\n",
       "0            1         0       3  ...   7.2500  22.0       2.0\n",
       "1            2         1       1  ...  71.2833  38.0       0.0\n",
       "2            3         1       3  ...   7.9250  26.0       2.0\n",
       "3            4         1       1  ...  53.1000  35.0       2.0\n",
       "4            5         0       3  ...   8.0500  35.0       2.0\n",
       "\n",
       "[5 rows x 10 columns]"
      ]
     },
     "execution_count": 50,
     "metadata": {
      "tags": []
     },
     "output_type": "execute_result"
    }
   ],
   "source": [
    "training_data.head()"
   ]
  },
  {
   "cell_type": "code",
   "execution_count": null,
   "metadata": {
    "colab": {
     "base_uri": "https://localhost:8080/"
    },
    "id": "JS3jfUXJkDDo",
    "outputId": "ae8eda96-9afc-494b-fa92-17b97e243812"
   },
   "outputs": [
    {
     "data": {
      "text/plain": [
       "[array(['female', 'male'], dtype=object), array(['C', 'Q', 'S'], dtype=object)]"
      ]
     },
     "execution_count": 53,
     "metadata": {
      "tags": []
     },
     "output_type": "execute_result"
    }
   ],
   "source": [
    "ordinal_encoder.categories_"
   ]
  },
  {
   "cell_type": "markdown",
   "metadata": {
    "id": "X9z5I8f8i1aE"
   },
   "source": [
    "## Checking correlations again"
   ]
  },
  {
   "cell_type": "code",
   "execution_count": null,
   "metadata": {
    "colab": {
     "base_uri": "https://localhost:8080/"
    },
    "id": "BaFQ8Q-UitQH",
    "outputId": "08bdf7c1-dd61-4bfd-b0fe-036bded3f34d"
   },
   "outputs": [
    {
     "data": {
      "text/plain": [
       "PassengerId   -0.005007\n",
       "Survived       1.000000\n",
       "Pclass        -0.338481\n",
       "Sex           -0.543351\n",
       "SibSp         -0.035322\n",
       "Parch          0.081629\n",
       "Fare           0.257307\n",
       "Age           -0.064910\n",
       "Embarked      -0.167675\n",
       "Name: Survived, dtype: float64"
      ]
     },
     "execution_count": 51,
     "metadata": {
      "tags": []
     },
     "output_type": "execute_result"
    }
   ],
   "source": [
    "training_data.corr()['Survived']"
   ]
  },
  {
   "cell_type": "markdown",
   "metadata": {
    "id": "i5ujlMaIi0j6"
   },
   "source": [
    "The _Sex_ attribute is higly negative correlated with the survivors, being 1=Male and 0=Female. So when the _Sex_ goes down (females) the _Survived_ value goes up`(Survived), so it makes sense with our previous assumptions.  \n",
    "The _Embarked_ (C=0, Q=1, S=2) attribute is also negative correlated, so when it goes down (C or Q ports), the _Survived_ value goes up."
   ]
  },
  {
   "cell_type": "markdown",
   "metadata": {
    "id": "2bZVKwYDz84v"
   },
   "source": [
    "## Feature Engineering\n",
    "- Create age categories (childs, teenagers, young adults, adults, old people)\n",
    "- Create an attribute that relates _Fare_ and _PClass_\n",
    "- Create an attribute that contains all the family relations\n",
    "- Create an attribute that relates the family relations and the _PClass_\n",
    "- Maybe detect some titles in the passenger's names (like Sir, Mr, etc...)"
   ]
  },
  {
   "cell_type": "code",
   "execution_count": 76,
   "metadata": {
    "id": "ikKJc3cgkYsu"
   },
   "outputs": [],
   "source": [
    "class AgeCategoriesAttribute(BaseEstimator, TransformerMixin):\n",
    "    def __init__(self, age_index: int) -> None:\n",
    "        self.age_index = age_index\n",
    "        self.bins = np.array([0.0, 14.0, 21.0, 27.0, 49.0, 100.])\n",
    "    \n",
    "    def fit(self, X: np.ndarray, y: np.ndarray=None) -> object:\n",
    "        return self\n",
    "\n",
    "    def transform(self, X: np.ndarray):\n",
    "        age_categories = pd.cut(X[:, self.age_index], bins=self.bins,\n",
    "                                labels=[1, 2, 3, 4, 5])\n",
    " \n",
    "        return np.c_[X, age_categories]\n",
    "\n",
    "class ClassFareAttribute(BaseEstimator, TransformerMixin):\n",
    "    def __init__(self, pclass_idx: int, fare_idx: int) -> None:\n",
    "        self.pclass_idx, self.fare_idx = pclass_idx, fare_idx\n",
    "\n",
    "    def fit(self, X: np.ndarray, y: np.ndarray=None) -> object:\n",
    "        return self\n",
    "\n",
    "    def transform(self, X: np.ndarray):\n",
    "        class_fare_relation = np.divide(X[:, self.fare_idx], (X[:, self.pclass_idx] + 1.))**2\n",
    "\n",
    "        return np.c_[X, class_fare_relation]\n",
    "\n",
    "class FamilyRelationsAttribute(BaseEstimator, TransformerMixin):\n",
    "    def __init__(self, sibsp_ix, parch_idx) -> None:\n",
    "        self.sibsp_idx, self.parch_idx = sibsp_ix, parch_idx\n",
    "\n",
    "    def fit(self, X: np.ndarray, y: np.ndarray=None) -> object:\n",
    "        return self\n",
    "\n",
    "    def transform(self, X: np.ndarray):\n",
    "        relations = X[:, self.sibsp_idx] + X[:, self.parch_idx]\n",
    "\n",
    "        return np.c_[X, relations]\n",
    "\n",
    "class ClassFamilyAttribute(BaseEstimator, TransformerMixin):\n",
    "    def __init__(self, sibsp_idx, parch_idx, pclass_idx) -> None:\n",
    "        self.sibsp_idx, self.parch_idx, self.pclass_idx = sibsp_idx, parch_idx, pclass_idx\n",
    "\n",
    "    def fit(self, X: np.ndarray, y: np.ndarray=None) -> object:\n",
    "        return self\n",
    "\n",
    "    def transform(self, X: np.ndarray):\n",
    "        relations = X[:, self.sibsp_idx] + X[:, self.parch_idx]\n",
    "        class_family = np.divide(relations, (X[:, self.pclass_idx] + 1.))**2\n",
    "\n",
    "        return np.c_[X, class_family]"
   ]
  },
  {
   "cell_type": "markdown",
   "metadata": {
    "id": "9H4PjKVMiVTv"
   },
   "source": [
    "## Transformation Pipelines"
   ]
  },
  {
   "cell_type": "code",
   "execution_count": 77,
   "metadata": {
    "id": "OMpvW96cBqiD"
   },
   "outputs": [],
   "source": [
    "y_train = training_data['Survived'].to_numpy()\n",
    "X_train = training_data.drop('Survived', axis=1)"
   ]
  },
  {
   "cell_type": "code",
   "execution_count": 78,
   "metadata": {
    "id": "wFpDGTtmBu7I"
   },
   "outputs": [],
   "source": [
    "num_pipeline = Pipeline([\n",
    "                     ('num_imputer', SimpleImputer(strategy='median'))\n",
    "])"
   ]
  },
  {
   "cell_type": "code",
   "execution_count": 79,
   "metadata": {
    "id": "HOIynimmniAG"
   },
   "outputs": [],
   "source": [
    "cat_pipeline = Pipeline([\n",
    "                         ('remove_cat_attributes', RemoveAttributes(attributes=['Cabin', 'Ticket', 'Name', 'PassengerId'])),\n",
    "                         ('cat_imputer', SimpleImputer(strategy='most_frequent')),\n",
    "                         ('encoder', OrdinalEncoder())\n",
    "])"
   ]
  },
  {
   "cell_type": "code",
   "execution_count": 80,
   "metadata": {
    "id": "nRVN-Q6qoaNC"
   },
   "outputs": [],
   "source": [
    "preparation_pipeline = ColumnTransformer([\n",
    "                                   ('numeric', num_pipeline, ['Age', 'SibSp', 'Parch', 'Fare']),\n",
    "                                   ('categorical', cat_pipeline, ['PassengerId', 'Pclass', 'Name', 'Sex', 'Cabin', 'Ticket', 'Embarked'])\n",
    "])\n",
    "\n",
    "full_pipeline = Pipeline([\n",
    "                          ('prep_pipeline', preparation_pipeline),\n",
    "                          ('age_cat_attribute', AgeCategoriesAttribute(0)),\n",
    "                          ('class_fare_attribute', ClassFareAttribute(3, 4)),\n",
    "                          ('family_relations_attribute', FamilyRelationsAttribute(1, 2)),\n",
    "                          ('class_family_attribute', ClassFamilyAttribute(1, 2, 4)),\n",
    "                          ('scaler', StandardScaler())\n",
    "])"
   ]
  },
  {
   "cell_type": "code",
   "execution_count": 81,
   "metadata": {
    "id": "2jvo4E8-pse8"
   },
   "outputs": [],
   "source": [
    "X_train_transformed = full_pipeline.fit_transform(X_train)"
   ]
  },
  {
   "cell_type": "code",
   "execution_count": 83,
   "metadata": {
    "colab": {
     "base_uri": "https://localhost:8080/"
    },
    "id": "spJ7j0ZryALJ",
    "outputId": "724e9c08-1ac9-4006-f514-106cabd60cb8"
   },
   "outputs": [
    {
     "data": {
      "text/plain": [
       "array([[-0.56573646,  0.43279337, -0.47367361, ...,  0.04624474,\n",
       "         0.05915988, -0.28473128],\n",
       "       [ 0.66386103,  0.43279337, -0.47367361, ..., -0.16488951,\n",
       "         0.05915988,  0.08848765],\n",
       "       [-0.25833709, -0.4745452 , -0.47367361, ...,  0.01551614,\n",
       "        -0.56097483, -0.33138365],\n",
       "       ...,\n",
       "       [-0.1046374 ,  0.43279337,  2.00893337, ..., -0.14085093,\n",
       "         1.29942929,  0.08848765],\n",
       "       [-0.25833709, -0.4745452 , -0.47367361, ..., -0.16488951,\n",
       "        -0.56097483, -0.33138365],\n",
       "       [ 0.20276197, -0.4745452 , -0.47367361, ...,  0.02280453,\n",
       "        -0.56097483, -0.33138365]])"
      ]
     },
     "execution_count": 83,
     "metadata": {
      "tags": []
     },
     "output_type": "execute_result"
    }
   ],
   "source": [
    "X_train_transformed"
   ]
  },
  {
   "cell_type": "markdown",
   "metadata": {
    "id": "tmsOkJMPkoYp"
   },
   "source": [
    "# Models"
   ]
  },
  {
   "cell_type": "markdown",
   "metadata": {
    "id": "wccm9C8rkq_x"
   },
   "source": [
    "## Dummy Classifier\n",
    "We are going to build a baseline classifier that returns the passenger did not survive in all the cases"
   ]
  },
  {
   "cell_type": "code",
   "execution_count": null,
   "metadata": {
    "id": "aJXQt5oRmr3Y"
   },
   "outputs": [],
   "source": [
    "target = training_data['Survived'].to_numpy()\n",
    "data = training_data.drop('Survived', axis=1)\n",
    "data = data.to_numpy()"
   ]
  },
  {
   "cell_type": "code",
   "execution_count": null,
   "metadata": {
    "id": "a_5LD1GKkqWi"
   },
   "outputs": [],
   "source": [
    "dummy_clf = DummyClassifier(strategy='most_frequent')"
   ]
  },
  {
   "cell_type": "code",
   "execution_count": null,
   "metadata": {
    "colab": {
     "base_uri": "https://localhost:8080/"
    },
    "id": "TdOlZD9slsPr",
    "outputId": "f36d39c7-ac88-4001-8ab2-ed7395f5d0bd"
   },
   "outputs": [
    {
     "data": {
      "text/plain": [
       "DummyClassifier(constant=None, random_state=None, strategy='most_frequent')"
      ]
     },
     "execution_count": 58,
     "metadata": {
      "tags": []
     },
     "output_type": "execute_result"
    }
   ],
   "source": [
    "dummy_clf.fit(data, target)"
   ]
  },
  {
   "cell_type": "code",
   "execution_count": null,
   "metadata": {
    "colab": {
     "base_uri": "https://localhost:8080/"
    },
    "id": "jV73DLSpmLkm",
    "outputId": "fee655a6-00cc-4e52-bf5c-fe6f9b697568"
   },
   "outputs": [
    {
     "data": {
      "text/plain": [
       "0.6161616161616161"
      ]
     },
     "execution_count": 60,
     "metadata": {
      "tags": []
     },
     "output_type": "execute_result"
    }
   ],
   "source": [
    "y_pred = dummy_clf.predict(data)\n",
    "accuracy_score(target, y_pred)"
   ]
  },
  {
   "cell_type": "markdown",
   "metadata": {
    "id": "uvK0N8J7meKe"
   },
   "source": [
    "So for our model to be useful, **it must surpass a 61% of accuracy**"
   ]
  },
  {
   "cell_type": "markdown",
   "metadata": {
    "id": "syOotwMByPRT"
   },
   "source": [
    "## SGD Classifier"
   ]
  },
  {
   "cell_type": "code",
   "execution_count": 84,
   "metadata": {
    "colab": {
     "base_uri": "https://localhost:8080/"
    },
    "id": "JevKKoudzayt",
    "outputId": "2f4d104a-afa5-48b5-db05-c7d512d4b553"
   },
   "outputs": [
    {
     "name": "stdout",
     "output_type": "stream",
     "text": [
      "Training accuracy: 0.7418630751964085\n",
      "Validation accuracy: 0.69917142677798\n"
     ]
    }
   ],
   "source": [
    "sgd_clf = SGDClassifier()\n",
    "\n",
    "sgd_clf.fit(X_train_transformed, y_train)\n",
    "y_pred_training = sgd_clf.predict(X_train_transformed)\n",
    "sgd_training_acc = accuracy_score(y_train, y_pred_training)\n",
    "\n",
    "sgd_acc_val = cross_val_score(sgd_clf, X_train_transformed, y_train, cv=5, scoring='accuracy')\n",
    "sgd_acc_val = np.mean(sgd_acc_val)\n",
    "\n",
    "print(f'Training accuracy: {sgd_training_acc}')\n",
    "print(f'Validation accuracy: {sgd_acc_val}')"
   ]
  },
  {
   "cell_type": "markdown",
   "metadata": {
    "id": "28zODWqIybgW"
   },
   "source": [
    "## K-NN"
   ]
  },
  {
   "cell_type": "code",
   "execution_count": 85,
   "metadata": {
    "colab": {
     "base_uri": "https://localhost:8080/"
    },
    "id": "t7z-k1m7z4kC",
    "outputId": "65368ce7-f360-4be5-c48f-3713dfed1e12"
   },
   "outputs": [
    {
     "name": "stdout",
     "output_type": "stream",
     "text": [
      "Training accuracy: 0.856341189674523\n",
      "Validation accuracy: 0.8036093151716779\n"
     ]
    }
   ],
   "source": [
    "knn_clf = KNeighborsClassifier()\n",
    "\n",
    "knn_clf.fit(X_train_transformed, y_train)\n",
    "y_pred_training = knn_clf.predict(X_train_transformed)\n",
    "knn_training_acc = accuracy_score(y_train, y_pred_training)\n",
    "\n",
    "knn_acc_val = cross_val_score(knn_clf, X_train_transformed, y_train, cv=5, scoring='accuracy')\n",
    "knn_acc_val = np.mean(knn_acc_val)\n",
    "\n",
    "print(f'Training accuracy: {knn_training_acc}')\n",
    "print(f'Validation accuracy: {knn_acc_val}')"
   ]
  },
  {
   "cell_type": "markdown",
   "metadata": {
    "id": "UgmtEaqmydiE"
   },
   "source": [
    "## Bayes"
   ]
  },
  {
   "cell_type": "code",
   "execution_count": 86,
   "metadata": {
    "colab": {
     "base_uri": "https://localhost:8080/"
    },
    "id": "tuzmAqsWz_KK",
    "outputId": "21f886b3-f37f-45eb-ab31-e2a7572d9970"
   },
   "outputs": [
    {
     "name": "stdout",
     "output_type": "stream",
     "text": [
      "Training accuracy: 0.792368125701459\n",
      "Validation accuracy: 0.7598204758018958\n"
     ]
    }
   ],
   "source": [
    "bayes_clf = GaussianNB()\n",
    "\n",
    "bayes_clf.fit(X_train_transformed, y_train)\n",
    "y_pred_training = bayes_clf.predict(X_train_transformed)\n",
    "bayes_training_acc = accuracy_score(y_train, y_pred_training)\n",
    "\n",
    "bayes_acc_val = cross_val_score(bayes_clf, X_train_transformed, y_train, cv=5, scoring='accuracy')\n",
    "bayes_acc_val = np.mean(bayes_acc_val)\n",
    "\n",
    "print(f'Training accuracy: {bayes_training_acc}')\n",
    "print(f'Validation accuracy: {bayes_acc_val}')"
   ]
  },
  {
   "cell_type": "markdown",
   "metadata": {
    "id": "mlePbBX0yfo7"
   },
   "source": [
    "## Decision Tree"
   ]
  },
  {
   "cell_type": "code",
   "execution_count": 87,
   "metadata": {
    "colab": {
     "base_uri": "https://localhost:8080/"
    },
    "id": "Y0auOoZS0IvK",
    "outputId": "df4be19c-3845-46c1-99c4-ff7d78ee1566"
   },
   "outputs": [
    {
     "name": "stdout",
     "output_type": "stream",
     "text": [
      "Training accuracy: 0.9797979797979798\n",
      "Validation accuracy: 0.7811687904086373\n"
     ]
    }
   ],
   "source": [
    "decision_clf = DecisionTreeClassifier()\n",
    "\n",
    "decision_clf.fit(X_train_transformed, y_train)\n",
    "y_pred_training = decision_clf.predict(X_train_transformed)\n",
    "decision_training_acc = accuracy_score(y_train, y_pred_training)\n",
    "\n",
    "decision_acc_val = cross_val_score(decision_clf, X_train_transformed, y_train, cv=5, scoring='accuracy')\n",
    "decision_acc_val = np.mean(decision_acc_val)\n",
    "\n",
    "print(f'Training accuracy: {decision_training_acc}')\n",
    "print(f'Validation accuracy: {decision_acc_val}')"
   ]
  },
  {
   "cell_type": "markdown",
   "metadata": {
    "id": "46EAwIARyh2l"
   },
   "source": [
    "## Random Forest"
   ]
  },
  {
   "cell_type": "code",
   "execution_count": 88,
   "metadata": {
    "colab": {
     "base_uri": "https://localhost:8080/"
    },
    "id": "iopwR0Mqmb7F",
    "outputId": "79ec4b29-91f3-4b53-a666-0d9cc652c835"
   },
   "outputs": [
    {
     "name": "stdout",
     "output_type": "stream",
     "text": [
      "Training accuracy: 0.9797979797979798\n",
      "Validation accuracy: 0.8114995919904588\n"
     ]
    }
   ],
   "source": [
    "forest_clf = RandomForestClassifier()\n",
    "\n",
    "forest_clf.fit(X_train_transformed, y_train)\n",
    "y_pred_training = forest_clf.predict(X_train_transformed)\n",
    "forest_training_acc = accuracy_score(y_train, y_pred_training)\n",
    "\n",
    "forest_acc_val = cross_val_score(forest_clf, X_train_transformed, y_train, cv=5, scoring='accuracy')\n",
    "forest_acc_val = np.mean(forest_acc_val)\n",
    "\n",
    "print(f'Training accuracy: {forest_training_acc}')\n",
    "print(f'Validation accuracy: {forest_acc_val}')"
   ]
  },
  {
   "cell_type": "code",
   "execution_count": 100,
   "metadata": {
    "id": "xfkiTTcCV8CO"
   },
   "outputs": [],
   "source": [
    "param_grid = {\n",
    "            'bootstrap': [False, True],\n",
    "            'n_estimators': [100, 120, 140, 160, 180, 200, 220],\n",
    "            'max_features': [2, 4, 6, 8, 11],\n",
    "            'max_depth': [2, 4, 6, 8, 10]\n",
    "            }"
   ]
  },
  {
   "cell_type": "code",
   "execution_count": 101,
   "metadata": {
    "colab": {
     "base_uri": "https://localhost:8080/"
    },
    "id": "qqBrndR6XGkw",
    "outputId": "30f9988f-dd0c-4bcb-917b-0b87f9ae39d1"
   },
   "outputs": [
    {
     "data": {
      "text/plain": [
       "GridSearchCV(cv=5, error_score=nan,\n",
       "             estimator=RandomForestClassifier(bootstrap=True, ccp_alpha=0.0,\n",
       "                                              class_weight=None,\n",
       "                                              criterion='gini', max_depth=None,\n",
       "                                              max_features='auto',\n",
       "                                              max_leaf_nodes=None,\n",
       "                                              max_samples=None,\n",
       "                                              min_impurity_decrease=0.0,\n",
       "                                              min_impurity_split=None,\n",
       "                                              min_samples_leaf=1,\n",
       "                                              min_samples_split=2,\n",
       "                                              min_weight_fraction_leaf=0.0,\n",
       "                                              n_estimators=100, n_jobs=None,\n",
       "                                              oob_score=False,\n",
       "                                              random_state=None, verbose=0,\n",
       "                                              warm_start=False),\n",
       "             iid='deprecated', n_jobs=None,\n",
       "             param_grid={'bootstrap': [False, True],\n",
       "                         'max_depth': [2, 4, 6, 8, 10],\n",
       "                         'max_features': [2, 4, 6, 8, 11],\n",
       "                         'n_estimators': [100, 120, 140, 160, 180, 200, 220]},\n",
       "             pre_dispatch='2*n_jobs', refit=True, return_train_score=True,\n",
       "             scoring='accuracy', verbose=0)"
      ]
     },
     "execution_count": 101,
     "metadata": {
      "tags": []
     },
     "output_type": "execute_result"
    }
   ],
   "source": [
    "forest_clf = RandomForestClassifier()\n",
    "\n",
    "grid_search = GridSearchCV(forest_clf, param_grid, cv=5, scoring='accuracy', return_train_score=True)\n",
    "\n",
    "grid_search.fit(X_train_transformed, y_train)"
   ]
  },
  {
   "cell_type": "code",
   "execution_count": 102,
   "metadata": {
    "colab": {
     "base_uri": "https://localhost:8080/"
    },
    "id": "lDDu2dnsXnZK",
    "outputId": "f80c1dae-d00f-4ac8-c414-9fc726cd9561"
   },
   "outputs": [
    {
     "name": "stdout",
     "output_type": "stream",
     "text": [
      "Mean_test: 0.771156863975896, Mean_train:0.7954512504530628, Params:{'bootstrap': False, 'max_depth': 2, 'max_features': 2, 'n_estimators': 100}\n",
      "Mean_test: 0.7621869311405437, Mean_train:0.7890012134201113, Params:{'bootstrap': False, 'max_depth': 2, 'max_features': 2, 'n_estimators': 120}\n",
      "Mean_test: 0.762174377000816, Mean_train:0.7803043793434924, Params:{'bootstrap': False, 'max_depth': 2, 'max_features': 2, 'n_estimators': 140}\n",
      "Mean_test: 0.7767685644341221, Mean_train:0.7892805364262414, Params:{'bootstrap': False, 'max_depth': 2, 'max_features': 2, 'n_estimators': 160}\n",
      "Mean_test: 0.7722804594815139, Mean_train:0.792928282143814, Params:{'bootstrap': False, 'max_depth': 2, 'max_features': 2, 'n_estimators': 180}\n",
      "Mean_test: 0.7632979725064339, Mean_train:0.7934869281560742, Params:{'bootstrap': False, 'max_depth': 2, 'max_features': 2, 'n_estimators': 200}\n",
      "Mean_test: 0.7700332684702781, Mean_train:0.7901220511527491, Params:{'bootstrap': False, 'max_depth': 2, 'max_features': 2, 'n_estimators': 220}\n",
      "Mean_test: 0.7845960705542654, Mean_train:0.7999452385079661, Params:{'bootstrap': False, 'max_depth': 2, 'max_features': 4, 'n_estimators': 100}\n",
      "Mean_test: 0.7901512773837174, Mean_train:0.8030319744078668, Params:{'bootstrap': False, 'max_depth': 2, 'max_features': 4, 'n_estimators': 120}\n",
      "Mean_test: 0.7901826627330362, Mean_train:0.8030303985375923, Params:{'bootstrap': False, 'max_depth': 2, 'max_features': 4, 'n_estimators': 140}\n",
      "Mean_test: 0.778990647165903, Mean_train:0.8019091668373859, Params:{'bootstrap': False, 'max_depth': 2, 'max_features': 4, 'n_estimators': 160}\n",
      "Mean_test: 0.7924110225346809, Mean_train:0.8027514694990309, Params:{'bootstrap': False, 'max_depth': 2, 'max_features': 4, 'n_estimators': 180}\n",
      "Mean_test: 0.7946582135459168, Mean_train:0.7985427139637865, Params:{'bootstrap': False, 'max_depth': 2, 'max_features': 4, 'n_estimators': 200}\n",
      "Mean_test: 0.7935346180402989, Mean_train:0.8010672581433097, Params:{'bootstrap': False, 'max_depth': 2, 'max_features': 4, 'n_estimators': 220}\n",
      "Mean_test: 0.7912748728893353, Mean_train:0.8058342657232457, Params:{'bootstrap': False, 'max_depth': 2, 'max_features': 6, 'n_estimators': 100}\n",
      "Mean_test: 0.7924047454648171, Mean_train:0.8055529728792725, Params:{'bootstrap': False, 'max_depth': 2, 'max_features': 6, 'n_estimators': 120}\n",
      "Mean_test: 0.7912748728893353, Mean_train:0.8063960634760547, Params:{'bootstrap': False, 'max_depth': 2, 'max_features': 6, 'n_estimators': 140}\n",
      "Mean_test: 0.7879040863724813, Mean_train:0.8055537608144097, Params:{'bootstrap': False, 'max_depth': 2, 'max_features': 6, 'n_estimators': 160}\n",
      "Mean_test: 0.7822861088443914, Mean_train:0.8005058543580692, Params:{'bootstrap': False, 'max_depth': 2, 'max_features': 6, 'n_estimators': 180}\n",
      "Mean_test: 0.7935220639005712, Mean_train:0.8080786989615014, Params:{'bootstrap': False, 'max_depth': 2, 'max_features': 6, 'n_estimators': 200}\n",
      "Mean_test: 0.7912748728893353, Mean_train:0.806395669508486, Params:{'bootstrap': False, 'max_depth': 2, 'max_features': 6, 'n_estimators': 220}\n",
      "Mean_test: 0.7867867679367271, Mean_train:0.8041516302377989, Params:{'bootstrap': False, 'max_depth': 2, 'max_features': 8, 'n_estimators': 100}\n",
      "Mean_test: 0.7777980038917833, Mean_train:0.798821643002348, Params:{'bootstrap': False, 'max_depth': 2, 'max_features': 8, 'n_estimators': 120}\n",
      "Mean_test: 0.7777980038917833, Mean_train:0.7993826528200199, Params:{'bootstrap': False, 'max_depth': 2, 'max_features': 8, 'n_estimators': 140}\n",
      "Mean_test: 0.7777980038917833, Mean_train:0.7993826528200199, Params:{'bootstrap': False, 'max_depth': 2, 'max_features': 8, 'n_estimators': 160}\n",
      "Mean_test: 0.7777980038917833, Mean_train:0.7993826528200199, Params:{'bootstrap': False, 'max_depth': 2, 'max_features': 8, 'n_estimators': 180}\n",
      "Mean_test: 0.7777980038917833, Mean_train:0.7996631577288558, Params:{'bootstrap': False, 'max_depth': 2, 'max_features': 8, 'n_estimators': 200}\n",
      "Mean_test: 0.7777980038917833, Mean_train:0.7996631577288558, Params:{'bootstrap': False, 'max_depth': 2, 'max_features': 8, 'n_estimators': 220}\n",
      "Mean_test: 0.773316176009039, Mean_train:0.7946132814346724, Params:{'bootstrap': False, 'max_depth': 2, 'max_features': 11, 'n_estimators': 100}\n",
      "Mean_test: 0.773316176009039, Mean_train:0.7946132814346724, Params:{'bootstrap': False, 'max_depth': 2, 'max_features': 11, 'n_estimators': 120}\n",
      "Mean_test: 0.773316176009039, Mean_train:0.7946132814346724, Params:{'bootstrap': False, 'max_depth': 2, 'max_features': 11, 'n_estimators': 140}\n",
      "Mean_test: 0.773316176009039, Mean_train:0.7946132814346724, Params:{'bootstrap': False, 'max_depth': 2, 'max_features': 11, 'n_estimators': 160}\n",
      "Mean_test: 0.773316176009039, Mean_train:0.7946132814346724, Params:{'bootstrap': False, 'max_depth': 2, 'max_features': 11, 'n_estimators': 180}\n",
      "Mean_test: 0.773316176009039, Mean_train:0.7946132814346724, Params:{'bootstrap': False, 'max_depth': 2, 'max_features': 11, 'n_estimators': 200}\n",
      "Mean_test: 0.773316176009039, Mean_train:0.7946132814346724, Params:{'bootstrap': False, 'max_depth': 2, 'max_features': 11, 'n_estimators': 220}\n",
      "Mean_test: 0.8104387671834786, Mean_train:0.8479194572702775, Params:{'bootstrap': False, 'max_depth': 4, 'max_features': 2, 'n_estimators': 100}\n",
      "Mean_test: 0.8003264076329171, Mean_train:0.8414682383346204, Params:{'bootstrap': False, 'max_depth': 4, 'max_features': 2, 'n_estimators': 120}\n",
      "Mean_test: 0.8014437260686712, Mean_train:0.8467986195376398, Params:{'bootstrap': False, 'max_depth': 4, 'max_features': 2, 'n_estimators': 140}\n",
      "Mean_test: 0.7992028121272989, Mean_train:0.8355764533463604, Params:{'bootstrap': False, 'max_depth': 4, 'max_features': 2, 'n_estimators': 160}\n",
      "Mean_test: 0.8036909170799073, Mean_train:0.8476401342641473, Params:{'bootstrap': False, 'max_depth': 4, 'max_features': 2, 'n_estimators': 180}\n",
      "Mean_test: 0.8003326847027807, Mean_train:0.8406259356729754, Params:{'bootstrap': False, 'max_depth': 4, 'max_features': 2, 'n_estimators': 200}\n",
      "Mean_test: 0.8036846400100434, Mean_train:0.8451155900846242, Params:{'bootstrap': False, 'max_depth': 4, 'max_features': 2, 'n_estimators': 220}\n",
      "Mean_test: 0.8193082669010107, Mean_train:0.8524138392927496, Params:{'bootstrap': False, 'max_depth': 4, 'max_features': 4, 'n_estimators': 100}\n",
      "Mean_test: 0.822666499278137, Mean_train:0.8493251335550056, Params:{'bootstrap': False, 'max_depth': 4, 'max_features': 4, 'n_estimators': 120}\n",
      "Mean_test: 0.8237963718536188, Mean_train:0.8496056384638416, Params:{'bootstrap': False, 'max_depth': 4, 'max_features': 4, 'n_estimators': 140}\n",
      "Mean_test: 0.8237900947837549, Mean_train:0.8504479411254865, Params:{'bootstrap': False, 'max_depth': 4, 'max_features': 4, 'n_estimators': 160}\n",
      "Mean_test: 0.809252400979223, Mean_train:0.8498861433726775, Params:{'bootstrap': False, 'max_depth': 4, 'max_features': 4, 'n_estimators': 180}\n",
      "Mean_test: 0.8193019898311469, Mean_train:0.8512894558519942, Params:{'bootstrap': False, 'max_depth': 4, 'max_features': 4, 'n_estimators': 200}\n",
      "Mean_test: 0.8249074132195092, Mean_train:0.8498865373402461, Params:{'bootstrap': False, 'max_depth': 4, 'max_features': 4, 'n_estimators': 220}\n",
      "Mean_test: 0.8249011361496453, Mean_train:0.850728052066754, Params:{'bootstrap': False, 'max_depth': 4, 'max_features': 6, 'n_estimators': 100}\n",
      "Mean_test: 0.824913690289373, Mean_train:0.8465196904990782, Params:{'bootstrap': False, 'max_depth': 4, 'max_features': 6, 'n_estimators': 120}\n",
      "Mean_test: 0.8260310087251271, Mean_train:0.843995146319555, Params:{'bootstrap': False, 'max_depth': 4, 'max_features': 6, 'n_estimators': 140}\n",
      "Mean_test: 0.8226790534178645, Mean_train:0.8470814882518871, Params:{'bootstrap': False, 'max_depth': 4, 'max_features': 6, 'n_estimators': 160}\n",
      "Mean_test: 0.8249199673592367, Mean_train:0.8437150353782877, Params:{'bootstrap': False, 'max_depth': 4, 'max_features': 6, 'n_estimators': 180}\n",
      "Mean_test: 0.8226727763480006, Mean_train:0.8470807003167499, Params:{'bootstrap': False, 'max_depth': 4, 'max_features': 6, 'n_estimators': 200}\n",
      "Mean_test: 0.8193082669010107, Mean_train:0.847361993160723, Params:{'bootstrap': False, 'max_depth': 4, 'max_features': 6, 'n_estimators': 220}\n",
      "Mean_test: 0.8226727763480008, Mean_train:0.8437142474431504, Params:{'bootstrap': False, 'max_depth': 4, 'max_features': 8, 'n_estimators': 100}\n",
      "Mean_test: 0.8237900947837551, Mean_train:0.8456781757725704, Params:{'bootstrap': False, 'max_depth': 4, 'max_features': 8, 'n_estimators': 120}\n",
      "Mean_test: 0.8237900947837549, Mean_train:0.8465189025639409, Params:{'bootstrap': False, 'max_depth': 4, 'max_features': 8, 'n_estimators': 140}\n",
      "Mean_test: 0.8170673529596385, Mean_train:0.8456777818050017, Params:{'bootstrap': False, 'max_depth': 4, 'max_features': 8, 'n_estimators': 160}\n",
      "Mean_test: 0.822666499278137, Mean_train:0.8482027199520935, Params:{'bootstrap': False, 'max_depth': 4, 'max_features': 8, 'n_estimators': 180}\n",
      "Mean_test: 0.8181846713953927, Mean_train:0.8459582867138377, Params:{'bootstrap': False, 'max_depth': 4, 'max_features': 8, 'n_estimators': 200}\n",
      "Mean_test: 0.822666499278137, Mean_train:0.8456781757725704, Params:{'bootstrap': False, 'max_depth': 4, 'max_features': 8, 'n_estimators': 220}\n",
      "Mean_test: 0.8081225284037412, Mean_train:0.8420288541847235, Params:{'bootstrap': False, 'max_depth': 4, 'max_features': 11, 'n_estimators': 100}\n",
      "Mean_test: 0.8081225284037412, Mean_train:0.8420288541847235, Params:{'bootstrap': False, 'max_depth': 4, 'max_features': 11, 'n_estimators': 120}\n",
      "Mean_test: 0.8081225284037412, Mean_train:0.8420288541847235, Params:{'bootstrap': False, 'max_depth': 4, 'max_features': 11, 'n_estimators': 140}\n",
      "Mean_test: 0.8081225284037412, Mean_train:0.8420288541847235, Params:{'bootstrap': False, 'max_depth': 4, 'max_features': 11, 'n_estimators': 160}\n",
      "Mean_test: 0.8081225284037412, Mean_train:0.8420288541847235, Params:{'bootstrap': False, 'max_depth': 4, 'max_features': 11, 'n_estimators': 180}\n",
      "Mean_test: 0.8081225284037412, Mean_train:0.8420288541847235, Params:{'bootstrap': False, 'max_depth': 4, 'max_features': 11, 'n_estimators': 200}\n",
      "Mean_test: 0.8081225284037412, Mean_train:0.8420288541847235, Params:{'bootstrap': False, 'max_depth': 4, 'max_features': 11, 'n_estimators': 220}\n",
      "Mean_test: 0.8126231874960768, Mean_train:0.8824345619868572, Params:{'bootstrap': False, 'max_depth': 6, 'max_features': 2, 'n_estimators': 100}\n",
      "Mean_test: 0.8081601908229239, Mean_train:0.8815891075846636, Params:{'bootstrap': False, 'max_depth': 6, 'max_features': 2, 'n_estimators': 120}\n",
      "Mean_test: 0.8137279517921033, Mean_train:0.8827162487983988, Params:{'bootstrap': False, 'max_depth': 6, 'max_features': 2, 'n_estimators': 140}\n",
      "Mean_test: 0.807036595317306, Mean_train:0.8821516932726098, Params:{'bootstrap': False, 'max_depth': 6, 'max_features': 2, 'n_estimators': 160}\n",
      "Mean_test: 0.8114807607808675, Mean_train:0.8815926532927808, Params:{'bootstrap': False, 'max_depth': 6, 'max_features': 2, 'n_estimators': 180}\n",
      "Mean_test: 0.811493314920595, Mean_train:0.8846789952251131, Params:{'bootstrap': False, 'max_depth': 6, 'max_features': 2, 'n_estimators': 200}\n",
      "Mean_test: 0.8159814198732033, Mean_train:0.8841183793750099, Params:{'bootstrap': False, 'max_depth': 6, 'max_features': 2, 'n_estimators': 220}\n",
      "Mean_test: 0.8249199673592367, Mean_train:0.8830002994153521, Params:{'bootstrap': False, 'max_depth': 6, 'max_features': 4, 'n_estimators': 100}\n",
      "Mean_test: 0.819327098110602, Mean_train:0.8810363710859322, Params:{'bootstrap': False, 'max_depth': 6, 'max_features': 4, 'n_estimators': 120}\n",
      "Mean_test: 0.8182035026049841, Mean_train:0.8821587846888445, Params:{'bootstrap': False, 'max_depth': 6, 'max_features': 4, 'n_estimators': 140}\n",
      "Mean_test: 0.8316489862532169, Mean_train:0.8835597333627497, Params:{'bootstrap': False, 'max_depth': 6, 'max_features': 4, 'n_estimators': 160}\n",
      "Mean_test: 0.8238152030632101, Mean_train:0.8830006933829206, Params:{'bootstrap': False, 'max_depth': 6, 'max_features': 4, 'n_estimators': 180}\n",
      "Mean_test: 0.8305128366078716, Mean_train:0.8804741793655546, Params:{'bootstrap': False, 'max_depth': 6, 'max_features': 4, 'n_estimators': 200}\n",
      "Mean_test: 0.8226853304877283, Mean_train:0.8821579967537072, Params:{'bootstrap': False, 'max_depth': 6, 'max_features': 4, 'n_estimators': 220}\n",
      "Mean_test: 0.8260435628648546, Mean_train:0.8799088359046282, Params:{'bootstrap': False, 'max_depth': 6, 'max_features': 6, 'n_estimators': 100}\n",
      "Mean_test: 0.8260435628648546, Mean_train:0.882714278960556, Params:{'bootstrap': False, 'max_depth': 6, 'max_features': 6, 'n_estimators': 120}\n",
      "Mean_test: 0.826031008725127, Mean_train:0.8804694517547315, Params:{'bootstrap': False, 'max_depth': 6, 'max_features': 6, 'n_estimators': 140}\n",
      "Mean_test: 0.8226727763480008, Mean_train:0.8818715823313423, Params:{'bootstrap': False, 'max_depth': 6, 'max_features': 6, 'n_estimators': 160}\n",
      "Mean_test: 0.828278199736363, Mean_train:0.8832756827457964, Params:{'bootstrap': False, 'max_depth': 6, 'max_features': 6, 'n_estimators': 180}\n",
      "Mean_test: 0.8226727763480006, Mean_train:0.8813121483839451, Params:{'bootstrap': False, 'max_depth': 6, 'max_features': 6, 'n_estimators': 200}\n",
      "Mean_test: 0.8260435628648548, Mean_train:0.8824337740517201, Params:{'bootstrap': False, 'max_depth': 6, 'max_features': 6, 'n_estimators': 220}\n",
      "Mean_test: 0.8226727763480008, Mean_train:0.88019052271617, Params:{'bootstrap': False, 'max_depth': 6, 'max_features': 8, 'n_estimators': 100}\n",
      "Mean_test: 0.821542903772519, Mean_train:0.8813133302866507, Params:{'bootstrap': False, 'max_depth': 6, 'max_features': 8, 'n_estimators': 120}\n",
      "Mean_test: 0.8237900947837549, Mean_train:0.880752320468979, Params:{'bootstrap': False, 'max_depth': 6, 'max_features': 8, 'n_estimators': 140}\n",
      "Mean_test: 0.8226727763480008, Mean_train:0.8804710276250057, Params:{'bootstrap': False, 'max_depth': 6, 'max_features': 8, 'n_estimators': 160}\n",
      "Mean_test: 0.8249074132195091, Mean_train:0.8796295128984981, Params:{'bootstrap': False, 'max_depth': 6, 'max_features': 8, 'n_estimators': 180}\n",
      "Mean_test: 0.8237838177138912, Mean_train:0.8799096238397655, Params:{'bootstrap': False, 'max_depth': 6, 'max_features': 8, 'n_estimators': 200}\n",
      "Mean_test: 0.8237838177138912, Mean_train:0.8810324314102462, Params:{'bootstrap': False, 'max_depth': 6, 'max_features': 8, 'n_estimators': 220}\n",
      "Mean_test: 0.8193082669010107, Mean_train:0.8678435791165671, Params:{'bootstrap': False, 'max_depth': 6, 'max_features': 11, 'n_estimators': 100}\n",
      "Mean_test: 0.8226790534178645, Mean_train:0.8686850938430748, Params:{'bootstrap': False, 'max_depth': 6, 'max_features': 11, 'n_estimators': 120}\n",
      "Mean_test: 0.8204318624066286, Mean_train:0.8678435791165671, Params:{'bootstrap': False, 'max_depth': 6, 'max_features': 11, 'n_estimators': 140}\n",
      "Mean_test: 0.8193082669010107, Mean_train:0.8678435791165671, Params:{'bootstrap': False, 'max_depth': 6, 'max_features': 11, 'n_estimators': 160}\n",
      "Mean_test: 0.8193082669010107, Mean_train:0.8678435791165671, Params:{'bootstrap': False, 'max_depth': 6, 'max_features': 11, 'n_estimators': 180}\n",
      "Mean_test: 0.8204255853367648, Mean_train:0.8678435791165671, Params:{'bootstrap': False, 'max_depth': 6, 'max_features': 11, 'n_estimators': 200}\n",
      "Mean_test: 0.8193082669010107, Mean_train:0.8678435791165671, Params:{'bootstrap': False, 'max_depth': 6, 'max_features': 11, 'n_estimators': 220}\n",
      "Mean_test: 0.8204695248258114, Mean_train:0.9208731897190223, Params:{'bootstrap': False, 'max_depth': 8, 'max_features': 2, 'n_estimators': 100}\n",
      "Mean_test: 0.8193459293201932, Mean_train:0.9208739776541595, Params:{'bootstrap': False, 'max_depth': 8, 'max_features': 2, 'n_estimators': 120}\n",
      "Mean_test: 0.8238277572029377, Mean_train:0.9233969459634082, Params:{'bootstrap': False, 'max_depth': 8, 'max_features': 2, 'n_estimators': 140}\n",
      "Mean_test: 0.8193333751804659, Mean_train:0.9225581890098807, Params:{'bootstrap': False, 'max_depth': 8, 'max_features': 2, 'n_estimators': 160}\n",
      "Mean_test: 0.8126231874960768, Mean_train:0.9245221173393006, Params:{'bootstrap': False, 'max_depth': 8, 'max_features': 2, 'n_estimators': 180}\n",
      "Mean_test: 0.8170861841692298, Mean_train:0.9197519580188158, Params:{'bootstrap': False, 'max_depth': 8, 'max_features': 2, 'n_estimators': 200}\n",
      "Mean_test: 0.8193333751804659, Mean_train:0.9225585829774492, Params:{'bootstrap': False, 'max_depth': 8, 'max_features': 2, 'n_estimators': 220}\n",
      "Mean_test: 0.8283095850856821, Mean_train:0.9242447641710134, Params:{'bootstrap': False, 'max_depth': 8, 'max_features': 4, 'n_estimators': 100}\n",
      "Mean_test: 0.8260561170045821, Mean_train:0.92115881620625, Params:{'bootstrap': False, 'max_depth': 8, 'max_features': 4, 'n_estimators': 120}\n",
      "Mean_test: 0.8294394576611637, Mean_train:0.9208779173298455, Params:{'bootstrap': False, 'max_depth': 8, 'max_features': 4, 'n_estimators': 140}\n",
      "Mean_test: 0.8249450756386919, Mean_train:0.9211580282711127, Params:{'bootstrap': False, 'max_depth': 8, 'max_features': 4, 'n_estimators': 160}\n",
      "Mean_test: 0.826062394074446, Mean_train:0.923121562632964, Params:{'bootstrap': False, 'max_depth': 8, 'max_features': 4, 'n_estimators': 180}\n",
      "Mean_test: 0.8238277572029377, Mean_train:0.9236833603857729, Params:{'bootstrap': False, 'max_depth': 8, 'max_features': 4, 'n_estimators': 200}\n",
      "Mean_test: 0.8271922666499278, Mean_train:0.9236825724506359, Params:{'bootstrap': False, 'max_depth': 8, 'max_features': 4, 'n_estimators': 220}\n",
      "Mean_test: 0.8294080723118448, Mean_train:0.918914382967994, Params:{'bootstrap': False, 'max_depth': 8, 'max_features': 6, 'n_estimators': 100}\n",
      "Mean_test: 0.8271734354403364, Mean_train:0.9197555037269332, Params:{'bootstrap': False, 'max_depth': 8, 'max_features': 6, 'n_estimators': 120}\n",
      "Mean_test: 0.8294331805913, Mean_train:0.9200356146682006, Params:{'bootstrap': False, 'max_depth': 8, 'max_features': 6, 'n_estimators': 140}\n",
      "Mean_test: 0.8238152030632101, Mean_train:0.9203169075121738, Params:{'bootstrap': False, 'max_depth': 8, 'max_features': 6, 'n_estimators': 160}\n",
      "Mean_test: 0.8294206264515724, Mean_train:0.9197555037269332, Params:{'bootstrap': False, 'max_depth': 8, 'max_features': 6, 'n_estimators': 180}\n",
      "Mean_test: 0.8260498399347185, Mean_train:0.9200360086357691, Params:{'bootstrap': False, 'max_depth': 8, 'max_features': 6, 'n_estimators': 200}\n",
      "Mean_test: 0.8294143493817087, Mean_train:0.9200364026033376, Params:{'bootstrap': False, 'max_depth': 8, 'max_features': 6, 'n_estimators': 220}\n",
      "Mean_test: 0.8215680120519743, Mean_train:0.91302102210946, Params:{'bootstrap': False, 'max_depth': 8, 'max_features': 8, 'n_estimators': 100}\n",
      "Mean_test: 0.82045069361622, Mean_train:0.9133003451155901, Params:{'bootstrap': False, 'max_depth': 8, 'max_features': 8, 'n_estimators': 120}\n",
      "Mean_test: 0.8215680120519743, Mean_train:0.9155451723214144, Params:{'bootstrap': False, 'max_depth': 8, 'max_features': 8, 'n_estimators': 140}\n",
      "Mean_test: 0.8204444165463561, Mean_train:0.9147028696597695, Params:{'bootstrap': False, 'max_depth': 8, 'max_features': 8, 'n_estimators': 160}\n",
      "Mean_test: 0.819327098110602, Mean_train:0.9135816379595632, Params:{'bootstrap': False, 'max_depth': 8, 'max_features': 8, 'n_estimators': 180}\n",
      "Mean_test: 0.8204506936162199, Mean_train:0.9144223647509337, Params:{'bootstrap': False, 'max_depth': 8, 'max_features': 8, 'n_estimators': 200}\n",
      "Mean_test: 0.82045069361622, Mean_train:0.9147040515624754, Params:{'bootstrap': False, 'max_depth': 8, 'max_features': 8, 'n_estimators': 220}\n",
      "Mean_test: 0.8148578243675851, Mean_train:0.9020758151188994, Params:{'bootstrap': False, 'max_depth': 8, 'max_features': 11, 'n_estimators': 100}\n",
      "Mean_test: 0.8159751428033394, Mean_train:0.9023563200277354, Params:{'bootstrap': False, 'max_depth': 8, 'max_features': 11, 'n_estimators': 120}\n",
      "Mean_test: 0.8148578243675851, Mean_train:0.9020758151188994, Params:{'bootstrap': False, 'max_depth': 8, 'max_features': 11, 'n_estimators': 140}\n",
      "Mean_test: 0.8148515472977215, Mean_train:0.9023563200277354, Params:{'bootstrap': False, 'max_depth': 8, 'max_features': 11, 'n_estimators': 160}\n",
      "Mean_test: 0.8170924612390935, Mean_train:0.9020758151188994, Params:{'bootstrap': False, 'max_depth': 8, 'max_features': 11, 'n_estimators': 180}\n",
      "Mean_test: 0.8159751428033394, Mean_train:0.9023563200277354, Params:{'bootstrap': False, 'max_depth': 8, 'max_features': 11, 'n_estimators': 200}\n",
      "Mean_test: 0.8159751428033394, Mean_train:0.9020758151188994, Params:{'bootstrap': False, 'max_depth': 8, 'max_features': 11, 'n_estimators': 220}\n",
      "Mean_test: 0.8170924612390935, Mean_train:0.9503372362387129, Params:{'bootstrap': False, 'max_depth': 10, 'max_features': 2, 'n_estimators': 100}\n",
      "Mean_test: 0.8137153976523759, Mean_train:0.9517421245883039, Params:{'bootstrap': False, 'max_depth': 10, 'max_features': 2, 'n_estimators': 120}\n",
      "Mean_test: 0.8204569706860838, Mean_train:0.950619317017823, Params:{'bootstrap': False, 'max_depth': 10, 'max_features': 2, 'n_estimators': 140}\n",
      "Mean_test: 0.8148389931579938, Mean_train:0.9509002158942277, Params:{'bootstrap': False, 'max_depth': 10, 'max_features': 2, 'n_estimators': 160}\n",
      "Mean_test: 0.8126169104262131, Mean_train:0.9514616196794681, Params:{'bootstrap': False, 'max_depth': 10, 'max_features': 2, 'n_estimators': 180}\n",
      "Mean_test: 0.8126043562864854, Mean_train:0.9497781962588838, Params:{'bootstrap': False, 'max_depth': 10, 'max_features': 2, 'n_estimators': 200}\n",
      "Mean_test: 0.8182097796748478, Mean_train:0.9511811147706319, Params:{'bootstrap': False, 'max_depth': 10, 'max_features': 2, 'n_estimators': 220}\n",
      "Mean_test: 0.8170924612390935, Mean_train:0.9525844272499487, Params:{'bootstrap': False, 'max_depth': 10, 'max_features': 4, 'n_estimators': 100}\n",
      "Mean_test: 0.8305756073065093, Mean_train:0.9523039223411128, Params:{'bootstrap': False, 'max_depth': 10, 'max_features': 4, 'n_estimators': 120}\n",
      "Mean_test: 0.8294520118008913, Mean_train:0.9523035283735443, Params:{'bootstrap': False, 'max_depth': 10, 'max_features': 4, 'n_estimators': 140}\n",
      "Mean_test: 0.8227104387671835, Mean_train:0.9511811147706322, Params:{'bootstrap': False, 'max_depth': 10, 'max_features': 4, 'n_estimators': 160}\n",
      "Mean_test: 0.8215868432615656, Mean_train:0.9514616196794681, Params:{'bootstrap': False, 'max_depth': 10, 'max_features': 4, 'n_estimators': 180}\n",
      "Mean_test: 0.8271985437197916, Mean_train:0.9517425185558726, Params:{'bootstrap': False, 'max_depth': 10, 'max_features': 4, 'n_estimators': 200}\n",
      "Mean_test: 0.823846588412529, Mean_train:0.9506197109853917, Params:{'bootstrap': False, 'max_depth': 10, 'max_features': 4, 'n_estimators': 220}\n",
      "Mean_test: 0.8238277572029377, Mean_train:0.9503403879792616, Params:{'bootstrap': False, 'max_depth': 10, 'max_features': 6, 'n_estimators': 100}\n",
      "Mean_test: 0.8193584834599209, Mean_train:0.9511811147706322, Params:{'bootstrap': False, 'max_depth': 10, 'max_features': 6, 'n_estimators': 120}\n",
      "Mean_test: 0.8148703785073128, Mean_train:0.9534263359440251, Params:{'bootstrap': False, 'max_depth': 10, 'max_features': 6, 'n_estimators': 140}\n",
      "Mean_test: 0.8249576297784195, Mean_train:0.9517425185558726, Params:{'bootstrap': False, 'max_depth': 10, 'max_features': 6, 'n_estimators': 160}\n",
      "Mean_test: 0.8215931203314293, Mean_train:0.9523039223411128, Params:{'bootstrap': False, 'max_depth': 10, 'max_features': 6, 'n_estimators': 180}\n",
      "Mean_test: 0.8227229929069111, Mean_train:0.9525844272499487, Params:{'bootstrap': False, 'max_depth': 10, 'max_features': 6, 'n_estimators': 200}\n",
      "Mean_test: 0.8227167158370472, Mean_train:0.952023417432277, Params:{'bootstrap': False, 'max_depth': 10, 'max_features': 6, 'n_estimators': 220}\n",
      "Mean_test: 0.8126043562864854, Mean_train:0.9455698346912083, Params:{'bootstrap': False, 'max_depth': 10, 'max_features': 8, 'n_estimators': 100}\n",
      "Mean_test: 0.8148515472977215, Mean_train:0.9452901177175095, Params:{'bootstrap': False, 'max_depth': 10, 'max_features': 8, 'n_estimators': 120}\n",
      "Mean_test: 0.8182223338145753, Mean_train:0.9438871992057614, Params:{'bootstrap': False, 'max_depth': 10, 'max_features': 8, 'n_estimators': 140}\n",
      "Mean_test: 0.8159751428033394, Mean_train:0.9469723592353878, Params:{'bootstrap': False, 'max_depth': 10, 'max_features': 8, 'n_estimators': 160}\n",
      "Mean_test: 0.8137279517921033, Mean_train:0.9447291078998378, Params:{'bootstrap': False, 'max_depth': 10, 'max_features': 8, 'n_estimators': 180}\n",
      "Mean_test: 0.8148515472977215, Mean_train:0.9455702286587767, Params:{'bootstrap': False, 'max_depth': 10, 'max_features': 8, 'n_estimators': 200}\n",
      "Mean_test: 0.8182160567447117, Mean_train:0.9461312384764486, Params:{'bootstrap': False, 'max_depth': 10, 'max_features': 8, 'n_estimators': 220}\n",
      "Mean_test: 0.8036281463812692, Mean_train:0.9326610933387964, Params:{'bootstrap': False, 'max_depth': 10, 'max_features': 11, 'n_estimators': 100}\n",
      "Mean_test: 0.8025045508756513, Mean_train:0.9326610933387964, Params:{'bootstrap': False, 'max_depth': 10, 'max_features': 11, 'n_estimators': 120}\n",
      "Mean_test: 0.8036281463812692, Mean_train:0.9326610933387964, Params:{'bootstrap': False, 'max_depth': 10, 'max_features': 11, 'n_estimators': 140}\n",
      "Mean_test: 0.8036218693114054, Mean_train:0.9326610933387964, Params:{'bootstrap': False, 'max_depth': 10, 'max_features': 11, 'n_estimators': 160}\n",
      "Mean_test: 0.8025045508756513, Mean_train:0.9326610933387964, Params:{'bootstrap': False, 'max_depth': 10, 'max_features': 11, 'n_estimators': 180}\n",
      "Mean_test: 0.8025045508756513, Mean_train:0.9326610933387964, Params:{'bootstrap': False, 'max_depth': 10, 'max_features': 11, 'n_estimators': 200}\n",
      "Mean_test: 0.8036281463812692, Mean_train:0.9326610933387964, Params:{'bootstrap': False, 'max_depth': 10, 'max_features': 11, 'n_estimators': 220}\n",
      "Mean_test: 0.7734228861967234, Mean_train:0.7873154261941157, Params:{'bootstrap': True, 'max_depth': 2, 'max_features': 2, 'n_estimators': 100}\n",
      "Mean_test: 0.7632916954365703, Mean_train:0.7861949824290464, Params:{'bootstrap': True, 'max_depth': 2, 'max_features': 2, 'n_estimators': 120}\n",
      "Mean_test: 0.7666562048835603, Mean_train:0.7890000315174055, Params:{'bootstrap': True, 'max_depth': 2, 'max_features': 2, 'n_estimators': 140}\n",
      "Mean_test: 0.7711505869060323, Mean_train:0.7884390216997337, Params:{'bootstrap': True, 'max_depth': 2, 'max_features': 2, 'n_estimators': 160}\n",
      "Mean_test: 0.7655514405875338, Mean_train:0.7831090344642828, Params:{'bootstrap': True, 'max_depth': 2, 'max_features': 2, 'n_estimators': 180}\n",
      "Mean_test: 0.7688971188249326, Mean_train:0.7892825062640842, Params:{'bootstrap': True, 'max_depth': 2, 'max_features': 2, 'n_estimators': 200}\n",
      "Mean_test: 0.7756386918586404, Mean_train:0.7898427281466189, Params:{'bootstrap': True, 'max_depth': 2, 'max_features': 2, 'n_estimators': 220}\n",
      "Mean_test: 0.7890465130876907, Mean_train:0.7996674913721102, Params:{'bootstrap': True, 'max_depth': 2, 'max_features': 4, 'n_estimators': 100}\n",
      "Mean_test: 0.7946456594061893, Mean_train:0.8024709645901948, Params:{'bootstrap': True, 'max_depth': 2, 'max_features': 4, 'n_estimators': 120}\n",
      "Mean_test: 0.789033958947963, Mean_train:0.8024709645901951, Params:{'bootstrap': True, 'max_depth': 2, 'max_features': 4, 'n_estimators': 140}\n",
      "Mean_test: 0.7912748728893353, Mean_train:0.8010680460784467, Params:{'bootstrap': True, 'max_depth': 2, 'max_features': 4, 'n_estimators': 160}\n",
      "Mean_test: 0.7845521310652187, Mean_train:0.8002269253195078, Params:{'bootstrap': True, 'max_depth': 2, 'max_features': 4, 'n_estimators': 180}\n",
      "Mean_test: 0.7789655388864478, Mean_train:0.8024705706226264, Params:{'bootstrap': True, 'max_depth': 2, 'max_features': 4, 'n_estimators': 200}\n",
      "Mean_test: 0.7823300483334379, Mean_train:0.8007891170398851, Params:{'bootstrap': True, 'max_depth': 2, 'max_features': 4, 'n_estimators': 220}\n",
      "Mean_test: 0.8002008662356411, Mean_train:0.8016290558961187, Params:{'bootstrap': True, 'max_depth': 2, 'max_features': 6, 'n_estimators': 100}\n",
      "Mean_test: 0.7856506182913815, Mean_train:0.8024693887199206, Params:{'bootstrap': True, 'max_depth': 2, 'max_features': 6, 'n_estimators': 120}\n",
      "Mean_test: 0.795712761283033, Mean_train:0.8038719132641002, Params:{'bootstrap': True, 'max_depth': 2, 'max_features': 6, 'n_estimators': 140}\n",
      "Mean_test: 0.7766806854560292, Mean_train:0.7991033298138898, Params:{'bootstrap': True, 'max_depth': 2, 'max_features': 6, 'n_estimators': 160}\n",
      "Mean_test: 0.7811562362689097, Mean_train:0.8027526514017366, Params:{'bootstrap': True, 'max_depth': 2, 'max_features': 6, 'n_estimators': 180}\n",
      "Mean_test: 0.7811625133387735, Mean_train:0.8007871472020425, Params:{'bootstrap': True, 'max_depth': 2, 'max_features': 6, 'n_estimators': 200}\n",
      "Mean_test: 0.7878978093026175, Mean_train:0.8078005578580771, Params:{'bootstrap': True, 'max_depth': 2, 'max_features': 6, 'n_estimators': 220}\n",
      "Mean_test: 0.7834097043500095, Mean_train:0.8038730951668057, Params:{'bootstrap': True, 'max_depth': 2, 'max_features': 8, 'n_estimators': 100}\n",
      "Mean_test: 0.7766806854560292, Mean_train:0.7991025418787525, Params:{'bootstrap': True, 'max_depth': 2, 'max_features': 8, 'n_estimators': 120}\n",
      "Mean_test: 0.787853869813571, Mean_train:0.7999448445403974, Params:{'bootstrap': True, 'max_depth': 2, 'max_features': 8, 'n_estimators': 140}\n",
      "Mean_test: 0.7800326407632917, Mean_train:0.8019095608049545, Params:{'bootstrap': True, 'max_depth': 2, 'max_features': 8, 'n_estimators': 160}\n",
      "Mean_test: 0.7778042809616471, Mean_train:0.8019091668373859, Params:{'bootstrap': True, 'max_depth': 2, 'max_features': 8, 'n_estimators': 180}\n",
      "Mean_test: 0.7766806854560292, Mean_train:0.8002261373843705, Params:{'bootstrap': True, 'max_depth': 2, 'max_features': 8, 'n_estimators': 200}\n",
      "Mean_test: 0.7766806854560292, Mean_train:0.7999448445403975, Params:{'bootstrap': True, 'max_depth': 2, 'max_features': 8, 'n_estimators': 220}\n",
      "Mean_test: 0.7744272173749294, Mean_train:0.79517547315505, Params:{'bootstrap': True, 'max_depth': 2, 'max_features': 11, 'n_estimators': 100}\n",
      "Mean_test: 0.7822923859142552, Mean_train:0.8041516302377987, Params:{'bootstrap': True, 'max_depth': 2, 'max_features': 11, 'n_estimators': 120}\n",
      "Mean_test: 0.782298662984119, Mean_train:0.8080783049939327, Params:{'bootstrap': True, 'max_depth': 2, 'max_features': 11, 'n_estimators': 140}\n",
      "Mean_test: 0.7789341535371288, Mean_train:0.8058342657232457, Params:{'bootstrap': True, 'max_depth': 2, 'max_features': 11, 'n_estimators': 160}\n",
      "Mean_test: 0.7800451949030193, Mean_train:0.8002245615140963, Params:{'bootstrap': True, 'max_depth': 2, 'max_features': 11, 'n_estimators': 180}\n",
      "Mean_test: 0.7834159814198731, Mean_train:0.8047126400554706, Params:{'bootstrap': True, 'max_depth': 2, 'max_features': 11, 'n_estimators': 200}\n",
      "Mean_test: 0.7834159814198731, Mean_train:0.8072371842349938, Params:{'bootstrap': True, 'max_depth': 2, 'max_features': 11, 'n_estimators': 220}\n",
      "Mean_test: 0.8025610445044252, Mean_train:0.8448346912082197, Params:{'bootstrap': True, 'max_depth': 4, 'max_features': 2, 'n_estimators': 100}\n",
      "Mean_test: 0.7991965350574353, Mean_train:0.840347794569551, Params:{'bootstrap': True, 'max_depth': 4, 'max_features': 2, 'n_estimators': 120}\n",
      "Mean_test: 0.8025610445044252, Mean_train:0.8397848149140362, Params:{'bootstrap': True, 'max_depth': 4, 'max_features': 2, 'n_estimators': 140}\n",
      "Mean_test: 0.7969618981859269, Mean_train:0.8403458247317082, Params:{'bootstrap': True, 'max_depth': 4, 'max_features': 2, 'n_estimators': 160}\n",
      "Mean_test: 0.8059506622308706, Mean_train:0.8465169327260981, Params:{'bootstrap': True, 'max_depth': 4, 'max_features': 2, 'n_estimators': 180}\n",
      "Mean_test: 0.8003201305630532, Mean_train:0.8439955402871234, Params:{'bootstrap': True, 'max_depth': 4, 'max_features': 2, 'n_estimators': 200}\n",
      "Mean_test: 0.7969493440461992, Mean_train:0.842590257969964, Params:{'bootstrap': True, 'max_depth': 4, 'max_features': 2, 'n_estimators': 220}\n",
      "Mean_test: 0.807005209967987, Mean_train:0.8487649116724711, Params:{'bootstrap': True, 'max_depth': 4, 'max_features': 4, 'n_estimators': 100}\n",
      "Mean_test: 0.8081162513338773, Mean_train:0.8507312038073026, Params:{'bootstrap': True, 'max_depth': 4, 'max_features': 4, 'n_estimators': 120}\n",
      "Mean_test: 0.8159500345238841, Mean_train:0.8493278913279859, Params:{'bootstrap': True, 'max_depth': 4, 'max_features': 4, 'n_estimators': 140}\n",
      "Mean_test: 0.8170736300295023, Mean_train:0.8521345162866192, Params:{'bootstrap': True, 'max_depth': 4, 'max_features': 4, 'n_estimators': 160}\n",
      "Mean_test: 0.8159876969430669, Mean_train:0.850447547157918, Params:{'bootstrap': True, 'max_depth': 4, 'max_features': 4, 'n_estimators': 180}\n",
      "Mean_test: 0.8125980792166217, Mean_train:0.8482058716926423, Params:{'bootstrap': True, 'max_depth': 4, 'max_features': 4, 'n_estimators': 200}\n",
      "Mean_test: 0.8092586780490867, Mean_train:0.8487645177049025, Params:{'bootstrap': True, 'max_depth': 4, 'max_features': 4, 'n_estimators': 220}\n",
      "Mean_test: 0.8193145439708743, Mean_train:0.8487653056400395, Params:{'bootstrap': True, 'max_depth': 4, 'max_features': 6, 'n_estimators': 100}\n",
      "Mean_test: 0.8237900947837549, Mean_train:0.8470826701545928, Params:{'bootstrap': True, 'max_depth': 4, 'max_features': 6, 'n_estimators': 120}\n",
      "Mean_test: 0.8249074132195091, Mean_train:0.8476436799722646, Params:{'bootstrap': True, 'max_depth': 4, 'max_features': 6, 'n_estimators': 140}\n",
      "Mean_test: 0.8193019898311468, Mean_train:0.8482039018547993, Params:{'bootstrap': True, 'max_depth': 4, 'max_features': 6, 'n_estimators': 160}\n",
      "Mean_test: 0.8193019898311468, Mean_train:0.8487656996076083, Params:{'bootstrap': True, 'max_depth': 4, 'max_features': 6, 'n_estimators': 180}\n",
      "Mean_test: 0.8204255853367648, Mean_train:0.8476428920371275, Params:{'bootstrap': True, 'max_depth': 4, 'max_features': 6, 'n_estimators': 200}\n",
      "Mean_test: 0.821542903772519, Mean_train:0.84736278109586, Params:{'bootstrap': True, 'max_depth': 4, 'max_features': 6, 'n_estimators': 220}\n",
      "Mean_test: 0.8193145439708743, Mean_train:0.848205083757505, Params:{'bootstrap': True, 'max_depth': 4, 'max_features': 8, 'n_estimators': 100}\n",
      "Mean_test: 0.8226790534178645, Mean_train:0.8482046897899365, Params:{'bootstrap': True, 'max_depth': 4, 'max_features': 8, 'n_estimators': 120}\n",
      "Mean_test: 0.8204255853367648, Mean_train:0.8470826701545928, Params:{'bootstrap': True, 'max_depth': 4, 'max_features': 8, 'n_estimators': 140}\n",
      "Mean_test: 0.822666499278137, Mean_train:0.8490469924515814, Params:{'bootstrap': True, 'max_depth': 4, 'max_features': 8, 'n_estimators': 160}\n",
      "Mean_test: 0.8237838177138912, Mean_train:0.848204295822368, Params:{'bootstrap': True, 'max_depth': 4, 'max_features': 8, 'n_estimators': 180}\n",
      "Mean_test: 0.821542903772519, Mean_train:0.8476440739398333, Params:{'bootstrap': True, 'max_depth': 4, 'max_features': 8, 'n_estimators': 200}\n",
      "Mean_test: 0.822666499278137, Mean_train:0.8473639629985659, Params:{'bootstrap': True, 'max_depth': 4, 'max_features': 8, 'n_estimators': 220}\n",
      "Mean_test: 0.8237900947837551, Mean_train:0.8476456498101076, Params:{'bootstrap': True, 'max_depth': 4, 'max_features': 11, 'n_estimators': 100}\n",
      "Mean_test: 0.8226727763480008, Mean_train:0.8487676694454512, Params:{'bootstrap': True, 'max_depth': 4, 'max_features': 11, 'n_estimators': 120}\n",
      "Mean_test: 0.8215491808423827, Mean_train:0.845400034669146, Params:{'bootstrap': True, 'max_depth': 4, 'max_features': 11, 'n_estimators': 140}\n",
      "Mean_test: 0.8193082669010107, Mean_train:0.8473643569661344, Params:{'bootstrap': True, 'max_depth': 4, 'max_features': 11, 'n_estimators': 160}\n",
      "Mean_test: 0.8226664992781372, Mean_train:0.8473635690309973, Params:{'bootstrap': True, 'max_depth': 4, 'max_features': 11, 'n_estimators': 180}\n",
      "Mean_test: 0.8215491808423827, Mean_train:0.8482054777250736, Params:{'bootstrap': True, 'max_depth': 4, 'max_features': 11, 'n_estimators': 200}\n",
      "Mean_test: 0.8237963718536188, Mean_train:0.848205083757505, Params:{'bootstrap': True, 'max_depth': 4, 'max_features': 11, 'n_estimators': 220}\n",
      "Mean_test: 0.810369719414977, Mean_train:0.8756992924342468, Params:{'bootstrap': True, 'max_depth': 6, 'max_features': 2, 'n_estimators': 100}\n",
      "Mean_test: 0.8114995919904588, Mean_train:0.8776644026663725, Params:{'bootstrap': True, 'max_depth': 6, 'max_features': 2, 'n_estimators': 120}\n",
      "Mean_test: 0.8148892097169043, Mean_train:0.876257938446507, Params:{'bootstrap': True, 'max_depth': 6, 'max_features': 2, 'n_estimators': 140}\n",
      "Mean_test: 0.8081539137530601, Mean_train:0.882152481207747, Params:{'bootstrap': True, 'max_depth': 6, 'max_features': 2, 'n_estimators': 160}\n",
      "Mean_test: 0.8182411650241667, Mean_train:0.8801905227161699, Params:{'bootstrap': True, 'max_depth': 6, 'max_features': 2, 'n_estimators': 180}\n",
      "Mean_test: 0.812623187496077, Mean_train:0.8799080479694912, Params:{'bootstrap': True, 'max_depth': 6, 'max_features': 2, 'n_estimators': 200}\n",
      "Mean_test: 0.8137467830016947, Mean_train:0.8804698457223001, Params:{'bootstrap': True, 'max_depth': 6, 'max_features': 2, 'n_estimators': 220}\n",
      "Mean_test: 0.8238089259933463, Mean_train:0.8771065445892494, Params:{'bootstrap': True, 'max_depth': 6, 'max_features': 4, 'n_estimators': 100}\n",
      "Mean_test: 0.826062394074446, Mean_train:0.8787895740422649, Params:{'bootstrap': True, 'max_depth': 6, 'max_features': 4, 'n_estimators': 120}\n",
      "Mean_test: 0.8260372857949909, Mean_train:0.8790720487889436, Params:{'bootstrap': True, 'max_depth': 6, 'max_features': 4, 'n_estimators': 140}\n",
      "Mean_test: 0.8260686711443099, Mean_train:0.8832800163890508, Params:{'bootstrap': True, 'max_depth': 6, 'max_features': 4, 'n_estimators': 160}\n",
      "Mean_test: 0.8226916075575922, Mean_train:0.8793513717950738, Params:{'bootstrap': True, 'max_depth': 6, 'max_features': 4, 'n_estimators': 180}\n",
      "Mean_test: 0.8193333751804659, Mean_train:0.877666766471784, Params:{'bootstrap': True, 'max_depth': 6, 'max_features': 4, 'n_estimators': 200}\n",
      "Mean_test: 0.819327098110602, Mean_train:0.8793525536977796, Params:{'bootstrap': True, 'max_depth': 6, 'max_features': 4, 'n_estimators': 220}\n",
      "Mean_test: 0.8260372857949909, Mean_train:0.8827197945065162, Params:{'bootstrap': True, 'max_depth': 6, 'max_features': 6, 'n_estimators': 100}\n",
      "Mean_test: 0.8204444165463561, Mean_train:0.8827201884740848, Params:{'bootstrap': True, 'max_depth': 6, 'max_features': 6, 'n_estimators': 120}\n",
      "Mean_test: 0.8237963718536188, Mean_train:0.8829999054477835, Params:{'bootstrap': True, 'max_depth': 6, 'max_features': 6, 'n_estimators': 140}\n",
      "Mean_test: 0.8282907538760906, Mean_train:0.881035583150795, Params:{'bootstrap': True, 'max_depth': 6, 'max_features': 6, 'n_estimators': 160}\n",
      "Mean_test: 0.8227041616973196, Mean_train:0.881035583150795, Params:{'bootstrap': True, 'max_depth': 6, 'max_features': 6, 'n_estimators': 180}\n",
      "Mean_test: 0.8237963718536188, Mean_train:0.8804741793655545, Params:{'bootstrap': True, 'max_depth': 6, 'max_features': 6, 'n_estimators': 200}\n",
      "Mean_test: 0.8271671583704727, Mean_train:0.8852455205887452, Params:{'bootstrap': True, 'max_depth': 6, 'max_features': 6, 'n_estimators': 220}\n",
      "Mean_test: 0.8271922666499278, Mean_train:0.8888912964684748, Params:{'bootstrap': True, 'max_depth': 6, 'max_features': 8, 'n_estimators': 100}\n",
      "Mean_test: 0.8271797125102003, Mean_train:0.8880505696771042, Params:{'bootstrap': True, 'max_depth': 6, 'max_features': 8, 'n_estimators': 120}\n",
      "Mean_test: 0.8249387985688281, Mean_train:0.8866452873599446, Params:{'bootstrap': True, 'max_depth': 6, 'max_features': 8, 'n_estimators': 140}\n",
      "Mean_test: 0.8260561170045824, Mean_train:0.8894527002537151, Params:{'bootstrap': True, 'max_depth': 6, 'max_features': 8, 'n_estimators': 160}\n",
      "Mean_test: 0.8294331805913, Mean_train:0.8891718013773107, Params:{'bootstrap': True, 'max_depth': 6, 'max_features': 8, 'n_estimators': 180}\n",
      "Mean_test: 0.8294206264515724, Mean_train:0.8869261862363491, Params:{'bootstrap': True, 'max_depth': 6, 'max_features': 8, 'n_estimators': 200}\n",
      "Mean_test: 0.8249325214989642, Mean_train:0.8877677009628568, Params:{'bootstrap': True, 'max_depth': 6, 'max_features': 8, 'n_estimators': 220}\n",
      "Mean_test: 0.8226916075575922, Mean_train:0.8925362844130671, Params:{'bootstrap': True, 'max_depth': 6, 'max_features': 11, 'n_estimators': 100}\n",
      "Mean_test: 0.8249325214989642, Mean_train:0.8936610618213908, Params:{'bootstrap': True, 'max_depth': 6, 'max_features': 11, 'n_estimators': 120}\n",
      "Mean_test: 0.8215617349821104, Mean_train:0.8900125281686811, Params:{'bootstrap': True, 'max_depth': 6, 'max_features': 11, 'n_estimators': 140}\n",
      "Mean_test: 0.8249325214989642, Mean_train:0.8908532549600517, Params:{'bootstrap': True, 'max_depth': 6, 'max_features': 11, 'n_estimators': 160}\n",
      "Mean_test: 0.8249387985688281, Mean_train:0.893380556912555, Params:{'bootstrap': True, 'max_depth': 6, 'max_features': 11, 'n_estimators': 180}\n",
      "Mean_test: 0.8327914129684263, Mean_train:0.8936602738862536, Params:{'bootstrap': True, 'max_depth': 6, 'max_features': 11, 'n_estimators': 200}\n",
      "Mean_test: 0.8238026489234826, Mean_train:0.8900121342011126, Params:{'bootstrap': True, 'max_depth': 6, 'max_features': 11, 'n_estimators': 220}\n",
      "Mean_test: 0.8215868432615654, Mean_train:0.9161061821390863, Params:{'bootstrap': True, 'max_depth': 8, 'max_features': 2, 'n_estimators': 100}\n",
      "Mean_test: 0.8249576297784195, Mean_train:0.9169476968655939, Params:{'bootstrap': True, 'max_depth': 8, 'max_features': 2, 'n_estimators': 120}\n",
      "Mean_test: 0.8283284162952734, Mean_train:0.9189116251950139, Params:{'bootstrap': True, 'max_depth': 8, 'max_features': 2, 'n_estimators': 140}\n",
      "Mean_test: 0.8182160567447117, Mean_train:0.916667191956758, Params:{'bootstrap': True, 'max_depth': 8, 'max_features': 2, 'n_estimators': 160}\n",
      "Mean_test: 0.8238340342728016, Mean_train:0.9189124131301512, Params:{'bootstrap': True, 'max_depth': 8, 'max_features': 2, 'n_estimators': 180}\n",
      "Mean_test: 0.8238277572029377, Mean_train:0.9180689285658005, Params:{'bootstrap': True, 'max_depth': 8, 'max_features': 2, 'n_estimators': 200}\n",
      "Mean_test: 0.8238403113426653, Mean_train:0.9180701104685063, Params:{'bootstrap': True, 'max_depth': 8, 'max_features': 2, 'n_estimators': 220}\n",
      "Mean_test: 0.8361621994852803, Mean_train:0.9242431883007391, Params:{'bootstrap': True, 'max_depth': 8, 'max_features': 4, 'n_estimators': 100}\n",
      "Mean_test: 0.8294143493817085, Mean_train:0.9203149376743307, Params:{'bootstrap': True, 'max_depth': 8, 'max_features': 4, 'n_estimators': 120}\n",
      "Mean_test: 0.8305693302366455, Mean_train:0.9228406637565596, Params:{'bootstrap': True, 'max_depth': 8, 'max_features': 4, 'n_estimators': 140}\n",
      "Mean_test: 0.8406628585776159, Mean_train:0.9236825724506359, Params:{'bootstrap': True, 'max_depth': 8, 'max_features': 4, 'n_estimators': 160}\n",
      "Mean_test: 0.8350323269097985, Mean_train:0.9222784720361821, Params:{'bootstrap': True, 'max_depth': 8, 'max_features': 4, 'n_estimators': 180}\n",
      "Mean_test: 0.8305756073065094, Mean_train:0.9231199867626897, Params:{'bootstrap': True, 'max_depth': 8, 'max_features': 4, 'n_estimators': 200}\n",
      "Mean_test: 0.8327976900382901, Mean_train:0.9222788660037506, Params:{'bootstrap': True, 'max_depth': 8, 'max_features': 4, 'n_estimators': 220}\n",
      "Mean_test: 0.8328165212478815, Mean_train:0.9222792599713191, Params:{'bootstrap': True, 'max_depth': 8, 'max_features': 6, 'n_estimators': 100}\n",
      "Mean_test: 0.8316929257422636, Mean_train:0.9256453188773499, Params:{'bootstrap': True, 'max_depth': 8, 'max_features': 6, 'n_estimators': 120}\n",
      "Mean_test: 0.8395455401418619, Mean_train:0.9225593709125863, Params:{'bootstrap': True, 'max_depth': 8, 'max_features': 6, 'n_estimators': 140}\n",
      "Mean_test: 0.8384219446362439, Mean_train:0.9259270056888915, Params:{'bootstrap': True, 'max_depth': 8, 'max_features': 6, 'n_estimators': 160}\n",
      "Mean_test: 0.8316866486723997, Mean_train:0.9253656019036512, Params:{'bootstrap': True, 'max_depth': 8, 'max_features': 6, 'n_estimators': 180}\n",
      "Mean_test: 0.8361873077647355, Mean_train:0.9273295302330713, Params:{'bootstrap': True, 'max_depth': 8, 'max_features': 6, 'n_estimators': 200}\n",
      "Mean_test: 0.837298349130626, Mean_train:0.9236829664182042, Params:{'bootstrap': True, 'max_depth': 8, 'max_features': 6, 'n_estimators': 220}\n",
      "Mean_test: 0.8327976900382902, Mean_train:0.9270498132593724, Params:{'bootstrap': True, 'max_depth': 8, 'max_features': 8, 'n_estimators': 100}\n",
      "Mean_test: 0.8372920720607621, Mean_train:0.9276104291094758, Params:{'bootstrap': True, 'max_depth': 8, 'max_features': 8, 'n_estimators': 120}\n",
      "Mean_test: 0.8384282217061075, Mean_train:0.925646106812487, Params:{'bootstrap': True, 'max_depth': 8, 'max_features': 8, 'n_estimators': 140}\n",
      "Mean_test: 0.8395329860021341, Mean_train:0.9273295302330713, Params:{'bootstrap': True, 'max_depth': 8, 'max_features': 8, 'n_estimators': 160}\n",
      "Mean_test: 0.8339275626137719, Mean_train:0.9278921159210174, Params:{'bootstrap': True, 'max_depth': 8, 'max_features': 8, 'n_estimators': 180}\n",
      "Mean_test: 0.8417927311530977, Mean_train:0.9250843090596781, Params:{'bootstrap': True, 'max_depth': 8, 'max_features': 8, 'n_estimators': 200}\n",
      "Mean_test: 0.8395455401418618, Mean_train:0.9270498132593726, Params:{'bootstrap': True, 'max_depth': 8, 'max_features': 8, 'n_estimators': 220}\n",
      "Mean_test: 0.826062394074446, Mean_train:0.9301361551917047, Params:{'bootstrap': True, 'max_depth': 8, 'max_features': 11, 'n_estimators': 100}\n",
      "Mean_test: 0.8305567760969179, Mean_train:0.9287344185826623, Params:{'bootstrap': True, 'max_depth': 8, 'max_features': 11, 'n_estimators': 120}\n",
      "Mean_test: 0.8294520118008913, Mean_train:0.9306967710418078, Params:{'bootstrap': True, 'max_depth': 8, 'max_features': 11, 'n_estimators': 140}\n",
      "Mean_test: 0.8328165212478815, Mean_train:0.9318199725798572, Params:{'bootstrap': True, 'max_depth': 8, 'max_features': 11, 'n_estimators': 160}\n",
      "Mean_test: 0.832803967108154, Mean_train:0.929014135556361, Params:{'bootstrap': True, 'max_depth': 8, 'max_features': 11, 'n_estimators': 180}\n",
      "Mean_test: 0.8294457347310276, Mean_train:0.9295747514064642, Params:{'bootstrap': True, 'max_depth': 8, 'max_features': 11, 'n_estimators': 200}\n",
      "Mean_test: 0.8316866486723997, Mean_train:0.9329415982476321, Params:{'bootstrap': True, 'max_depth': 8, 'max_features': 11, 'n_estimators': 220}\n",
      "Mean_test: 0.8294331805913, Mean_train:0.9464097735474416, Params:{'bootstrap': True, 'max_depth': 10, 'max_features': 2, 'n_estimators': 100}\n",
      "Mean_test: 0.820475801895675, Mean_train:0.9441649463416171, Params:{'bootstrap': True, 'max_depth': 10, 'max_features': 2, 'n_estimators': 120}\n",
      "Mean_test: 0.8249576297784195, Mean_train:0.9438848354003498, Params:{'bootstrap': True, 'max_depth': 10, 'max_features': 2, 'n_estimators': 140}\n",
      "Mean_test: 0.821599397401293, Mean_train:0.9450068550356935, Params:{'bootstrap': True, 'max_depth': 10, 'max_features': 2, 'n_estimators': 160}\n",
      "Mean_test: 0.8260812252840374, Mean_train:0.944726744094426, Params:{'bootstrap': True, 'max_depth': 10, 'max_features': 2, 'n_estimators': 180}\n",
      "Mean_test: 0.8328227983177452, Mean_train:0.9452869659769607, Params:{'bootstrap': True, 'max_depth': 10, 'max_features': 2, 'n_estimators': 200}\n",
      "Mean_test: 0.8272048207896553, Mean_train:0.9436047244590826, Params:{'bootstrap': True, 'max_depth': 10, 'max_features': 2, 'n_estimators': 220}\n",
      "Mean_test: 0.8316992028121273, Mean_train:0.9492163985060749, Params:{'bootstrap': True, 'max_depth': 10, 'max_features': 4, 'n_estimators': 100}\n",
      "Mean_test: 0.8328227983177452, Mean_train:0.9492152166033693, Params:{'bootstrap': True, 'max_depth': 10, 'max_features': 4, 'n_estimators': 120}\n",
      "Mean_test: 0.8316803716025358, Mean_train:0.9480943788707314, Params:{'bootstrap': True, 'max_depth': 10, 'max_features': 4, 'n_estimators': 140}\n",
      "Mean_test: 0.8350386039796623, Mean_train:0.9472520762090865, Params:{'bootstrap': True, 'max_depth': 10, 'max_features': 4, 'n_estimators': 160}\n",
      "Mean_test: 0.8305567760969181, Mean_train:0.9486549947208346, Params:{'bootstrap': True, 'max_depth': 10, 'max_features': 4, 'n_estimators': 180}\n",
      "Mean_test: 0.8339401167534994, Mean_train:0.9480947728382999, Params:{'bootstrap': True, 'max_depth': 10, 'max_features': 4, 'n_estimators': 200}\n",
      "Mean_test: 0.8283346933651371, Mean_train:0.9480943788707312, Params:{'bootstrap': True, 'max_depth': 10, 'max_features': 4, 'n_estimators': 220}\n",
      "Mean_test: 0.8395329860021341, Mean_train:0.9497774083237468, Params:{'bootstrap': True, 'max_depth': 10, 'max_features': 6, 'n_estimators': 100}\n",
      "Mean_test: 0.8294457347310276, Mean_train:0.9514612257118994, Params:{'bootstrap': True, 'max_depth': 10, 'max_features': 6, 'n_estimators': 120}\n",
      "Mean_test: 0.8339401167534994, Mean_train:0.9511815087382007, Params:{'bootstrap': True, 'max_depth': 10, 'max_features': 6, 'n_estimators': 140}\n",
      "Mean_test: 0.8361684765551441, Mean_train:0.9525848212175173, Params:{'bootstrap': True, 'max_depth': 10, 'max_features': 6, 'n_estimators': 160}\n",
      "Mean_test: 0.8406628585776159, Mean_train:0.953987345761697, Params:{'bootstrap': True, 'max_depth': 10, 'max_features': 6, 'n_estimators': 180}\n",
      "Mean_test: 0.8350511581193898, Mean_train:0.9508998219266591, Params:{'bootstrap': True, 'max_depth': 10, 'max_features': 6, 'n_estimators': 200}\n",
      "Mean_test: 0.8350637122591174, Mean_train:0.9539861638589912, Params:{'bootstrap': True, 'max_depth': 10, 'max_features': 6, 'n_estimators': 220}\n",
      "Mean_test: 0.8384219446362439, Mean_train:0.9531446491324834, Params:{'bootstrap': True, 'max_depth': 10, 'max_features': 8, 'n_estimators': 100}\n",
      "Mean_test: 0.8339338396836358, Mean_train:0.9542662748002584, Params:{'bootstrap': True, 'max_depth': 10, 'max_features': 8, 'n_estimators': 120}\n",
      "Mean_test: 0.8272110978595192, Mean_train:0.9542670627353956, Params:{'bootstrap': True, 'max_depth': 10, 'max_features': 8, 'n_estimators': 140}\n",
      "Mean_test: 0.8361810306948717, Mean_train:0.9539873457616969, Params:{'bootstrap': True, 'max_depth': 10, 'max_features': 8, 'n_estimators': 160}\n",
      "Mean_test: 0.8361747536250078, Mean_train:0.952302740438407, Params:{'bootstrap': True, 'max_depth': 10, 'max_features': 8, 'n_estimators': 180}\n",
      "Mean_test: 0.8294394576611637, Mean_train:0.9565114959736516, Params:{'bootstrap': True, 'max_depth': 10, 'max_features': 8, 'n_estimators': 200}\n",
      "Mean_test: 0.8305756073065093, Mean_train:0.9542666687678271, Params:{'bootstrap': True, 'max_depth': 10, 'max_features': 8, 'n_estimators': 220}\n",
      "Mean_test: 0.8294457347310276, Mean_train:0.957352222765022, Params:{'bootstrap': True, 'max_depth': 10, 'max_features': 11, 'n_estimators': 100}\n",
      "Mean_test: 0.8215868432615654, Mean_train:0.9573526167325905, Params:{'bootstrap': True, 'max_depth': 10, 'max_features': 11, 'n_estimators': 120}\n",
      "Mean_test: 0.8328165212478815, Mean_train:0.9559493042532738, Params:{'bootstrap': True, 'max_depth': 10, 'max_features': 11, 'n_estimators': 140}\n",
      "Mean_test: 0.8238340342728014, Mean_train:0.9562309910648155, Params:{'bootstrap': True, 'max_depth': 10, 'max_features': 11, 'n_estimators': 160}\n",
      "Mean_test: 0.8249576297784195, Mean_train:0.9587559292119072, Params:{'bootstrap': True, 'max_depth': 10, 'max_features': 11, 'n_estimators': 180}\n",
      "Mean_test: 0.828315862155546, Mean_train:0.9570721118237546, Params:{'bootstrap': True, 'max_depth': 10, 'max_features': 11, 'n_estimators': 200}\n",
      "Mean_test: 0.8271985437197916, Mean_train:0.9576331216414264, Params:{'bootstrap': True, 'max_depth': 10, 'max_features': 11, 'n_estimators': 220}\n"
     ]
    }
   ],
   "source": [
    "results = grid_search.cv_results_\n",
    "\n",
    "for mean_test, mean_train, params in zip(results['mean_test_score'], results['mean_train_score'], results['params']):\n",
    "    print(f'Mean_test: {mean_test}, Mean_train:{mean_train}, Params:{params}')"
   ]
  },
  {
   "cell_type": "code",
   "execution_count": 106,
   "metadata": {
    "colab": {
     "base_uri": "https://localhost:8080/"
    },
    "id": "oyTN4eQ_b9CC",
    "outputId": "3872a44b-be5c-4eb7-8029-3e5a67afef83"
   },
   "outputs": [
    {
     "data": {
      "text/plain": [
       "(0.8417927311530977,\n",
       " 0.9250843090596781,\n",
       " {'bootstrap': True, 'max_depth': 8, 'max_features': 8, 'n_estimators': 200})"
      ]
     },
     "execution_count": 106,
     "metadata": {
      "tags": []
     },
     "output_type": "execute_result"
    }
   ],
   "source": [
    "results['mean_test_score'][np.argmax(results['mean_test_score'])], results['mean_train_score'][np.argmax(results['mean_test_score'])], results['params'][np.argmax(results['mean_test_score'])]"
   ]
  },
  {
   "cell_type": "code",
   "execution_count": null,
   "metadata": {
    "id": "C_tzI4CWcGRz"
   },
   "outputs": [],
   "source": []
  },
  {
   "cell_type": "markdown",
   "metadata": {
    "id": "S3PVMiQM1SAw"
   },
   "source": [
    "# Submision"
   ]
  },
  {
   "cell_type": "code",
   "execution_count": 107,
   "metadata": {
    "id": "p-mTszzwccec"
   },
   "outputs": [],
   "source": [
    "final_model = grid_search.best_estimator_"
   ]
  },
  {
   "cell_type": "code",
   "execution_count": 108,
   "metadata": {
    "colab": {
     "base_uri": "https://localhost:8080/",
     "height": 204
    },
    "id": "lErdI1UV1T40",
    "outputId": "b07a113c-b3ac-4d89-87cd-6ca6105284d5"
   },
   "outputs": [
    {
     "data": {
      "text/html": [
       "<div>\n",
       "<style scoped>\n",
       "    .dataframe tbody tr th:only-of-type {\n",
       "        vertical-align: middle;\n",
       "    }\n",
       "\n",
       "    .dataframe tbody tr th {\n",
       "        vertical-align: top;\n",
       "    }\n",
       "\n",
       "    .dataframe thead th {\n",
       "        text-align: right;\n",
       "    }\n",
       "</style>\n",
       "<table border=\"1\" class=\"dataframe\">\n",
       "  <thead>\n",
       "    <tr style=\"text-align: right;\">\n",
       "      <th></th>\n",
       "      <th>PassengerId</th>\n",
       "      <th>Pclass</th>\n",
       "      <th>Name</th>\n",
       "      <th>Sex</th>\n",
       "      <th>Age</th>\n",
       "      <th>SibSp</th>\n",
       "      <th>Parch</th>\n",
       "      <th>Ticket</th>\n",
       "      <th>Fare</th>\n",
       "      <th>Cabin</th>\n",
       "      <th>Embarked</th>\n",
       "    </tr>\n",
       "  </thead>\n",
       "  <tbody>\n",
       "    <tr>\n",
       "      <th>0</th>\n",
       "      <td>892</td>\n",
       "      <td>3</td>\n",
       "      <td>Kelly, Mr. James</td>\n",
       "      <td>male</td>\n",
       "      <td>34.5</td>\n",
       "      <td>0</td>\n",
       "      <td>0</td>\n",
       "      <td>330911</td>\n",
       "      <td>7.8292</td>\n",
       "      <td>NaN</td>\n",
       "      <td>Q</td>\n",
       "    </tr>\n",
       "    <tr>\n",
       "      <th>1</th>\n",
       "      <td>893</td>\n",
       "      <td>3</td>\n",
       "      <td>Wilkes, Mrs. James (Ellen Needs)</td>\n",
       "      <td>female</td>\n",
       "      <td>47.0</td>\n",
       "      <td>1</td>\n",
       "      <td>0</td>\n",
       "      <td>363272</td>\n",
       "      <td>7.0000</td>\n",
       "      <td>NaN</td>\n",
       "      <td>S</td>\n",
       "    </tr>\n",
       "    <tr>\n",
       "      <th>2</th>\n",
       "      <td>894</td>\n",
       "      <td>2</td>\n",
       "      <td>Myles, Mr. Thomas Francis</td>\n",
       "      <td>male</td>\n",
       "      <td>62.0</td>\n",
       "      <td>0</td>\n",
       "      <td>0</td>\n",
       "      <td>240276</td>\n",
       "      <td>9.6875</td>\n",
       "      <td>NaN</td>\n",
       "      <td>Q</td>\n",
       "    </tr>\n",
       "    <tr>\n",
       "      <th>3</th>\n",
       "      <td>895</td>\n",
       "      <td>3</td>\n",
       "      <td>Wirz, Mr. Albert</td>\n",
       "      <td>male</td>\n",
       "      <td>27.0</td>\n",
       "      <td>0</td>\n",
       "      <td>0</td>\n",
       "      <td>315154</td>\n",
       "      <td>8.6625</td>\n",
       "      <td>NaN</td>\n",
       "      <td>S</td>\n",
       "    </tr>\n",
       "    <tr>\n",
       "      <th>4</th>\n",
       "      <td>896</td>\n",
       "      <td>3</td>\n",
       "      <td>Hirvonen, Mrs. Alexander (Helga E Lindqvist)</td>\n",
       "      <td>female</td>\n",
       "      <td>22.0</td>\n",
       "      <td>1</td>\n",
       "      <td>1</td>\n",
       "      <td>3101298</td>\n",
       "      <td>12.2875</td>\n",
       "      <td>NaN</td>\n",
       "      <td>S</td>\n",
       "    </tr>\n",
       "  </tbody>\n",
       "</table>\n",
       "</div>"
      ],
      "text/plain": [
       "   PassengerId  Pclass  ... Cabin Embarked\n",
       "0          892       3  ...   NaN        Q\n",
       "1          893       3  ...   NaN        S\n",
       "2          894       2  ...   NaN        Q\n",
       "3          895       3  ...   NaN        S\n",
       "4          896       3  ...   NaN        S\n",
       "\n",
       "[5 rows x 11 columns]"
      ]
     },
     "execution_count": 108,
     "metadata": {
      "tags": []
     },
     "output_type": "execute_result"
    }
   ],
   "source": [
    "X_test.head()"
   ]
  },
  {
   "cell_type": "code",
   "execution_count": 109,
   "metadata": {
    "id": "bD9dokUd1Umt"
   },
   "outputs": [],
   "source": [
    "ids = X_test['PassengerId']\n",
    "X_test_transformed = full_pipeline.fit_transform(X_test)"
   ]
  },
  {
   "cell_type": "code",
   "execution_count": 111,
   "metadata": {
    "id": "nik-Hf1W1nTb"
   },
   "outputs": [],
   "source": [
    "y_pred = final_model.predict(X_test_transformed)"
   ]
  },
  {
   "cell_type": "code",
   "execution_count": 112,
   "metadata": {
    "colab": {
     "base_uri": "https://localhost:8080/"
    },
    "id": "Sx80nPgT1zwL",
    "outputId": "a84f68e1-427a-4760-bc3c-b1906a026a14"
   },
   "outputs": [
    {
     "data": {
      "text/plain": [
       "(418, 418)"
      ]
     },
     "execution_count": 112,
     "metadata": {
      "tags": []
     },
     "output_type": "execute_result"
    }
   ],
   "source": [
    "len(y_pred), len(ids)"
   ]
  },
  {
   "cell_type": "code",
   "execution_count": 113,
   "metadata": {
    "id": "drqPthfQ103d"
   },
   "outputs": [],
   "source": [
    "submission_data = np.c_[ids, y_pred]"
   ]
  },
  {
   "cell_type": "code",
   "execution_count": 114,
   "metadata": {
    "id": "YgDz8BLw2I-7"
   },
   "outputs": [],
   "source": [
    "submission_df = pd.DataFrame(submission_data, columns=['PassengerId', 'Survived'])"
   ]
  },
  {
   "cell_type": "code",
   "execution_count": 115,
   "metadata": {
    "id": "OAA6bCd52Qvi"
   },
   "outputs": [],
   "source": [
    "submission_df.to_csv('random_forest_84_accuracy.csv', index=False)"
   ]
  }
 ],
 "metadata": {
  "colab": {
   "collapsed_sections": [],
   "name": "Titanic_dataset_analysis.ipynb",
   "provenance": [],
   "toc_visible": true
  },
  "kernelspec": {
   "display_name": "Python 3",
   "language": "python",
   "name": "python3"
  },
  "language_info": {
   "codemirror_mode": {
    "name": "ipython",
    "version": 3
   },
   "file_extension": ".py",
   "mimetype": "text/x-python",
   "name": "python",
   "nbconvert_exporter": "python",
   "pygments_lexer": "ipython3",
   "version": "3.8.3"
  }
 },
 "nbformat": 4,
 "nbformat_minor": 4
}
